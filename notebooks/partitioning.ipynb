{
 "metadata": {
  "language_info": {
   "codemirror_mode": {
    "name": "ipython",
    "version": 3
   },
   "file_extension": ".py",
   "mimetype": "text/x-python",
   "name": "python",
   "nbconvert_exporter": "python",
   "pygments_lexer": "ipython3",
   "version": "3.8.3-final"
  },
  "orig_nbformat": 2,
  "kernelspec": {
   "name": "python3",
   "display_name": "Python 3"
  }
 },
 "nbformat": 4,
 "nbformat_minor": 2,
 "cells": [
  {
   "cell_type": "code",
   "execution_count": 47,
   "metadata": {},
   "outputs": [
    {
     "output_type": "execute_result",
     "data": {
      "text/plain": [
       "100000"
      ]
     },
     "metadata": {},
     "execution_count": 47
    }
   ],
   "source": [
    "import json\n",
    "import os\n",
    "\n",
    "data_folder = \"../data\"\n",
    "names_filepath = os.path.join(data_folder, \"names.json\")\n",
    "\n",
    "full_names = None\n",
    "with open(names_filepath, \"r\") as fp_:\n",
    "    full_names = json.load(fp_)\n",
    "\n",
    "len(full_names)\n",
    "full_names = sorted(full_names)\n",
    "\n",
    "names = full_names[7858756:7959756]\n",
    "names.index(\"Will Smith\")\n"
   ]
  },
  {
   "cell_type": "code",
   "execution_count": 63,
   "metadata": {},
   "outputs": [],
   "source": [
    "from datetime import datetime\n",
    "from polyleven import levenshtein\n",
    "from nltk import ngrams\n",
    "\n",
    "\n",
    "def get_partitions(sorted_sums, unique_sums):\n",
    "    bounds = []\n",
    "    for u in unique_sums:\n",
    "        lower_bound = -1\n",
    "        upper_bound = -1\n",
    "        for i, t in enumerate(sorted_sums):\n",
    "            if lower_bound == -1 and t[0] == u:\n",
    "                lower_bound = i\n",
    "            if lower_bound != -1 and t[0] != u:\n",
    "                upper_bound = i\n",
    "                break\n",
    "        bounds.append((u, lower_bound, upper_bound))\n",
    "    last_item = bounds[len(bounds) -1]\n",
    "    bounds[len(bounds) - 1] = (last_item[0], last_item[1], len(sorted_sums) - 1)\n",
    "    return bounds\n",
    "\n",
    "def get_bounds_from_partitions(q, partitions, threshold=15):\n",
    "    bounding_partitions = None\n",
    "    for i, p in enumerate(partitions):\n",
    "        if q >= p[0]:\n",
    "            lower = i - threshold\n",
    "            upper = i + threshold\n",
    "            if lower < 0:\n",
    "                lower = 0\n",
    "            if upper > len(partitions) - 1:\n",
    "                upper = len(partitions) - 1\n",
    "            bounding_partitions = (partitions[lower], partitions[upper])\n",
    "\n",
    "    if bounding_partitions is None:\n",
    "         bounding_partitions = (partitions[len(partitions) - threshold - 1], partitions[len(partitions) - 1])\n",
    "    \n",
    "    lower_index = bounding_partitions[0][1]\n",
    "    upper_index = bounding_partitions[1][1]\n",
    "    return (lower_index, upper_index)\n",
    "\n",
    "def string_to_hist(str_):\n",
    "    characters = \"abcdefghijklmnopqrstuvxwyz\"\n",
    "    char_map = {\n",
    "    }\n",
    "\n",
    "    for ch in characters:\n",
    "        char_map[ch] = 0\n",
    "    for ch in str_:\n",
    "        if ch in \"abcdefghijklmnopqrstuvxwyz\":\n",
    "            char_map[ch] += 1\n",
    "    return char_map\n",
    "\n",
    "def string_to_vector(str_):\n",
    "    weights = {\n",
    "        \"a\": 1,\n",
    "        \"b\": 3,\n",
    "        \"c\": 3,\n",
    "        \"d\": 3,\n",
    "        \"e\": 2,\n",
    "        \"f\": 3,\n",
    "        \"g\": 3,\n",
    "        \"h\": 5,\n",
    "        \"i\": 2,\n",
    "        \"j\": 4,\n",
    "        \"k\": 4,\n",
    "        \"l\": 4,\n",
    "        \"m\": 4,\n",
    "        \"n\": 5,\n",
    "        \"o\": 1,\n",
    "        \"p\": 4,\n",
    "        \"q\": 6,\n",
    "        \"r\": 4,\n",
    "        \"s\": 3,\n",
    "        \"t\": 4,\n",
    "        \"u\": 2,\n",
    "        \"v\": 5,\n",
    "        \"x\": 8,\n",
    "        \"w\": 7,\n",
    "        \"y\": 9,\n",
    "        \"z\": 10\n",
    "    }\n",
    "    array = []\n",
    "    characters = \"abcdefghijklmnopqrstuvxwyz\"\n",
    "    for i in range(len(characters)):\n",
    "        array.append(0)\n",
    "    hist = string_to_hist(str_)\n",
    "    for i, ch in enumerate(characters):\n",
    "        # array[i] = hist[ch] * weights[ch]\n",
    "        array[i] = hist[ch]\n",
    "    return array\n",
    "\n",
    "\n",
    "def compute_vector_sums(dataset):\n",
    "    vectors = []\n",
    "    sums_ = []\n",
    "    for name in dataset:\n",
    "        vec = string_to_vector(name.lower())\n",
    "        vectors.append(vec)\n",
    "        sums_.append((sum(vec), name))\n",
    "    return sorted(sums_)\n",
    "\n",
    "def get_unique_sums(sorted_sums):\n",
    "    just_nums = [x[0] for x in sorted_sums]\n",
    "    return list(set(just_nums))\n",
    "\n",
    "def preprocess(dataset):\n",
    "    sums = compute_vector_sums(dataset)\n",
    "    unique_sums = get_unique_sums(sums)\n",
    "    print(\"Unique sums \", len(unique_sums))\n",
    "    partitions = get_partitions(sums, unique_sums)\n",
    "    return sums, partitions\n",
    "\n",
    "\n",
    "def query_in_sorted_sums(sentence, sorted_sums, partitions, threshold=5):\n",
    "    start = datetime.now()\n",
    "\n",
    "    max_tokens = 10\n",
    "    combinations  = []\n",
    "    for i in range(1, min(len(sentence), max_tokens)):\n",
    "        gr = ngrams(sentence.split(), i + 1)\n",
    "        for g in gr:\n",
    "            combinations.append(\" \".join(g))\n",
    "\n",
    "    csums = [sum(string_to_vector(c.lower())) for c in combinations]\n",
    "    same_sum = []\n",
    "    min_distance = 999999999\n",
    "    min_name = \"\"\n",
    "    min_c = \"\"\n",
    "\n",
    "\n",
    "    best_matches = []\n",
    "    for csum, c in zip(csums, combinations):\n",
    "        bounds = get_bounds_from_partitions(csum, partitions, threshold=threshold)\n",
    "        partition = sorted_sums[bounds[0]:bounds[1]]\n",
    "        for sum_, name in partition:\n",
    "            distance = levenshtein(name, c, threshold)\n",
    "            if distance < min_distance:\n",
    "                min_distance = distance\n",
    "                min_name = name\n",
    "                min_c = c\n",
    "                best_matches.append((min_distance, min_name, min_c))\n",
    "\n",
    "    end = datetime.now()\n",
    "    print(\"Query for `{}`. Best match: `{}` (distance: `{}`, ngram: `{}`) - elapsed time: {} - threshold:{}\".format(sentence, min_name, min_distance, min_c, end - start, threshold))\n"
   ]
  },
  {
   "cell_type": "code",
   "execution_count": 64,
   "metadata": {},
   "outputs": [
    {
     "output_type": "stream",
     "name": "stdout",
     "text": [
      "Unique sums  45\n",
      "101000 45\n"
     ]
    }
   ],
   "source": [
    "sums, partitions = preprocess(names)\n",
    "print(len(sums), len(partitions))"
   ]
  },
  {
   "cell_type": "code",
   "execution_count": 65,
   "metadata": {},
   "outputs": [
    {
     "output_type": "stream",
     "name": "stdout",
     "text": [
      "Query for `I want to watch a movie with Will Smith`. Best match: `Will Smith` (distance: `0`, ngram: `Will Smith`) - elapsed time: 0:00:01.005490 - threshold:5\n",
      "Query for `I want to watch a movie with Will Smith`. Best match: `Will Smith` (distance: `0`, ngram: `Will Smith`) - elapsed time: 0:00:00.807481 - threshold:4\n",
      "Query for `I want to watch a movie with Will Smith`. Best match: `Will Smith` (distance: `0`, ngram: `Will Smith`) - elapsed time: 0:00:00.569266 - threshold:3\n",
      "Query for `I want to watch a movie with Will Smith`. Best match: `Will Smith` (distance: `0`, ngram: `Will Smith`) - elapsed time: 0:00:00.355017 - threshold:2\n",
      "Query for `I want to watch a movie with Will Smith`. Best match: `Will Smith` (distance: `0`, ngram: `Will Smith`) - elapsed time: 0:00:00.196040 - threshold:1\n",
      "Query for `I want to watch a movie with Will Smit`. Best match: `Will Smith` (distance: `1`, ngram: `Will Smit`) - elapsed time: 0:00:01.102483 - threshold:5\n",
      "Query for `I want to watch a movie with Will Smit`. Best match: `Will Smith` (distance: `1`, ngram: `Will Smit`) - elapsed time: 0:00:00.783594 - threshold:4\n",
      "Query for `I want to watch a movie with Will Smit`. Best match: `Will Smith` (distance: `1`, ngram: `Will Smit`) - elapsed time: 0:00:00.548121 - threshold:3\n",
      "Query for `I want to watch a movie with Will Smit`. Best match: `Will Smith` (distance: `1`, ngram: `Will Smit`) - elapsed time: 0:00:00.344967 - threshold:2\n",
      "Query for `I want to watch a movie with Will Smit`. Best match: `Vipa` (distance: `2`, ngram: `I want`) - elapsed time: 0:00:00.161677 - threshold:1\n",
      "Query for `I want to watch a movie with Will Xmit`. Best match: `Will Smith` (distance: `2`, ngram: `Will Xmit`) - elapsed time: 0:00:00.966837 - threshold:5\n",
      "Query for `I want to watch a movie with Will Xmit`. Best match: `Will Smith` (distance: `2`, ngram: `Will Xmit`) - elapsed time: 0:00:00.779020 - threshold:4\n",
      "Query for `I want to watch a movie with Will Xmit`. Best match: `Will Smith` (distance: `2`, ngram: `Will Xmit`) - elapsed time: 0:00:00.535310 - threshold:3\n",
      "Query for `I want to watch a movie with Will Xmit`. Best match: `Will Smith` (distance: `2`, ngram: `Will Xmit`) - elapsed time: 0:00:00.349004 - threshold:2\n",
      "Query for `I want to watch a movie with Will Xmit`. Best match: `Vipa` (distance: `2`, ngram: `I want`) - elapsed time: 0:00:00.163493 - threshold:1\n",
      "Query for `I want to watch a movie with Smith`. Best match: `Wawan` (distance: `3`, ngram: `I want`) - elapsed time: 0:00:00.826726 - threshold:5\n",
      "Query for `I want to watch a movie with Smith`. Best match: `Wawan` (distance: `3`, ngram: `I want`) - elapsed time: 0:00:00.670474 - threshold:4\n",
      "Query for `I want to watch a movie with Smith`. Best match: `Wawan` (distance: `3`, ngram: `I want`) - elapsed time: 0:00:00.461227 - threshold:3\n",
      "Query for `I want to watch a movie with Smith`. Best match: `Vip` (distance: `3`, ngram: `I want`) - elapsed time: 0:00:00.292188 - threshold:2\n",
      "Query for `I want to watch a movie with Smith`. Best match: `Vipa` (distance: `2`, ngram: `I want`) - elapsed time: 0:00:00.135943 - threshold:1\n"
     ]
    }
   ],
   "source": [
    "# query_in_sorted_sums(\"I want to watch a movie with Will Smith\", sums, partitions, threshold=50)\n",
    "# query_in_sorted_sums(\"I want to watch a movie with Will Smith\", sums, partitions, threshold=30)\n",
    "# query_in_sorted_sums(\"I want to watch a movie with Will Smith\", sums, partitions, threshold=15)\n",
    "# query_in_sorted_sums(\"I want to watch a movie with Will Smith\", sums, partitions, threshold=12)\n",
    "# query_in_sorted_sums(\"I want to watch a movie with Will Smith\", sums, partitions, threshold=10)\n",
    "query_in_sorted_sums(\"I want to watch a movie with Will Smith\", sums, partitions, threshold=5)\n",
    "query_in_sorted_sums(\"I want to watch a movie with Will Smith\", sums, partitions, threshold=4)\n",
    "query_in_sorted_sums(\"I want to watch a movie with Will Smith\", sums, partitions, threshold=3)\n",
    "query_in_sorted_sums(\"I want to watch a movie with Will Smith\", sums, partitions, threshold=2)\n",
    "query_in_sorted_sums(\"I want to watch a movie with Will Smith\", sums, partitions, threshold=1)\n",
    "\n",
    "# query_in_sorted_sums(\"I want to watch a movie with Will Smit\", sums, partitions, threshold=50)\n",
    "# query_in_sorted_sums(\"I want to watch a movie with Will Smit\", sums, partitions, threshold=30)\n",
    "# query_in_sorted_sums(\"I want to watch a movie with Will Smit\", sums, partitions, threshold=15)\n",
    "# query_in_sorted_sums(\"I want to watch a movie with Will Smit\", sums, partitions, threshold=12)\n",
    "# query_in_sorted_sums(\"I want to watch a movie with Will Smit\", sums, partitions, threshold=10)\n",
    "query_in_sorted_sums(\"I want to watch a movie with Will Smit\", sums, partitions, threshold=5)\n",
    "query_in_sorted_sums(\"I want to watch a movie with Will Smit\", sums, partitions, threshold=4)\n",
    "query_in_sorted_sums(\"I want to watch a movie with Will Smit\", sums, partitions, threshold=3)\n",
    "query_in_sorted_sums(\"I want to watch a movie with Will Smit\", sums, partitions, threshold=2)\n",
    "query_in_sorted_sums(\"I want to watch a movie with Will Smit\", sums, partitions, threshold=1)\n",
    "\n",
    "\n",
    "query_in_sorted_sums(\"I want to watch a movie with Will Xmit\", sums, partitions, threshold=5)\n",
    "query_in_sorted_sums(\"I want to watch a movie with Will Xmit\", sums, partitions, threshold=4)\n",
    "query_in_sorted_sums(\"I want to watch a movie with Will Xmit\", sums, partitions, threshold=3)\n",
    "query_in_sorted_sums(\"I want to watch a movie with Will Xmit\", sums, partitions, threshold=2)\n",
    "query_in_sorted_sums(\"I want to watch a movie with Will Xmit\", sums, partitions, threshold=1)\n",
    "\n",
    "\n",
    "query_in_sorted_sums(\"I want to watch a movie with Smith\", sums, partitions, threshold=5)\n",
    "query_in_sorted_sums(\"I want to watch a movie with Smith\", sums, partitions, threshold=4)\n",
    "query_in_sorted_sums(\"I want to watch a movie with Smith\", sums, partitions, threshold=3)\n",
    "query_in_sorted_sums(\"I want to watch a movie with Smith\", sums, partitions, threshold=2)\n",
    "query_in_sorted_sums(\"I want to watch a movie with Smith\", sums, partitions, threshold=1)"
   ]
  },
  {
   "cell_type": "code",
   "execution_count": 66,
   "metadata": {},
   "outputs": [
    {
     "output_type": "stream",
     "name": "stdout",
     "text": [
      "Unique sums  69\n",
      "8197423 69\n"
     ]
    }
   ],
   "source": [
    "\n",
    "full_sums, full_partitions = preprocess(full_names)\n",
    "print(len(full_sums), len(full_partitions))\n",
    "\n"
   ]
  },
  {
   "cell_type": "code",
   "execution_count": 67,
   "metadata": {},
   "outputs": [
    {
     "output_type": "stream",
     "name": "stdout",
     "text": [
      "Query for `I want to watch a movie with Will Smith`. Best match: `Will Smith` (distance: `0`, ngram: `Will Smith`) - elapsed time: 0:01:19.723694 - threshold:5\n",
      "Query for `I want to watch a movie with Will Smith`. Best match: `Will Smith` (distance: `0`, ngram: `Will Smith`) - elapsed time: 0:01:05.582524 - threshold:4\n",
      "Query for `I want to watch a movie with Will Smith`. Best match: `Will Smith` (distance: `0`, ngram: `Will Smith`) - elapsed time: 0:00:43.888062 - threshold:3\n",
      "Query for `I want to watch a movie with Will Smith`. Best match: `Will Smith` (distance: `0`, ngram: `Will Smith`) - elapsed time: 0:00:28.413207 - threshold:2\n",
      "Query for `I want to watch a movie with Will Smith`. Best match: `Will Smith` (distance: `0`, ngram: `Will Smith`) - elapsed time: 0:00:14.742331 - threshold:1\n"
     ]
    }
   ],
   "source": [
    "query_in_sorted_sums(\"I want to watch a movie with Will Smith\", full_sums, full_partitions, threshold=5)\n",
    "query_in_sorted_sums(\"I want to watch a movie with Will Smith\", full_sums, full_partitions, threshold=4)\n",
    "query_in_sorted_sums(\"I want to watch a movie with Will Smith\", full_sums, full_partitions, threshold=3)\n",
    "query_in_sorted_sums(\"I want to watch a movie with Will Smith\", full_sums, full_partitions, threshold=2)\n",
    "query_in_sorted_sums(\"I want to watch a movie with Will Smith\", full_sums, full_partitions, threshold=1)\n"
   ]
  },
  {
   "cell_type": "code",
   "execution_count": 74,
   "metadata": {},
   "outputs": [
    {
     "output_type": "stream",
     "name": "stdout",
     "text": [
      "6\n4\n6\n"
     ]
    }
   ],
   "source": [
    "import editdistance\n",
    "\n",
    "print(levenshtein(\"Vip\", \"I want\"))\n",
    "print(levenshtein(\"Vip\", \"I want\", 3))\n",
    "print(editdistance.eval(\"Vip\", \"I want\"))"
   ]
  },
  {
   "cell_type": "code",
   "execution_count": null,
   "metadata": {},
   "outputs": [],
   "source": []
  }
 ]
}