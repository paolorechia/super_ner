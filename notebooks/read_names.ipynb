{
 "metadata": {
  "language_info": {
   "codemirror_mode": {
    "name": "ipython",
    "version": 3
   },
   "file_extension": ".py",
   "mimetype": "text/x-python",
   "name": "python",
   "nbconvert_exporter": "python",
   "pygments_lexer": "ipython3",
   "version": "3.8.3-final"
  },
  "orig_nbformat": 2,
  "kernelspec": {
   "name": "python3",
   "display_name": "Python 3.8.3 64-bit ('super_ner')",
   "metadata": {
    "interpreter": {
     "hash": "3bd3c84877896647590d4d5061fdf1775af46d4148333dbeaedf7fe64fafe574"
    }
   }
  }
 },
 "nbformat": 4,
 "nbformat_minor": 2,
 "cells": [
  {
   "cell_type": "code",
   "execution_count": 2,
   "metadata": {},
   "outputs": [
    {
     "output_type": "execute_result",
     "data": {
      "text/plain": [
       "8197423"
      ]
     },
     "metadata": {},
     "execution_count": 2
    }
   ],
   "source": [
    "import json\n",
    "import os\n",
    "\n",
    "data_folder = \"../data\"\n",
    "names_filepath = os.path.join(data_folder, \"names.json\")\n",
    "\n",
    "names = None\n",
    "with open(names_filepath, \"r\") as fp_:\n",
    "    names = json.load(fp_)\n",
    "\n",
    "len(names)"
   ]
  },
  {
   "cell_type": "code",
   "execution_count": 3,
   "metadata": {},
   "outputs": [],
   "source": [
    "names = sorted(names)"
   ]
  },
  {
   "cell_type": "code",
   "execution_count": 4,
   "metadata": {},
   "outputs": [
    {
     "output_type": "execute_result",
     "data": {
      "text/plain": [
       "7958756"
      ]
     },
     "metadata": {},
     "execution_count": 4
    }
   ],
   "source": [
    "names[:100]\n",
    "\n",
    "names.index(\"Will Smith\")"
   ]
  },
  {
   "cell_type": "code",
   "execution_count": 5,
   "metadata": {},
   "outputs": [
    {
     "output_type": "execute_result",
     "data": {
      "text/plain": [
       "'Will Smith'"
      ]
     },
     "metadata": {},
     "execution_count": 5
    }
   ],
   "source": [
    "names[7958756]"
   ]
  },
  {
   "cell_type": "code",
   "execution_count": 6,
   "metadata": {},
   "outputs": [
    {
     "output_type": "stream",
     "name": "stdout",
     "text": [
      "Query for Will Smith. Best match: $aint Smith (distance: 5) - elapsed time: 0:00:00.004531\n"
     ]
    }
   ],
   "source": [
    "import editdistance\n",
    "from datetime import datetime\n",
    "\n",
    "start = datetime.now()\n",
    "min_distance = 999999\n",
    "for name in names[:1000]:\n",
    "    distance = editdistance.eval(\"Will smith\", name)\n",
    "    if distance < min_distance:\n",
    "        min_distance = distance\n",
    "        min_name = name\n",
    "\n",
    "end = datetime.now()\n",
    "print(\"Query for Will Smith. Best match: {} (distance: {}) - elapsed time: {}\".format(min_name, min_distance, end - start))"
   ]
  },
  {
   "cell_type": "code",
   "execution_count": 7,
   "metadata": {},
   "outputs": [
    {
     "output_type": "stream",
     "name": "stdout",
     "text": [
      "['I', 'want', 'to', 'watch', 'a', 'movie', 'with', 'Will', 'Smith', 'I want', 'want to', 'to watch', 'watch a', 'a movie', 'movie with', 'with Will', 'Will Smith', 'I want to', 'want to watch', 'to watch a', 'watch a movie', 'a movie with', 'movie with Will', 'with Will Smith', 'I want to watch', 'want to watch a', 'to watch a movie', 'watch a movie with', 'a movie with Will', 'movie with Will Smith', 'I want to watch a', 'want to watch a movie', 'to watch a movie with', 'watch a movie with Will', 'a movie with Will Smith', 'I want to watch a movie', 'want to watch a movie with', 'to watch a movie with Will', 'watch a movie with Will Smith', 'I want to watch a movie with', 'want to watch a movie with Will', 'to watch a movie with Will Smith', 'I want to watch a movie with Will', 'want to watch a movie with Will Smith', 'I want to watch a movie with Will Smith']\n"
     ]
    }
   ],
   "source": [
    "\n",
    "from nltk import ngrams\n",
    "\n",
    "sentence = \"I want to watch a movie with Will Smith\"\n",
    "\n",
    "combinations  = []\n",
    "for i in range(0, len(sentence)):\n",
    "    gr = ngrams(sentence.split(), i + 1)\n",
    "    for g in gr:\n",
    "        combinations.append(\" \".join(g))\n",
    "\n",
    "print(combinations)\n",
    "\n"
   ]
  },
  {
   "cell_type": "code",
   "execution_count": 8,
   "metadata": {},
   "outputs": [
    {
     "output_type": "stream",
     "name": "stdout",
     "text": [
      "Query for I want to watch a movie with Will Smith. Best match: Will Smith (distance: 0, combination: Will Smith) - elapsed time: 0:00:07.642441\n"
     ]
    }
   ],
   "source": [
    "sentence = \"I want to watch a movie with Will Smith\"\n",
    "\n",
    "start = datetime.now()\n",
    "\n",
    "max_tokens = 99\n",
    "combinations  = []\n",
    "for i in range(1, min(len(sentence), max_tokens)):\n",
    "    gr = ngrams(sentence.split(), i + 1)\n",
    "    for g in gr:\n",
    "        combinations.append(\" \".join(g))\n",
    "\n",
    "min_name = \"\"\n",
    "min_c = \"\"\n",
    "best_matches = []\n",
    "min_distance = 999999\n",
    "for c in combinations:\n",
    "    for name in names[7858756:7959756]:\n",
    "        distance = editdistance.eval(c, name)\n",
    "        if distance < min_distance:\n",
    "            min_distance = distance\n",
    "            min_name = name\n",
    "            min_c = c\n",
    "            best_matches.append((min_distance, min_name, min_c))\n",
    "\n",
    "end = datetime.now()\n",
    "print(\"Query for {}. Best match: {} (distance: {}, combination: {}) - elapsed time: {}\".format(sentence, min_name, min_distance, min_c, end - start))\n",
    "# print(\"Best matches: {}\".format(best_matches))"
   ]
  },
  {
   "cell_type": "code",
   "execution_count": 9,
   "metadata": {},
   "outputs": [
    {
     "output_type": "stream",
     "name": "stdout",
     "text": [
      "Query for Will Smith. Found: True - elapsed time: 0:00:00.039320\n"
     ]
    }
   ],
   "source": [
    "\n",
    "start = datetime.now()\n",
    "names_set = set(names[7858756:7959756])\n",
    "min_distance = 999999\n",
    "found = \"Will Smith\" in names_set\n",
    "end = datetime.now()\n",
    "time_diff = end - start\n",
    "print(\"Query for Will Smith. Found: {} - elapsed time: {}\".format(found, time_diff))\n"
   ]
  },
  {
   "cell_type": "code",
   "execution_count": 10,
   "metadata": {},
   "outputs": [
    {
     "output_type": "stream",
     "name": "stdout",
     "text": [
      "Query for 'I want to watch a movie with Will Smith''. Found: 'True' in ngram: 'Will Smith'- elapsed time: 0:00:00.000899\n"
     ]
    }
   ],
   "source": [
    "sentence = \"I want to watch a movie with Will Smith\"\n",
    "\n",
    "start = datetime.now()\n",
    "\n",
    "combinations  = []\n",
    "for i in range(1, len(sentence)):\n",
    "    gr = ngrams(sentence.split(), i + 1)\n",
    "    for g in gr:\n",
    "        combinations.append(\" \".join(g))\n",
    "\n",
    "found_c = \"\"\n",
    "best_matches = []\n",
    "found = False\n",
    "\n",
    "for c in combinations:\n",
    "    min_distance = 999999\n",
    "    found = c in names_set\n",
    "    if found:\n",
    "        found_c = c\n",
    "        break\n",
    "\n",
    "end = datetime.now()\n",
    "time_diff = end - start\n",
    "\n",
    "print(\"Query for '{}''. Found: '{}' in ngram: '{}'- elapsed time: {}\".format(sentence, found, found_c, time_diff))\n"
   ]
  },
  {
   "cell_type": "code",
   "execution_count": 159,
   "metadata": {},
   "outputs": [
    {
     "output_type": "stream",
     "name": "stdout",
     "text": [
      "Query for I want to watch a movie with Will Smith. Best match: Will Smith (distance: 0, combination: Will Smith) - elapsed time: 0:00:02.418892\n"
     ]
    }
   ],
   "source": [
    "from polyleven import levenshtein\n",
    "\n",
    "\n",
    "sentence = \"I want to watch a movie with Will Smith\"\n",
    "\n",
    "start = datetime.now()\n",
    "\n",
    "max_tokens = 99\n",
    "combinations  = []\n",
    "for i in range(1, min(len(sentence), max_tokens)):\n",
    "    gr = ngrams(sentence.split(), i + 1)\n",
    "    for g in gr:\n",
    "        combinations.append(\" \".join(g))\n",
    "\n",
    "min_name = \"\"\n",
    "min_c = \"\"\n",
    "best_matches = []\n",
    "min_distance = 999999\n",
    "for c in combinations:\n",
    "    for name in names[7858756:7959756]:\n",
    "        distance = levenshtein(c, name)\n",
    "        if distance < min_distance:\n",
    "            min_distance = distance\n",
    "            min_name = name\n",
    "            min_c = c\n",
    "            best_matches.append((min_distance, min_name, min_c))\n",
    "\n",
    "end = datetime.now()\n",
    "print(\"Query for {}. Best match: {} (distance: {}, combination: {}) - elapsed time: {}\".format(sentence, min_name, min_distance, min_c, end - start))"
   ]
  },
  {
   "cell_type": "code",
   "execution_count": 157,
   "metadata": {},
   "outputs": [
    {
     "output_type": "stream",
     "name": "stdout",
     "text": [
      "Query for I want to watch a movie with Will Smith. Best match: Will Smith (distance: 0, combination: Will Smith) - elapsed time: 0:00:02.048269\n[(4, 'Violaine Morinville', 'I want'), (3, 'Visant', 'I want'), (2, 'Wally Smith', 'Will Smith'), (1, 'Wil Smith', 'Will Smith'), (0, 'Will Smith', 'Will Smith')]\n"
     ]
    }
   ],
   "source": [
    "from polyleven import levenshtein\n",
    "\n",
    "\n",
    "sentence = \"I want to watch a movie with Will Smith\"\n",
    "\n",
    "start = datetime.now()\n",
    "\n",
    "max_tokens = 10\n",
    "combinations  = []\n",
    "for i in range(1, min(len(sentence), max_tokens)):\n",
    "    gr = ngrams(sentence.split(), i + 1)\n",
    "    for g in gr:\n",
    "        combinations.append(\" \".join(g))\n",
    "\n",
    "min_name = \"\"\n",
    "min_c = \"\"\n",
    "best_matches = []\n",
    "min_distance = 999999\n",
    "for c in combinations:\n",
    "    for name in names[7858756:7959756]:\n",
    "        distance = levenshtein(c, name, 3)\n",
    "        if distance < min_distance:\n",
    "            min_distance = distance\n",
    "            min_name = name\n",
    "            min_c = c\n",
    "            best_matches.append((min_distance, min_name, min_c))\n",
    "\n",
    "end = datetime.now()\n",
    "print(\"Query for {}. Best match: {} (distance: {}, combination: {}) - elapsed time: {}\".format(sentence, min_name, min_distance, min_c, end - start))\n",
    "print(best_matches)"
   ]
  },
  {
   "cell_type": "code",
   "execution_count": null,
   "metadata": {},
   "outputs": [],
   "source": []
  },
  {
   "cell_type": "code",
   "execution_count": 41,
   "metadata": {},
   "outputs": [
    {
     "output_type": "stream",
     "name": "stdout",
     "text": [
      "Query for I want to watch a movie with Will Smith. Best match: $ourcerer Cryptocode (distance: 3, combination: movie with Will Smith) - elapsed time: 0:00:01.889210\n"
     ]
    }
   ],
   "source": []
  },
  {
   "cell_type": "code",
   "execution_count": 74,
   "metadata": {},
   "outputs": [],
   "source": [
    "def string_to_hist(str_):\n",
    "    characters = \"abcdefghijklmnopqrstuvxwyz\"\n",
    "    char_map = {\n",
    "    }\n",
    "\n",
    "    for ch in characters:\n",
    "        char_map[ch] = 0\n",
    "    for ch in str_:\n",
    "        if ch in \"abcdefghijklmnopqrstuvxwyz\":\n",
    "            char_map[ch] += 1\n",
    "    return char_map\n"
   ]
  },
  {
   "cell_type": "code",
   "execution_count": 24,
   "metadata": {},
   "outputs": [
    {
     "output_type": "stream",
     "name": "stdout",
     "text": [
      "4\n"
     ]
    }
   ],
   "source": [
    "\n",
    "a = \"aaabcdefg\"\n",
    "\n",
    "b = \"bbbcdefgh\"\n",
    "\n",
    "dist = levenshtein(a, b)\n",
    "print(dist)"
   ]
  },
  {
   "cell_type": "code",
   "execution_count": 19,
   "metadata": {},
   "outputs": [
    {
     "output_type": "stream",
     "name": "stdout",
     "text": [
      "226 ns ± 28 ns per loop (mean ± std. dev. of 7 runs, 1000000 loops each)\n"
     ]
    }
   ],
   "source": [
    "timeit levenshtein(a, b)"
   ]
  },
  {
   "cell_type": "code",
   "execution_count": 28,
   "metadata": {},
   "outputs": [
    {
     "output_type": "stream",
     "name": "stdout",
     "text": [
      "{'a': 3, 'b': 1, 'c': 1, 'd': 1, 'e': 1, 'f': 1, 'g': 1, 'h': 0, 'i': 0, 'j': 0, 'k': 0, 'l': 0, 'm': 0, 'n': 0, 'o': 0, 'p': 0, 'q': 0, 'r': 0, 's': 0, 't': 0, 'u': 0, 'v': 0, 'x': 0, 'w': 0, 'y': 0, 'z': 0}\n{'a': 0, 'b': 3, 'c': 1, 'd': 1, 'e': 1, 'f': 1, 'g': 1, 'h': 1, 'i': 0, 'j': 0, 'k': 0, 'l': 0, 'm': 0, 'n': 0, 'o': 0, 'p': 0, 'q': 0, 'r': 0, 's': 0, 't': 0, 'u': 0, 'v': 0, 'x': 0, 'w': 0, 'y': 0, 'z': 0}\n"
     ]
    }
   ],
   "source": [
    "hista = string_to_hist(a)\n",
    "print(hista)\n",
    "histb = string_to_hist(b)\n",
    "print(histb)"
   ]
  },
  {
   "cell_type": "code",
   "execution_count": 73,
   "metadata": {},
   "outputs": [],
   "source": [
    "def compare_hist(h1, h2):\n",
    "    sum_ = 0\n",
    "    for ch in \"abcdefghijklmnopqrstuvxwyz\":\n",
    "        sum_ += abs(h1[ch] - h2[ch])\n",
    "    return sum_\n",
    "\n"
   ]
  },
  {
   "cell_type": "code",
   "execution_count": 30,
   "metadata": {},
   "outputs": [
    {
     "output_type": "stream",
     "name": "stdout",
     "text": [
      "6\n"
     ]
    }
   ],
   "source": [
    "diff = compare_hist(hista, histb)\n",
    "print(diff)"
   ]
  },
  {
   "cell_type": "code",
   "execution_count": 31,
   "metadata": {},
   "outputs": [
    {
     "output_type": "stream",
     "name": "stdout",
     "text": [
      "2.78 µs ± 26.7 ns per loop (mean ± std. dev. of 7 runs, 100000 loops each)\n"
     ]
    }
   ],
   "source": [
    "timeit compare_hist(hista, histb)"
   ]
  },
  {
   "cell_type": "code",
   "execution_count": 128,
   "metadata": {},
   "outputs": [],
   "source": [
    "def string_to_vector(str_):\n",
    "    array = []\n",
    "    characters = \"abcdefghijklmnopqrstuvxwyz\"\n",
    "    for i in range(len(characters)):\n",
    "        array.append(0)\n",
    "    hist = string_to_hist(str_)\n",
    "    for i, ch in enumerate(characters):\n",
    "        array[i] = hist[ch] * (i * 10)\n",
    "    return array"
   ]
  },
  {
   "cell_type": "code",
   "execution_count": 129,
   "metadata": {},
   "outputs": [
    {
     "output_type": "stream",
     "name": "stdout",
     "text": [
      "[0, 10, 20, 30, 40, 50, 60, 0, 0, 0, 0, 0, 0, 0, 0, 0, 0, 0, 0, 0, 0, 0, 0, 0, 0, 0]\n[0, 30, 20, 30, 40, 50, 60, 70, 0, 0, 0, 0, 0, 0, 0, 0, 0, 0, 0, 0, 0, 0, 0, 0, 0, 0]\n"
     ]
    }
   ],
   "source": [
    "v = string_to_vector(a)\n",
    "u = string_to_vector(b)\n",
    "print(v)\n",
    "print(u)"
   ]
  },
  {
   "cell_type": "code",
   "execution_count": 111,
   "metadata": {},
   "outputs": [],
   "source": [
    "def compare_vector(u, v):\n",
    "    sum_ = 0\n",
    "    for i in range(len(u)):\n",
    "        sum_ += abs(v[i] - u[i])\n",
    "    return sum_\n"
   ]
  },
  {
   "cell_type": "code",
   "execution_count": 112,
   "metadata": {},
   "outputs": [
    {
     "output_type": "stream",
     "name": "stdout",
     "text": [
      "90\n"
     ]
    }
   ],
   "source": [
    "diff = compare_vector(u, v)\n",
    "print(diff)"
   ]
  },
  {
   "cell_type": "code",
   "execution_count": 113,
   "metadata": {},
   "outputs": [
    {
     "output_type": "stream",
     "name": "stdout",
     "text": [
      "3.23 µs ± 239 ns per loop (mean ± std. dev. of 7 runs, 100000 loops each)\n"
     ]
    }
   ],
   "source": [
    "timeit compare_vector(u, v)"
   ]
  },
  {
   "cell_type": "code",
   "execution_count": 47,
   "metadata": {},
   "outputs": [],
   "source": [
    "import numpy\n",
    "\n",
    "x = numpy.asarray(v)\n",
    "y = numpy.asarray(u)"
   ]
  },
  {
   "cell_type": "code",
   "execution_count": 52,
   "metadata": {},
   "outputs": [
    {
     "output_type": "stream",
     "name": "stdout",
     "text": [
      "[3 1 1 1 1 1 1 0 0 0 0 0 0 0 0 0 0 0 0 0 0 0 0 0 0 0]\n[0 3 1 1 1 1 1 1 0 0 0 0 0 0 0 0 0 0 0 0 0 0 0 0 0 0]\n"
     ]
    }
   ],
   "source": [
    "print(x)\n",
    "print(y)\n",
    "raw_diff = x - y"
   ]
  },
  {
   "cell_type": "code",
   "execution_count": 53,
   "metadata": {},
   "outputs": [],
   "source": [
    "absolute_diff = numpy.absolute(raw_diff)\n",
    "print(absolute_diff.sum())"
   ]
  },
  {
   "cell_type": "code",
   "execution_count": 55,
   "metadata": {},
   "outputs": [
    {
     "output_type": "stream",
     "name": "stdout",
     "text": [
      "6\n"
     ]
    }
   ],
   "source": []
  },
  {
   "cell_type": "code",
   "execution_count": 56,
   "metadata": {},
   "outputs": [],
   "source": [
    "def compare_numpy_vector(x, y):\n",
    "    raw_diff = x - y\n",
    "    absolute_diff = numpy.absolute(raw_diff)\n",
    "    return absolute_diff.sum()\n"
   ]
  },
  {
   "cell_type": "code",
   "execution_count": 64,
   "metadata": {},
   "outputs": [
    {
     "output_type": "stream",
     "name": "stdout",
     "text": [
      "6\n"
     ]
    }
   ],
   "source": [
    "x = numpy.asarray(v)\n",
    "y = numpy.asarray(u)\n",
    "diff = compare_numpy_vector(x, y)\n",
    "print(diff)"
   ]
  },
  {
   "cell_type": "code",
   "execution_count": 65,
   "metadata": {},
   "outputs": [
    {
     "output_type": "stream",
     "name": "stdout",
     "text": [
      "5.14 µs ± 108 ns per loop (mean ± std. dev. of 7 runs, 100000 loops each)\n"
     ]
    }
   ],
   "source": [
    "\n",
    "timeit compare_numpy_vector(x, y)"
   ]
  },
  {
   "cell_type": "code",
   "execution_count": 66,
   "metadata": {},
   "outputs": [
    {
     "output_type": "execute_result",
     "data": {
      "text/plain": [
       "0"
      ]
     },
     "metadata": {},
     "execution_count": 66
    }
   ],
   "source": [
    "sx = x.sum()\n",
    "sy = y.sum()\n",
    "\n",
    "sx - sy"
   ]
  },
  {
   "cell_type": "code",
   "execution_count": 67,
   "metadata": {},
   "outputs": [
    {
     "output_type": "stream",
     "name": "stdout",
     "text": [
      "134 ns ± 2.24 ns per loop (mean ± std. dev. of 7 runs, 10000000 loops each)\n"
     ]
    }
   ],
   "source": [
    "timeit sx - sy"
   ]
  },
  {
   "cell_type": "code",
   "execution_count": 140,
   "metadata": {},
   "outputs": [
    {
     "output_type": "stream",
     "name": "stdout",
     "text": [
      "[(1980, 'Violaine Morinville'), (1470, 'Violaine Motte'), (2180, 'Violaine Muñoz Motte'), (1420, 'Violaine Nicolle'), (1710, 'Violaine Nouveau')]\n"
     ]
    }
   ],
   "source": [
    "\n",
    "vectors = []\n",
    "sums_ = []\n",
    "for name in names[7858756:7959756]:\n",
    "    vec = string_to_vector(name.lower())\n",
    "    vectors.append(vec)\n",
    "    sums_.append((sum(vec), name))\n",
    "\n",
    "print(sums_[:5])"
   ]
  },
  {
   "cell_type": "code",
   "execution_count": 141,
   "metadata": {},
   "outputs": [],
   "source": [
    "sorted_sums = sorted(sums_)"
   ]
  },
  {
   "cell_type": "code",
   "execution_count": 142,
   "metadata": {},
   "outputs": [
    {
     "output_type": "execute_result",
     "data": {
      "text/plain": [
       "[(230, 'W.'), (240, 'Vô-Dú'), (240, 'W.B.'), (250, 'WC'), (250, 'Wac')]"
      ]
     },
     "metadata": {},
     "execution_count": 142
    }
   ],
   "source": [
    "sorted_sums[:5]"
   ]
  },
  {
   "cell_type": "code",
   "execution_count": 143,
   "metadata": {},
   "outputs": [
    {
     "output_type": "stream",
     "name": "stdout",
     "text": [
      "1170\n"
     ]
    }
   ],
   "source": [
    "query = \"Will Smith\"\n",
    "q = sum(string_to_vector(query.lower()))\n",
    "print(q)"
   ]
  },
  {
   "cell_type": "code",
   "execution_count": 170,
   "metadata": {
    "tags": []
   },
   "outputs": [],
   "source": [
    "\n",
    "sentence = \"I want to watch a movie with Will Smith\"\n",
    "\n",
    "def query_in_sorted_sums(sentence):\n",
    "    start = datetime.now()\n",
    "\n",
    "    max_tokens = 10\n",
    "    combinations  = []\n",
    "    for i in range(1, min(len(sentence), max_tokens)):\n",
    "        gr = ngrams(sentence.split(), i + 1)\n",
    "        for g in gr:\n",
    "            combinations.append(\" \".join(g))\n",
    "\n",
    "    csums = [ sum(string_to_vector(c.lower())) for c in combinations]\n",
    "    same_sum = []\n",
    "    min_distance = 999999999\n",
    "    min_name = \"\"\n",
    "    min_c = \"\"\n",
    "\n",
    "    middle_index = len(sorted_sums) // 2\n",
    "    lower_sums = sorted_sums[:middle_index]\n",
    "    upper_sums = sorted_sums[middle_index:]\n",
    "    middle_sum = sorted_sums[middle_index][0]\n",
    "    for csum, c in zip(csums, combinations):\n",
    "        if csum < middle_sum:\n",
    "            loop_in = lower_sums\n",
    "        else:\n",
    "            loop_in = upper_sums\n",
    "        for sum_, name in loop_in:\n",
    "            if abs(sum_ - csum) < 500:\n",
    "                distance = levenshtein(name, c)\n",
    "                if distance < min_distance:\n",
    "                    min_distance = distance\n",
    "                    min_name = name\n",
    "                    min_c = c\n",
    "                    best_matches.append((min_distance, min_name, min_c))\n",
    "\n",
    "    end = datetime.now()\n",
    "    print(\"Query for {}. Best match: {} (distance: {}, combination: {}) - elapsed time: {}\".format(sentence, min_name, min_distance, min_c, end - start))\n",
    "# print(len(same_sum))"
   ]
  },
  {
   "cell_type": "code",
   "execution_count": 172,
   "metadata": {},
   "outputs": [
    {
     "output_type": "stream",
     "name": "stdout",
     "text": [
      "Query for I want to watch a movie with Will Smith. Best match: Will Smith (distance: 0, combination: Will Smith) - elapsed time: 0:00:01.267356\n"
     ]
    }
   ],
   "source": [
    "query_in_sorted_sums(sentence)"
   ]
  },
  {
   "cell_type": "code",
   "execution_count": 173,
   "metadata": {},
   "outputs": [
    {
     "output_type": "stream",
     "name": "stdout",
     "text": [
      "Query for Mill Smith. Best match: Will Smith (distance: 1, combination: Mill Smith) - elapsed time: 0:00:00.057202\n"
     ]
    }
   ],
   "source": [
    "query_in_sorted_sums(\"Mill Smith\")"
   ]
  },
  {
   "cell_type": "code",
   "execution_count": null,
   "metadata": {},
   "outputs": [],
   "source": []
  }
 ]
}