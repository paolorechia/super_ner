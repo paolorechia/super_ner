{
 "metadata": {
  "language_info": {
   "codemirror_mode": {
    "name": "ipython",
    "version": 3
   },
   "file_extension": ".py",
   "mimetype": "text/x-python",
   "name": "python",
   "nbconvert_exporter": "python",
   "pygments_lexer": "ipython3",
   "version": "3.8.3-final"
  },
  "orig_nbformat": 2,
  "kernelspec": {
   "name": "python3",
   "display_name": "Python 3.8.3 64-bit ('super_ner': venv)",
   "metadata": {
    "interpreter": {
     "hash": "3bd3c84877896647590d4d5061fdf1775af46d4148333dbeaedf7fe64fafe574"
    }
   }
  }
 },
 "nbformat": 4,
 "nbformat_minor": 2,
 "cells": [
  {
   "cell_type": "code",
   "execution_count": 11,
   "metadata": {},
   "outputs": [
    {
     "output_type": "execute_result",
     "data": {
      "text/plain": [
       "8197423"
      ]
     },
     "metadata": {},
     "execution_count": 11
    }
   ],
   "source": [
    "import json\n",
    "import os\n",
    "\n",
    "data_folder = \"../data\"\n",
    "names_filepath = os.path.join(data_folder, \"names.json\")\n",
    "\n",
    "names = None\n",
    "with open(names_filepath, \"r\") as fp_:\n",
    "    names = json.load(fp_)\n",
    "\n",
    "len(names)"
   ]
  },
  {
   "cell_type": "code",
   "execution_count": 12,
   "metadata": {},
   "outputs": [],
   "source": [
    "names = sorted(names)"
   ]
  },
  {
   "cell_type": "code",
   "execution_count": 13,
   "metadata": {},
   "outputs": [
    {
     "output_type": "execute_result",
     "data": {
      "text/plain": [
       "7958756"
      ]
     },
     "metadata": {},
     "execution_count": 13
    }
   ],
   "source": [
    "names[:100]\n",
    "\n",
    "names.index(\"Will Smith\")"
   ]
  },
  {
   "cell_type": "code",
   "execution_count": 14,
   "metadata": {},
   "outputs": [
    {
     "output_type": "execute_result",
     "data": {
      "text/plain": [
       "'Will Smith'"
      ]
     },
     "metadata": {},
     "execution_count": 14
    }
   ],
   "source": [
    "names[7958756]"
   ]
  },
  {
   "cell_type": "code",
   "execution_count": 60,
   "metadata": {},
   "outputs": [
    {
     "output_type": "stream",
     "name": "stdout",
     "text": [
      "Query for Will Smith. Best match: Abel Smith (distance: 4) - elapsed time: 0:00:00.259064\n"
     ]
    }
   ],
   "source": [
    "import editdistance\n",
    "from datetime import datetime\n",
    "\n",
    "start = datetime.now()\n",
    "min_distance = 999999\n",
    "for name in names[:100000]:\n",
    "    distance = editdistance.eval(\"Will smith\", name)\n",
    "    if distance < min_distance:\n",
    "        min_distance = distance\n",
    "        min_name = name\n",
    "\n",
    "end = datetime.now()\n",
    "print(\"Query for Will Smith. Best match: {} (distance: {}) - elapsed time: {}\".format(min_name, min_distance, end - start))"
   ]
  },
  {
   "cell_type": "code",
   "execution_count": 46,
   "metadata": {},
   "outputs": [
    {
     "output_type": "stream",
     "name": "stdout",
     "text": [
      "['I', 'want', 'to', 'watch', 'a', 'movie', 'with', 'Will', 'Smith', 'I want', 'want to', 'to watch', 'watch a', 'a movie', 'movie with', 'with Will', 'Will Smith', 'I want to', 'want to watch', 'to watch a', 'watch a movie', 'a movie with', 'movie with Will', 'with Will Smith', 'I want to watch', 'want to watch a', 'to watch a movie', 'watch a movie with', 'a movie with Will', 'movie with Will Smith', 'I want to watch a', 'want to watch a movie', 'to watch a movie with', 'watch a movie with Will', 'a movie with Will Smith', 'I want to watch a movie', 'want to watch a movie with', 'to watch a movie with Will', 'watch a movie with Will Smith', 'I want to watch a movie with', 'want to watch a movie with Will', 'to watch a movie with Will Smith', 'I want to watch a movie with Will', 'want to watch a movie with Will Smith', 'I want to watch a movie with Will Smith']\n"
     ]
    }
   ],
   "source": [
    "\n",
    "from nltk import ngrams\n",
    "\n",
    "sentence = \"I want to watch a movie with Will Smith\"\n",
    "\n",
    "combinations  = []\n",
    "for i in range(0, len(sentence)):\n",
    "    gr = ngrams(sentence.split(), i + 1)\n",
    "    for g in gr:\n",
    "        combinations.append(\" \".join(g))\n",
    "\n",
    "print(combinations)\n",
    "\n"
   ]
  },
  {
   "cell_type": "code",
   "execution_count": 79,
   "metadata": {},
   "outputs": [
    {
     "output_type": "stream",
     "name": "stdout",
     "text": [
      "Query for I want to watch a movie with Will Smith. Best match: A. Rochell Smith (distance: 26, combination: I want to watch a movie with Will Smith) - elapsed time: 0:00:04.267794\n"
     ]
    }
   ],
   "source": [
    "sentence = \"I want to watch a movie with Will Smith\"\n",
    "\n",
    "start = datetime.now()\n",
    "\n",
    "combinations  = []\n",
    "for i in range(0, len(sentence)):\n",
    "    gr = ngrams(sentence.split(), i + 1)\n",
    "    for g in gr:\n",
    "        combinations.append(\" \".join(g))\n",
    "\n",
    "min_name = \"\"\n",
    "min_c = \"\"\n",
    "best_matches = []\n",
    "for c in combinations:\n",
    "    min_distance = 999999\n",
    "    for name in names[:40000]:\n",
    "        distance = editdistance.eval(c, name)\n",
    "        if distance < min_distance:\n",
    "            min_distance = distance\n",
    "            min_name = name\n",
    "            min_c = c\n",
    "            best_matches.append((min_distance, min_name, min_c))\n",
    "\n",
    "end = datetime.now()\n",
    "print(\"Query for {}. Best match: {} (distance: {}, combination: {}) - elapsed time: {}\".format(sentence, min_name, min_distance, min_c, end - start))\n",
    "# print(\"Best matches: {}\".format(best_matches))"
   ]
  },
  {
   "cell_type": "code",
   "execution_count": 67,
   "metadata": {},
   "outputs": [
    {
     "output_type": "stream",
     "name": "stdout",
     "text": [
      "Query for Will Smith. Found: True - elapsed time: 0:00:03.359556\n"
     ]
    }
   ],
   "source": [
    "\n",
    "start = datetime.now()\n",
    "names_set = set(names)\n",
    "min_distance = 999999\n",
    "found = \"Will Smith\" in names_set\n",
    "end = datetime.now()\n",
    "time_diff = end - start\n",
    "print(\"Query for Will Smith. Found: {} - elapsed time: {}\".format(found, time_diff))\n"
   ]
  },
  {
   "cell_type": "code",
   "execution_count": 77,
   "metadata": {},
   "outputs": [
    {
     "output_type": "stream",
     "name": "stdout",
     "text": [
      "Query for 'I want to watch a movie with Will Smith''. Found: 'True' in ngram: 'Will'- elapsed time: 0:00:00.000427\n"
     ]
    }
   ],
   "source": [
    "sentence = \"I want to watch a movie with Will Smith\"\n",
    "\n",
    "start = datetime.now()\n",
    "\n",
    "combinations  = []\n",
    "for i in range(0, len(sentence)):\n",
    "    gr = ngrams(sentence.split(), i + 1)\n",
    "    for g in gr:\n",
    "        combinations.append(\" \".join(g))\n",
    "\n",
    "found_c = \"\"\n",
    "best_matches = []\n",
    "found = False\n",
    "for c in combinations:\n",
    "    min_distance = 999999\n",
    "    found = c in names_set\n",
    "    if found:\n",
    "        found_c = c\n",
    "        break\n",
    "\n",
    "end = datetime.now()\n",
    "time_diff = end - start\n",
    "\n",
    "print(\"Query for '{}''. Found: '{}' in ngram: '{}'- elapsed time: {}\".format(sentence, found, found_c, time_diff))\n"
   ]
  },
  {
   "cell_type": "code",
   "execution_count": null,
   "metadata": {},
   "outputs": [],
   "source": []
  }
 ]
}