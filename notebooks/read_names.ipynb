{
 "metadata": {
  "language_info": {
   "codemirror_mode": {
    "name": "ipython",
    "version": 3
   },
   "file_extension": ".py",
   "mimetype": "text/x-python",
   "name": "python",
   "nbconvert_exporter": "python",
   "pygments_lexer": "ipython3",
   "version": "3.8.3-final"
  },
  "orig_nbformat": 2,
  "kernelspec": {
   "name": "python3",
   "display_name": "Python 3.8.3 64-bit ('super_ner')",
   "metadata": {
    "interpreter": {
     "hash": "3bd3c84877896647590d4d5061fdf1775af46d4148333dbeaedf7fe64fafe574"
    }
   }
  }
 },
 "nbformat": 4,
 "nbformat_minor": 2,
 "cells": [
  {
   "cell_type": "code",
   "execution_count": 2,
   "metadata": {},
   "outputs": [
    {
     "output_type": "execute_result",
     "data": {
      "text/plain": [
       "8197423"
      ]
     },
     "metadata": {},
     "execution_count": 2
    }
   ],
   "source": [
    "import json\n",
    "import os\n",
    "\n",
    "data_folder = \"../data\"\n",
    "names_filepath = os.path.join(data_folder, \"names.json\")\n",
    "\n",
    "names = None\n",
    "with open(names_filepath, \"r\") as fp_:\n",
    "    names = json.load(fp_)\n",
    "\n",
    "len(names)"
   ]
  },
  {
   "cell_type": "code",
   "execution_count": 3,
   "metadata": {},
   "outputs": [],
   "source": [
    "names = sorted(names)"
   ]
  },
  {
   "cell_type": "code",
   "execution_count": 4,
   "metadata": {},
   "outputs": [
    {
     "output_type": "execute_result",
     "data": {
      "text/plain": [
       "7958756"
      ]
     },
     "metadata": {},
     "execution_count": 4
    }
   ],
   "source": [
    "names[:100]\n",
    "\n",
    "names.index(\"Will Smith\")"
   ]
  },
  {
   "cell_type": "code",
   "execution_count": 5,
   "metadata": {},
   "outputs": [
    {
     "output_type": "execute_result",
     "data": {
      "text/plain": [
       "'Will Smith'"
      ]
     },
     "metadata": {},
     "execution_count": 5
    }
   ],
   "source": [
    "names[7958756]"
   ]
  },
  {
   "cell_type": "code",
   "execution_count": 6,
   "metadata": {},
   "outputs": [
    {
     "output_type": "stream",
     "name": "stdout",
     "text": [
      "Query for Will Smith. Best match: $aint Smith (distance: 5) - elapsed time: 0:00:00.004350\n"
     ]
    }
   ],
   "source": [
    "import editdistance\n",
    "from datetime import datetime\n",
    "\n",
    "start = datetime.now()\n",
    "min_distance = 999999\n",
    "for name in names[:1000]:\n",
    "    distance = editdistance.eval(\"Will smith\", name)\n",
    "    if distance < min_distance:\n",
    "        min_distance = distance\n",
    "        min_name = name\n",
    "\n",
    "end = datetime.now()\n",
    "print(\"Query for Will Smith. Best match: {} (distance: {}) - elapsed time: {}\".format(min_name, min_distance, end - start))"
   ]
  },
  {
   "cell_type": "code",
   "execution_count": 7,
   "metadata": {},
   "outputs": [
    {
     "output_type": "stream",
     "name": "stdout",
     "text": [
      "['I', 'want', 'to', 'watch', 'a', 'movie', 'with', 'Will', 'Smith', 'I want', 'want to', 'to watch', 'watch a', 'a movie', 'movie with', 'with Will', 'Will Smith', 'I want to', 'want to watch', 'to watch a', 'watch a movie', 'a movie with', 'movie with Will', 'with Will Smith', 'I want to watch', 'want to watch a', 'to watch a movie', 'watch a movie with', 'a movie with Will', 'movie with Will Smith', 'I want to watch a', 'want to watch a movie', 'to watch a movie with', 'watch a movie with Will', 'a movie with Will Smith', 'I want to watch a movie', 'want to watch a movie with', 'to watch a movie with Will', 'watch a movie with Will Smith', 'I want to watch a movie with', 'want to watch a movie with Will', 'to watch a movie with Will Smith', 'I want to watch a movie with Will', 'want to watch a movie with Will Smith', 'I want to watch a movie with Will Smith']\n"
     ]
    }
   ],
   "source": [
    "\n",
    "from nltk import ngrams\n",
    "\n",
    "sentence = \"I want to watch a movie with Will Smith\"\n",
    "\n",
    "combinations  = []\n",
    "for i in range(0, len(sentence)):\n",
    "    gr = ngrams(sentence.split(), i + 1)\n",
    "    for g in gr:\n",
    "        combinations.append(\" \".join(g))\n",
    "\n",
    "print(combinations)\n",
    "\n"
   ]
  },
  {
   "cell_type": "code",
   "execution_count": 8,
   "metadata": {},
   "outputs": [
    {
     "output_type": "stream",
     "name": "stdout",
     "text": [
      "Query for I want to watch a movie with Will Smith. Best match: Will Smith (distance: 0, combination: Will Smith) - elapsed time: 0:00:08.711656\n"
     ]
    }
   ],
   "source": [
    "sentence = \"I want to watch a movie with Will Smith\"\n",
    "\n",
    "start = datetime.now()\n",
    "\n",
    "max_tokens = 99\n",
    "combinations  = []\n",
    "for i in range(1, min(len(sentence), max_tokens)):\n",
    "    gr = ngrams(sentence.split(), i + 1)\n",
    "    for g in gr:\n",
    "        combinations.append(\" \".join(g))\n",
    "\n",
    "min_name = \"\"\n",
    "min_c = \"\"\n",
    "best_matches = []\n",
    "min_distance = 999999\n",
    "for c in combinations:\n",
    "    for name in names[7858756:7959756]:\n",
    "        distance = editdistance.eval(c, name)\n",
    "        if distance < min_distance:\n",
    "            min_distance = distance\n",
    "            min_name = name\n",
    "            min_c = c\n",
    "            best_matches.append((min_distance, min_name, min_c))\n",
    "\n",
    "end = datetime.now()\n",
    "print(\"Query for {}. Best match: {} (distance: {}, combination: {}) - elapsed time: {}\".format(sentence, min_name, min_distance, min_c, end - start))\n",
    "# print(\"Best matches: {}\".format(best_matches))"
   ]
  },
  {
   "cell_type": "code",
   "execution_count": 9,
   "metadata": {},
   "outputs": [
    {
     "output_type": "stream",
     "name": "stdout",
     "text": [
      "Query for Will Smith. Found: True - elapsed time: 0:00:00.037271\n"
     ]
    }
   ],
   "source": [
    "\n",
    "start = datetime.now()\n",
    "names_set = set(names[7858756:7959756])\n",
    "min_distance = 999999\n",
    "found = \"Will Smith\" in names_set\n",
    "end = datetime.now()\n",
    "time_diff = end - start\n",
    "print(\"Query for Will Smith. Found: {} - elapsed time: {}\".format(found, time_diff))\n"
   ]
  },
  {
   "cell_type": "code",
   "execution_count": 10,
   "metadata": {},
   "outputs": [
    {
     "output_type": "stream",
     "name": "stdout",
     "text": [
      "Query for 'I want to watch a movie with Will Smith''. Found: 'True' in ngram: 'Will Smith'- elapsed time: 0:00:00.000502\n"
     ]
    }
   ],
   "source": [
    "sentence = \"I want to watch a movie with Will Smith\"\n",
    "\n",
    "start = datetime.now()\n",
    "\n",
    "combinations  = []\n",
    "for i in range(1, len(sentence)):\n",
    "    gr = ngrams(sentence.split(), i + 1)\n",
    "    for g in gr:\n",
    "        combinations.append(\" \".join(g))\n",
    "\n",
    "found_c = \"\"\n",
    "best_matches = []\n",
    "found = False\n",
    "\n",
    "for c in combinations:\n",
    "    min_distance = 999999\n",
    "    found = c in names_set\n",
    "    if found:\n",
    "        found_c = c\n",
    "        break\n",
    "\n",
    "end = datetime.now()\n",
    "time_diff = end - start\n",
    "\n",
    "print(\"Query for '{}''. Found: '{}' in ngram: '{}'- elapsed time: {}\".format(sentence, found, found_c, time_diff))\n"
   ]
  },
  {
   "cell_type": "code",
   "execution_count": 11,
   "metadata": {},
   "outputs": [
    {
     "output_type": "stream",
     "name": "stdout",
     "text": [
      "Query for I want to watch a movie with Will Smith. Best match: Will Smith (distance: 0, combination: Will Smith) - elapsed time: 0:00:02.236115\n"
     ]
    }
   ],
   "source": [
    "from polyleven import levenshtein\n",
    "\n",
    "\n",
    "sentence = \"I want to watch a movie with Will Smith\"\n",
    "\n",
    "start = datetime.now()\n",
    "\n",
    "max_tokens = 99\n",
    "combinations  = []\n",
    "for i in range(1, min(len(sentence), max_tokens)):\n",
    "    gr = ngrams(sentence.split(), i + 1)\n",
    "    for g in gr:\n",
    "        combinations.append(\" \".join(g))\n",
    "\n",
    "min_name = \"\"\n",
    "min_c = \"\"\n",
    "best_matches = []\n",
    "min_distance = 999999\n",
    "for c in combinations:\n",
    "    for name in names[7858756:7959756]:\n",
    "        distance = levenshtein(c, name)\n",
    "        if distance < min_distance:\n",
    "            min_distance = distance\n",
    "            min_name = name\n",
    "            min_c = c\n",
    "            best_matches.append((min_distance, min_name, min_c))\n",
    "\n",
    "end = datetime.now()\n",
    "print(\"Query for {}. Best match: {} (distance: {}, combination: {}) - elapsed time: {}\".format(sentence, min_name, min_distance, min_c, end - start))"
   ]
  },
  {
   "cell_type": "code",
   "execution_count": 97,
   "metadata": {},
   "outputs": [
    {
     "output_type": "stream",
     "name": "stdout",
     "text": [
      "Query for I want to watch a movie with Will Smith. Best match: Will Smith (distance: 0, combination: Will Smith) - elapsed time: 0:02:17.450276\n[(4, \"!'aru Ikhuisi Piet Berendse\", 'I want'), (3, 'A Man', 'I want'), (2, 'Infant', 'I want'), (1, 'Bill Smith', 'Will Smith'), (0, 'Will Smith', 'Will Smith')]\n"
     ]
    }
   ],
   "source": [
    "from polyleven import levenshtein\n",
    "\n",
    "\n",
    "sentence = \"I want to watch a movie with Will Smith\"\n",
    "\n",
    "start = datetime.now()\n",
    "\n",
    "max_tokens = 10\n",
    "combinations  = []\n",
    "for i in range(1, min(len(sentence), max_tokens)):\n",
    "    gr = ngrams(sentence.split(), i + 1)\n",
    "    for g in gr:\n",
    "        combinations.append(\" \".join(g))\n",
    "\n",
    "min_name = \"\"\n",
    "min_c = \"\"\n",
    "best_matches = []\n",
    "min_distance = 999999\n",
    "for c in combinations:\n",
    "    for name in names:\n",
    "        distance = levenshtein(c, name, 3)\n",
    "        if distance < min_distance:\n",
    "            min_distance = distance\n",
    "            min_name = name\n",
    "            min_c = c\n",
    "            best_matches.append((min_distance, min_name, min_c))\n",
    "\n",
    "end = datetime.now()\n",
    "print(\"Query for {}. Best match: {} (distance: {}, combination: {}) - elapsed time: {}\".format(sentence, min_name, min_distance, min_c, end - start))\n",
    "print(best_matches)"
   ]
  },
  {
   "cell_type": "code",
   "execution_count": null,
   "metadata": {},
   "outputs": [],
   "source": []
  },
  {
   "cell_type": "code",
   "execution_count": 12,
   "metadata": {},
   "outputs": [],
   "source": [
    "def string_to_hist(str_):\n",
    "    characters = \"abcdefghijklmnopqrstuvxwyz\"\n",
    "    char_map = {\n",
    "    }\n",
    "\n",
    "    for ch in characters:\n",
    "        char_map[ch] = 0\n",
    "    for ch in str_:\n",
    "        if ch in \"abcdefghijklmnopqrstuvxwyz\":\n",
    "            char_map[ch] += 1\n",
    "    return char_map\n"
   ]
  },
  {
   "cell_type": "code",
   "execution_count": 13,
   "metadata": {},
   "outputs": [
    {
     "output_type": "stream",
     "name": "stdout",
     "text": [
      "4\n"
     ]
    }
   ],
   "source": [
    "\n",
    "a = \"aaabcdefg\"\n",
    "\n",
    "b = \"bbbcdefgh\"\n",
    "\n",
    "dist = levenshtein(a, b)\n",
    "print(dist)"
   ]
  },
  {
   "cell_type": "code",
   "execution_count": 14,
   "metadata": {},
   "outputs": [
    {
     "output_type": "stream",
     "name": "stdout",
     "text": [
      "245 ns ± 22.4 ns per loop (mean ± std. dev. of 7 runs, 1000000 loops each)\n"
     ]
    }
   ],
   "source": [
    "timeit levenshtein(a, b)"
   ]
  },
  {
   "cell_type": "code",
   "execution_count": 15,
   "metadata": {},
   "outputs": [
    {
     "output_type": "stream",
     "name": "stdout",
     "text": [
      "{'a': 3, 'b': 1, 'c': 1, 'd': 1, 'e': 1, 'f': 1, 'g': 1, 'h': 0, 'i': 0, 'j': 0, 'k': 0, 'l': 0, 'm': 0, 'n': 0, 'o': 0, 'p': 0, 'q': 0, 'r': 0, 's': 0, 't': 0, 'u': 0, 'v': 0, 'x': 0, 'w': 0, 'y': 0, 'z': 0}\n{'a': 0, 'b': 3, 'c': 1, 'd': 1, 'e': 1, 'f': 1, 'g': 1, 'h': 1, 'i': 0, 'j': 0, 'k': 0, 'l': 0, 'm': 0, 'n': 0, 'o': 0, 'p': 0, 'q': 0, 'r': 0, 's': 0, 't': 0, 'u': 0, 'v': 0, 'x': 0, 'w': 0, 'y': 0, 'z': 0}\n"
     ]
    }
   ],
   "source": [
    "hista = string_to_hist(a)\n",
    "print(hista)\n",
    "histb = string_to_hist(b)\n",
    "print(histb)"
   ]
  },
  {
   "cell_type": "code",
   "execution_count": 16,
   "metadata": {},
   "outputs": [],
   "source": [
    "def compare_hist(h1, h2):\n",
    "    sum_ = 0\n",
    "    for ch in \"abcdefghijklmnopqrstuvxwyz\":\n",
    "        sum_ += abs(h1[ch] - h2[ch])\n",
    "    return sum_\n",
    "\n"
   ]
  },
  {
   "cell_type": "code",
   "execution_count": 17,
   "metadata": {},
   "outputs": [
    {
     "output_type": "stream",
     "name": "stdout",
     "text": [
      "6\n"
     ]
    }
   ],
   "source": [
    "diff = compare_hist(hista, histb)\n",
    "print(diff)"
   ]
  },
  {
   "cell_type": "code",
   "execution_count": 18,
   "metadata": {},
   "outputs": [
    {
     "output_type": "stream",
     "name": "stdout",
     "text": [
      "3.08 µs ± 282 ns per loop (mean ± std. dev. of 7 runs, 100000 loops each)\n"
     ]
    }
   ],
   "source": [
    "timeit compare_hist(hista, histb)"
   ]
  },
  {
   "cell_type": "code",
   "execution_count": 19,
   "metadata": {},
   "outputs": [],
   "source": [
    "def string_to_vector(str_):\n",
    "    weights = {\n",
    "        \"a\": 1,\n",
    "        \"b\": 3,\n",
    "        \"c\": 3,\n",
    "        \"d\": 3,\n",
    "        \"e\": 2,\n",
    "        \"f\": 3,\n",
    "        \"g\": 3,\n",
    "        \"h\": 5,\n",
    "        \"i\": 2,\n",
    "        \"j\": 4,\n",
    "        \"k\": 4,\n",
    "        \"l\": 4,\n",
    "        \"m\": 4,\n",
    "        \"n\": 5,\n",
    "        \"o\": 1,\n",
    "        \"p\": 4,\n",
    "        \"q\": 6,\n",
    "        \"r\": 4,\n",
    "        \"s\": 3,\n",
    "        \"t\": 4,\n",
    "        \"u\": 2,\n",
    "        \"v\": 5,\n",
    "        \"x\": 8,\n",
    "        \"w\": 7,\n",
    "        \"y\": 9,\n",
    "        \"z\": 10\n",
    "    }\n",
    "    array = []\n",
    "    characters = \"abcdefghijklmnopqrstuvxwyz\"\n",
    "    for i in range(len(characters)):\n",
    "        array.append(0)\n",
    "    hist = string_to_hist(str_)\n",
    "    for i, ch in enumerate(characters):\n",
    "        array[i] = hist[ch] * weights[ch]\n",
    "    return array"
   ]
  },
  {
   "cell_type": "code",
   "execution_count": 20,
   "metadata": {},
   "outputs": [
    {
     "output_type": "stream",
     "name": "stdout",
     "text": [
      "[3, 3, 3, 3, 2, 3, 3, 0, 0, 0, 0, 0, 0, 0, 0, 0, 0, 0, 0, 0, 0, 0, 0, 0, 0, 0]\n[0, 9, 3, 3, 2, 3, 3, 5, 0, 0, 0, 0, 0, 0, 0, 0, 0, 0, 0, 0, 0, 0, 0, 0, 0, 0]\n"
     ]
    }
   ],
   "source": [
    "v = string_to_vector(a)\n",
    "u = string_to_vector(b)\n",
    "print(v)\n",
    "print(u)"
   ]
  },
  {
   "cell_type": "code",
   "execution_count": 21,
   "metadata": {},
   "outputs": [],
   "source": [
    "def compare_vector(u, v):\n",
    "    sum_ = 0\n",
    "    for i in range(len(u)):\n",
    "        sum_ += abs(v[i] - u[i])\n",
    "    return sum_\n"
   ]
  },
  {
   "cell_type": "code",
   "execution_count": 22,
   "metadata": {},
   "outputs": [
    {
     "output_type": "stream",
     "name": "stdout",
     "text": [
      "14\n"
     ]
    }
   ],
   "source": [
    "diff = compare_vector(u, v)\n",
    "print(diff)"
   ]
  },
  {
   "cell_type": "code",
   "execution_count": 23,
   "metadata": {},
   "outputs": [
    {
     "output_type": "stream",
     "name": "stdout",
     "text": [
      "3.17 µs ± 261 ns per loop (mean ± std. dev. of 7 runs, 100000 loops each)\n"
     ]
    }
   ],
   "source": [
    "timeit compare_vector(u, v)"
   ]
  },
  {
   "cell_type": "code",
   "execution_count": 24,
   "metadata": {},
   "outputs": [],
   "source": [
    "import numpy\n",
    "\n",
    "x = numpy.asarray(v)\n",
    "y = numpy.asarray(u)"
   ]
  },
  {
   "cell_type": "code",
   "execution_count": 25,
   "metadata": {},
   "outputs": [
    {
     "output_type": "stream",
     "name": "stdout",
     "text": [
      "[3 3 3 3 2 3 3 0 0 0 0 0 0 0 0 0 0 0 0 0 0 0 0 0 0 0]\n[0 9 3 3 2 3 3 5 0 0 0 0 0 0 0 0 0 0 0 0 0 0 0 0 0 0]\n"
     ]
    }
   ],
   "source": [
    "print(x)\n",
    "print(y)\n",
    "raw_diff = x - y"
   ]
  },
  {
   "cell_type": "code",
   "execution_count": 26,
   "metadata": {},
   "outputs": [
    {
     "output_type": "stream",
     "name": "stdout",
     "text": [
      "14\n"
     ]
    }
   ],
   "source": [
    "absolute_diff = numpy.absolute(raw_diff)\n",
    "print(absolute_diff.sum())"
   ]
  },
  {
   "cell_type": "code",
   "execution_count": 55,
   "metadata": {},
   "outputs": [
    {
     "output_type": "stream",
     "name": "stdout",
     "text": [
      "6\n"
     ]
    }
   ],
   "source": []
  },
  {
   "cell_type": "code",
   "execution_count": 27,
   "metadata": {},
   "outputs": [],
   "source": [
    "def compare_numpy_vector(x, y):\n",
    "    raw_diff = x - y\n",
    "    absolute_diff = numpy.absolute(raw_diff)\n",
    "    return absolute_diff.sum()\n"
   ]
  },
  {
   "cell_type": "code",
   "execution_count": 28,
   "metadata": {},
   "outputs": [
    {
     "output_type": "stream",
     "name": "stdout",
     "text": [
      "14\n"
     ]
    }
   ],
   "source": [
    "x = numpy.asarray(v)\n",
    "y = numpy.asarray(u)\n",
    "diff = compare_numpy_vector(x, y)\n",
    "print(diff)"
   ]
  },
  {
   "cell_type": "code",
   "execution_count": 29,
   "metadata": {},
   "outputs": [
    {
     "output_type": "stream",
     "name": "stdout",
     "text": [
      "4.44 µs ± 473 ns per loop (mean ± std. dev. of 7 runs, 100000 loops each)\n"
     ]
    }
   ],
   "source": [
    "\n",
    "timeit compare_numpy_vector(x, y)"
   ]
  },
  {
   "cell_type": "code",
   "execution_count": 30,
   "metadata": {},
   "outputs": [
    {
     "output_type": "execute_result",
     "data": {
      "text/plain": [
       "-8"
      ]
     },
     "metadata": {},
     "execution_count": 30
    }
   ],
   "source": [
    "sx = x.sum()\n",
    "sy = y.sum()\n",
    "\n",
    "sx - sy"
   ]
  },
  {
   "cell_type": "code",
   "execution_count": 31,
   "metadata": {},
   "outputs": [
    {
     "output_type": "stream",
     "name": "stdout",
     "text": [
      "132 ns ± 10.2 ns per loop (mean ± std. dev. of 7 runs, 10000000 loops each)\n"
     ]
    }
   ],
   "source": [
    "timeit sx - sy"
   ]
  },
  {
   "cell_type": "code",
   "execution_count": 32,
   "metadata": {},
   "outputs": [
    {
     "output_type": "stream",
     "name": "stdout",
     "text": [
      "[(55, 'Violaine Morinville'), (37, 'Violaine Motte'), (54, 'Violaine Muñoz Motte'), (43, 'Violaine Nicolle'), (40, 'Violaine Nouveau')]\n"
     ]
    }
   ],
   "source": [
    "\n",
    "vectors = []\n",
    "sums_ = []\n",
    "for name in names[7858756:7959756]:\n",
    "    vec = string_to_vector(name.lower())\n",
    "    vectors.append(vec)\n",
    "    sums_.append((sum(vec), name))\n",
    "\n",
    "print(sums_[:5])"
   ]
  },
  {
   "cell_type": "code",
   "execution_count": 33,
   "metadata": {},
   "outputs": [],
   "source": [
    "sorted_sums = sorted(sums_)"
   ]
  },
  {
   "cell_type": "code",
   "execution_count": 34,
   "metadata": {},
   "outputs": [
    {
     "output_type": "execute_result",
     "data": {
      "text/plain": [
       "[(6, 'Vo'), (7, 'W.'), (8, 'Vô-Dú'), (9, 'Viñi'), (9, 'Vt')]"
      ]
     },
     "metadata": {},
     "execution_count": 34
    }
   ],
   "source": [
    "sorted_sums[:5]"
   ]
  },
  {
   "cell_type": "code",
   "execution_count": 35,
   "metadata": {},
   "outputs": [
    {
     "output_type": "stream",
     "name": "stdout",
     "text": [
      "35\n"
     ]
    }
   ],
   "source": [
    "query = \"Will Smith\"\n",
    "q = sum(string_to_vector(query.lower()))\n",
    "print(q)"
   ]
  },
  {
   "cell_type": "code",
   "execution_count": 36,
   "metadata": {
    "tags": []
   },
   "outputs": [],
   "source": [
    "\n",
    "sentence = \"I want to watch a movie with Will Smith\"\n",
    "\n",
    "def query_in_sorted_sums(sentence):\n",
    "    start = datetime.now()\n",
    "\n",
    "    max_tokens = 10\n",
    "    combinations  = []\n",
    "    for i in range(1, min(len(sentence), max_tokens)):\n",
    "        gr = ngrams(sentence.split(), i + 1)\n",
    "        for g in gr:\n",
    "            combinations.append(\" \".join(g))\n",
    "\n",
    "    csums = [sum(string_to_vector(c.lower())) for c in combinations]\n",
    "    same_sum = []\n",
    "    min_distance = 999999999\n",
    "    min_name = \"\"\n",
    "    min_c = \"\"\n",
    "\n",
    "    middle_index = len(sorted_sums) // 2\n",
    "    lower_sums = sorted_sums[:middle_index]\n",
    "    upper_sums = sorted_sums[middle_index:]\n",
    "    middle_sum = sorted_sums[middle_index][0]\n",
    "    for csum, c in zip(csums, combinations):\n",
    "        if csum < middle_sum:\n",
    "            loop_in = lower_sums\n",
    "        else:\n",
    "            loop_in = upper_sums\n",
    "        for sum_, name in loop_in:\n",
    "            if abs(sum_ - csum) < 15:\n",
    "                distance = levenshtein(name, c, 3)\n",
    "                if distance < min_distance:\n",
    "                    min_distance = distance\n",
    "                    min_name = name\n",
    "                    min_c = c\n",
    "                    best_matches.append((min_distance, min_name, min_c))\n",
    "\n",
    "    end = datetime.now()\n",
    "    print(\"Query for {}. Best match: {} (distance: {}, combination: {}) - elapsed time: {}\".format(sentence, min_name, min_distance, min_c, end - start))\n",
    "# print(len(same_sum))"
   ]
  },
  {
   "cell_type": "code",
   "execution_count": 37,
   "metadata": {},
   "outputs": [
    {
     "output_type": "stream",
     "name": "stdout",
     "text": [
      "Query for I want to watch a movie with Will Smith. Best match: Will Smith (distance: 0, combination: Will Smith) - elapsed time: 0:00:00.951732\n"
     ]
    }
   ],
   "source": [
    "query_in_sorted_sums(sentence)"
   ]
  },
  {
   "cell_type": "code",
   "execution_count": 38,
   "metadata": {},
   "outputs": [
    {
     "output_type": "stream",
     "name": "stdout",
     "text": [
      "Query for Mill Smith. Best match: Will Smith (distance: 1, combination: Mill Smith) - elapsed time: 0:00:00.034822\nQuery for Mill Smit. Best match: Will Smith (distance: 2, combination: Mill Smit) - elapsed time: 0:00:00.031714\nQuery for Mill Smi. Best match: Will Cai (distance: 3, combination: Mill Smi) - elapsed time: 0:00:00.028698\n"
     ]
    }
   ],
   "source": [
    "query_in_sorted_sums(\"Mill Smith\")\n",
    "query_in_sorted_sums(\"Mill Smit\")\n",
    "query_in_sorted_sums(\"Mill Smi\")"
   ]
  },
  {
   "cell_type": "code",
   "execution_count": 39,
   "metadata": {},
   "outputs": [],
   "source": [
    "numbers = [s[0] for s in sorted_sums]"
   ]
  },
  {
   "cell_type": "code",
   "execution_count": 40,
   "metadata": {},
   "outputs": [],
   "source": [
    "import matplotlib.pyplot as plt\n",
    "\n"
   ]
  },
  {
   "cell_type": "code",
   "execution_count": 41,
   "metadata": {},
   "outputs": [
    {
     "output_type": "execute_result",
     "data": {
      "text/plain": [
       "(array([2.000e+00, 9.000e+00, 4.000e+01, 9.900e+01, 1.320e+02, 2.350e+02,\n",
       "        3.000e+02, 4.690e+02, 7.660e+02, 1.162e+03, 1.791e+03, 2.591e+03,\n",
       "        3.656e+03, 4.855e+03, 6.002e+03, 7.195e+03, 7.824e+03, 8.314e+03,\n",
       "        8.183e+03, 8.096e+03, 7.178e+03, 6.277e+03, 5.239e+03, 4.274e+03,\n",
       "        3.568e+03, 2.713e+03, 2.214e+03, 1.746e+03, 1.348e+03, 1.034e+03,\n",
       "        8.380e+02, 6.560e+02, 5.080e+02, 3.750e+02, 2.820e+02, 2.110e+02,\n",
       "        1.600e+02, 1.410e+02, 1.120e+02, 9.400e+01, 5.100e+01, 4.400e+01,\n",
       "        4.400e+01, 2.400e+01, 2.000e+01, 2.100e+01, 2.100e+01, 8.000e+00,\n",
       "        1.000e+01, 5.000e+00, 9.000e+00, 5.000e+00, 6.000e+00, 5.000e+00,\n",
       "        8.000e+00, 3.000e+00, 3.000e+00, 4.000e+00, 2.000e+00, 2.000e+00,\n",
       "        1.000e+00, 3.000e+00, 1.000e+00, 0.000e+00, 2.000e+00, 2.000e+00,\n",
       "        2.000e+00, 0.000e+00, 1.000e+00, 0.000e+00, 0.000e+00, 1.000e+00,\n",
       "        1.000e+00, 0.000e+00, 1.000e+00, 0.000e+00, 0.000e+00, 0.000e+00,\n",
       "        0.000e+00, 0.000e+00, 0.000e+00, 0.000e+00, 0.000e+00, 0.000e+00,\n",
       "        0.000e+00, 0.000e+00, 0.000e+00, 0.000e+00, 0.000e+00, 0.000e+00,\n",
       "        0.000e+00, 0.000e+00, 0.000e+00, 0.000e+00, 0.000e+00, 0.000e+00,\n",
       "        0.000e+00, 0.000e+00, 0.000e+00, 1.000e+00]),\n",
       " array([  6.  ,   7.98,   9.96,  11.94,  13.92,  15.9 ,  17.88,  19.86,\n",
       "         21.84,  23.82,  25.8 ,  27.78,  29.76,  31.74,  33.72,  35.7 ,\n",
       "         37.68,  39.66,  41.64,  43.62,  45.6 ,  47.58,  49.56,  51.54,\n",
       "         53.52,  55.5 ,  57.48,  59.46,  61.44,  63.42,  65.4 ,  67.38,\n",
       "         69.36,  71.34,  73.32,  75.3 ,  77.28,  79.26,  81.24,  83.22,\n",
       "         85.2 ,  87.18,  89.16,  91.14,  93.12,  95.1 ,  97.08,  99.06,\n",
       "        101.04, 103.02, 105.  , 106.98, 108.96, 110.94, 112.92, 114.9 ,\n",
       "        116.88, 118.86, 120.84, 122.82, 124.8 , 126.78, 128.76, 130.74,\n",
       "        132.72, 134.7 , 136.68, 138.66, 140.64, 142.62, 144.6 , 146.58,\n",
       "        148.56, 150.54, 152.52, 154.5 , 156.48, 158.46, 160.44, 162.42,\n",
       "        164.4 , 166.38, 168.36, 170.34, 172.32, 174.3 , 176.28, 178.26,\n",
       "        180.24, 182.22, 184.2 , 186.18, 188.16, 190.14, 192.12, 194.1 ,\n",
       "        196.08, 198.06, 200.04, 202.02, 204.  ]),\n",
       " <BarContainer object of 100 artists>)"
      ]
     },
     "metadata": {},
     "execution_count": 41
    },
    {
     "output_type": "display_data",
     "data": {
      "text/plain": "<Figure size 432x288 with 1 Axes>",
      "image/svg+xml": "<?xml version=\"1.0\" encoding=\"utf-8\" standalone=\"no\"?>\n<!DOCTYPE svg PUBLIC \"-//W3C//DTD SVG 1.1//EN\"\n  \"http://www.w3.org/Graphics/SVG/1.1/DTD/svg11.dtd\">\n<!-- Created with matplotlib (https://matplotlib.org/) -->\n<svg height=\"248.518125pt\" version=\"1.1\" viewBox=\"0 0 381.65 248.518125\" width=\"381.65pt\" xmlns=\"http://www.w3.org/2000/svg\" xmlns:xlink=\"http://www.w3.org/1999/xlink\">\n <metadata>\n  <rdf:RDF xmlns:cc=\"http://creativecommons.org/ns#\" xmlns:dc=\"http://purl.org/dc/elements/1.1/\" xmlns:rdf=\"http://www.w3.org/1999/02/22-rdf-syntax-ns#\">\n   <cc:Work>\n    <dc:type rdf:resource=\"http://purl.org/dc/dcmitype/StillImage\"/>\n    <dc:date>2020-11-22T15:20:47.219341</dc:date>\n    <dc:format>image/svg+xml</dc:format>\n    <dc:creator>\n     <cc:Agent>\n      <dc:title>Matplotlib v3.3.3, https://matplotlib.org/</dc:title>\n     </cc:Agent>\n    </dc:creator>\n   </cc:Work>\n  </rdf:RDF>\n </metadata>\n <defs>\n  <style type=\"text/css\">*{stroke-linecap:butt;stroke-linejoin:round;}</style>\n </defs>\n <g id=\"figure_1\">\n  <g id=\"patch_1\">\n   <path d=\"M -0 248.518125 \nL 381.65 248.518125 \nL 381.65 0 \nL -0 0 \nz\n\" style=\"fill:none;\"/>\n  </g>\n  <g id=\"axes_1\">\n   <g id=\"patch_2\">\n    <path d=\"M 39.65 224.64 \nL 374.45 224.64 \nL 374.45 7.2 \nL 39.65 7.2 \nz\n\" style=\"fill:#ffffff;\"/>\n   </g>\n   <g id=\"patch_3\">\n    <path clip-path=\"url(#p06bc644ad6)\" d=\"M 54.868182 224.64 \nL 57.911818 224.64 \nL 57.911818 224.590184 \nL 54.868182 224.590184 \nz\n\" style=\"fill:#1f77b4;\"/>\n   </g>\n   <g id=\"patch_4\">\n    <path clip-path=\"url(#p06bc644ad6)\" d=\"M 57.911818 224.64 \nL 60.955455 224.64 \nL 60.955455 224.415827 \nL 57.911818 224.415827 \nz\n\" style=\"fill:#1f77b4;\"/>\n   </g>\n   <g id=\"patch_5\">\n    <path clip-path=\"url(#p06bc644ad6)\" d=\"M 60.955455 224.64 \nL 63.999091 224.64 \nL 63.999091 223.643677 \nL 60.955455 223.643677 \nz\n\" style=\"fill:#1f77b4;\"/>\n   </g>\n   <g id=\"patch_6\">\n    <path clip-path=\"url(#p06bc644ad6)\" d=\"M 63.999091 224.64 \nL 67.042727 224.64 \nL 67.042727 222.174101 \nL 63.999091 222.174101 \nz\n\" style=\"fill:#1f77b4;\"/>\n   </g>\n   <g id=\"patch_7\">\n    <path clip-path=\"url(#p06bc644ad6)\" d=\"M 67.042727 224.64 \nL 70.086364 224.64 \nL 70.086364 221.352134 \nL 67.042727 221.352134 \nz\n\" style=\"fill:#1f77b4;\"/>\n   </g>\n   <g id=\"patch_8\">\n    <path clip-path=\"url(#p06bc644ad6)\" d=\"M 70.086364 224.64 \nL 73.13 224.64 \nL 73.13 218.786603 \nL 70.086364 218.786603 \nz\n\" style=\"fill:#1f77b4;\"/>\n   </g>\n   <g id=\"patch_9\">\n    <path clip-path=\"url(#p06bc644ad6)\" d=\"M 73.13 224.64 \nL 76.173636 224.64 \nL 76.173636 217.167578 \nL 73.13 217.167578 \nz\n\" style=\"fill:#1f77b4;\"/>\n   </g>\n   <g id=\"patch_10\">\n    <path clip-path=\"url(#p06bc644ad6)\" d=\"M 76.173636 224.64 \nL 79.217273 224.64 \nL 79.217273 212.958114 \nL 76.173636 212.958114 \nz\n\" style=\"fill:#1f77b4;\"/>\n   </g>\n   <g id=\"patch_11\">\n    <path clip-path=\"url(#p06bc644ad6)\" d=\"M 79.217273 224.64 \nL 82.260909 224.64 \nL 82.260909 205.560417 \nL 79.217273 205.560417 \nz\n\" style=\"fill:#1f77b4;\"/>\n   </g>\n   <g id=\"patch_12\">\n    <path clip-path=\"url(#p06bc644ad6)\" d=\"M 82.260909 224.64 \nL 85.304545 224.64 \nL 85.304545 195.69682 \nL 82.260909 195.69682 \nz\n\" style=\"fill:#1f77b4;\"/>\n   </g>\n   <g id=\"patch_13\">\n    <path clip-path=\"url(#p06bc644ad6)\" d=\"M 85.304545 224.64 \nL 88.348182 224.64 \nL 88.348182 180.029642 \nL 85.304545 180.029642 \nz\n\" style=\"fill:#1f77b4;\"/>\n   </g>\n   <g id=\"patch_14\">\n    <path clip-path=\"url(#p06bc644ad6)\" d=\"M 88.348182 224.64 \nL 91.391818 224.64 \nL 91.391818 160.103184 \nL 88.348182 160.103184 \nz\n\" style=\"fill:#1f77b4;\"/>\n   </g>\n   <g id=\"patch_15\">\n    <path clip-path=\"url(#p06bc644ad6)\" d=\"M 91.391818 224.64 \nL 94.435455 224.64 \nL 94.435455 133.576087 \nL 91.391818 133.576087 \nz\n\" style=\"fill:#1f77b4;\"/>\n   </g>\n   <g id=\"patch_16\">\n    <path clip-path=\"url(#p06bc644ad6)\" d=\"M 94.435455 224.64 \nL 97.479091 224.64 \nL 97.479091 103.711308 \nL 94.435455 103.711308 \nz\n\" style=\"fill:#1f77b4;\"/>\n   </g>\n   <g id=\"patch_17\">\n    <path clip-path=\"url(#p06bc644ad6)\" d=\"M 97.479091 224.64 \nL 100.522727 224.64 \nL 100.522727 75.141749 \nL 97.479091 75.141749 \nz\n\" style=\"fill:#1f77b4;\"/>\n   </g>\n   <g id=\"patch_18\">\n    <path clip-path=\"url(#p06bc644ad6)\" d=\"M 100.522727 224.64 \nL 103.566364 224.64 \nL 103.566364 45.426419 \nL 100.522727 45.426419 \nz\n\" style=\"fill:#1f77b4;\"/>\n   </g>\n   <g id=\"patch_19\">\n    <path clip-path=\"url(#p06bc644ad6)\" d=\"M 103.566364 224.64 \nL 106.61 224.64 \nL 106.61 29.759241 \nL 103.566364 29.759241 \nz\n\" style=\"fill:#1f77b4;\"/>\n   </g>\n   <g id=\"patch_20\">\n    <path clip-path=\"url(#p06bc644ad6)\" d=\"M 106.61 224.64 \nL 109.653636 224.64 \nL 109.653636 17.554286 \nL 106.61 17.554286 \nz\n\" style=\"fill:#1f77b4;\"/>\n   </g>\n   <g id=\"patch_21\">\n    <path clip-path=\"url(#p06bc644ad6)\" d=\"M 109.653636 224.64 \nL 112.697273 224.64 \nL 112.697273 20.817243 \nL 109.653636 20.817243 \nz\n\" style=\"fill:#1f77b4;\"/>\n   </g>\n   <g id=\"patch_22\">\n    <path clip-path=\"url(#p06bc644ad6)\" d=\"M 112.697273 224.64 \nL 115.740909 224.64 \nL 115.740909 22.984246 \nL 112.697273 22.984246 \nz\n\" style=\"fill:#1f77b4;\"/>\n   </g>\n   <g id=\"patch_23\">\n    <path clip-path=\"url(#p06bc644ad6)\" d=\"M 115.740909 224.64 \nL 118.784545 224.64 \nL 118.784545 45.849856 \nL 115.740909 45.849856 \nz\n\" style=\"fill:#1f77b4;\"/>\n   </g>\n   <g id=\"patch_24\">\n    <path clip-path=\"url(#p06bc644ad6)\" d=\"M 118.784545 224.64 \nL 121.828182 224.64 \nL 121.828182 68.292029 \nL 118.784545 68.292029 \nz\n\" style=\"fill:#1f77b4;\"/>\n   </g>\n   <g id=\"patch_25\">\n    <path clip-path=\"url(#p06bc644ad6)\" d=\"M 121.828182 224.64 \nL 124.871818 224.64 \nL 124.871818 94.146608 \nL 121.828182 94.146608 \nz\n\" style=\"fill:#1f77b4;\"/>\n   </g>\n   <g id=\"patch_26\">\n    <path clip-path=\"url(#p06bc644ad6)\" d=\"M 124.871818 224.64 \nL 127.915455 224.64 \nL 127.915455 118.182898 \nL 124.871818 118.182898 \nz\n\" style=\"fill:#1f77b4;\"/>\n   </g>\n   <g id=\"patch_27\">\n    <path clip-path=\"url(#p06bc644ad6)\" d=\"M 127.915455 224.64 \nL 130.959091 224.64 \nL 130.959091 135.767998 \nL 127.915455 135.767998 \nz\n\" style=\"fill:#1f77b4;\"/>\n   </g>\n   <g id=\"patch_28\">\n    <path clip-path=\"url(#p06bc644ad6)\" d=\"M 130.959091 224.64 \nL 134.002727 224.64 \nL 134.002727 157.064399 \nL 130.959091 157.064399 \nz\n\" style=\"fill:#1f77b4;\"/>\n   </g>\n   <g id=\"patch_29\">\n    <path clip-path=\"url(#p06bc644ad6)\" d=\"M 134.002727 224.64 \nL 137.046364 224.64 \nL 137.046364 169.493528 \nL 134.002727 169.493528 \nz\n\" style=\"fill:#1f77b4;\"/>\n   </g>\n   <g id=\"patch_30\">\n    <path clip-path=\"url(#p06bc644ad6)\" d=\"M 137.046364 224.64 \nL 140.09 224.64 \nL 140.09 181.150506 \nL 137.046364 181.150506 \nz\n\" style=\"fill:#1f77b4;\"/>\n   </g>\n   <g id=\"patch_31\">\n    <path clip-path=\"url(#p06bc644ad6)\" d=\"M 140.09 224.64 \nL 143.133636 224.64 \nL 143.133636 191.063918 \nL 140.09 191.063918 \nz\n\" style=\"fill:#1f77b4;\"/>\n   </g>\n   <g id=\"patch_32\">\n    <path clip-path=\"url(#p06bc644ad6)\" d=\"M 143.133636 224.64 \nL 146.177273 224.64 \nL 146.177273 198.885053 \nL 143.133636 198.885053 \nz\n\" style=\"fill:#1f77b4;\"/>\n   </g>\n   <g id=\"patch_33\">\n    <path clip-path=\"url(#p06bc644ad6)\" d=\"M 146.177273 224.64 \nL 149.220909 224.64 \nL 149.220909 203.767035 \nL 146.177273 203.767035 \nz\n\" style=\"fill:#1f77b4;\"/>\n   </g>\n   <g id=\"patch_34\">\n    <path clip-path=\"url(#p06bc644ad6)\" d=\"M 149.220909 224.64 \nL 152.264545 224.64 \nL 152.264545 208.300304 \nL 149.220909 208.300304 \nz\n\" style=\"fill:#1f77b4;\"/>\n   </g>\n   <g id=\"patch_35\">\n    <path clip-path=\"url(#p06bc644ad6)\" d=\"M 152.264545 224.64 \nL 155.308182 224.64 \nL 155.308182 211.986699 \nL 152.264545 211.986699 \nz\n\" style=\"fill:#1f77b4;\"/>\n   </g>\n   <g id=\"patch_36\">\n    <path clip-path=\"url(#p06bc644ad6)\" d=\"M 155.308182 224.64 \nL 158.351818 224.64 \nL 158.351818 215.299473 \nL 155.308182 215.299473 \nz\n\" style=\"fill:#1f77b4;\"/>\n   </g>\n   <g id=\"patch_37\">\n    <path clip-path=\"url(#p06bc644ad6)\" d=\"M 158.351818 224.64 \nL 161.395455 224.64 \nL 161.395455 217.615924 \nL 158.351818 217.615924 \nz\n\" style=\"fill:#1f77b4;\"/>\n   </g>\n   <g id=\"patch_38\">\n    <path clip-path=\"url(#p06bc644ad6)\" d=\"M 161.395455 224.64 \nL 164.439091 224.64 \nL 164.439091 219.384397 \nL 161.395455 219.384397 \nz\n\" style=\"fill:#1f77b4;\"/>\n   </g>\n   <g id=\"patch_39\">\n    <path clip-path=\"url(#p06bc644ad6)\" d=\"M 164.439091 224.64 \nL 167.482727 224.64 \nL 167.482727 220.654708 \nL 164.439091 220.654708 \nz\n\" style=\"fill:#1f77b4;\"/>\n   </g>\n   <g id=\"patch_40\">\n    <path clip-path=\"url(#p06bc644ad6)\" d=\"M 167.482727 224.64 \nL 170.526364 224.64 \nL 170.526364 221.127962 \nL 167.482727 221.127962 \nz\n\" style=\"fill:#1f77b4;\"/>\n   </g>\n   <g id=\"patch_41\">\n    <path clip-path=\"url(#p06bc644ad6)\" d=\"M 170.526364 224.64 \nL 173.57 224.64 \nL 173.57 221.850296 \nL 170.526364 221.850296 \nz\n\" style=\"fill:#1f77b4;\"/>\n   </g>\n   <g id=\"patch_42\">\n    <path clip-path=\"url(#p06bc644ad6)\" d=\"M 173.57 224.64 \nL 176.613636 224.64 \nL 176.613636 222.298641 \nL 173.57 222.298641 \nz\n\" style=\"fill:#1f77b4;\"/>\n   </g>\n   <g id=\"patch_43\">\n    <path clip-path=\"url(#p06bc644ad6)\" d=\"M 176.613636 224.64 \nL 179.657273 224.64 \nL 179.657273 223.369688 \nL 176.613636 223.369688 \nz\n\" style=\"fill:#1f77b4;\"/>\n   </g>\n   <g id=\"patch_44\">\n    <path clip-path=\"url(#p06bc644ad6)\" d=\"M 179.657273 224.64 \nL 182.700909 224.64 \nL 182.700909 223.544045 \nL 179.657273 223.544045 \nz\n\" style=\"fill:#1f77b4;\"/>\n   </g>\n   <g id=\"patch_45\">\n    <path clip-path=\"url(#p06bc644ad6)\" d=\"M 182.700909 224.64 \nL 185.744545 224.64 \nL 185.744545 223.544045 \nL 182.700909 223.544045 \nz\n\" style=\"fill:#1f77b4;\"/>\n   </g>\n   <g id=\"patch_46\">\n    <path clip-path=\"url(#p06bc644ad6)\" d=\"M 185.744545 224.64 \nL 188.788182 224.64 \nL 188.788182 224.042206 \nL 185.744545 224.042206 \nz\n\" style=\"fill:#1f77b4;\"/>\n   </g>\n   <g id=\"patch_47\">\n    <path clip-path=\"url(#p06bc644ad6)\" d=\"M 188.788182 224.64 \nL 191.831818 224.64 \nL 191.831818 224.141839 \nL 188.788182 224.141839 \nz\n\" style=\"fill:#1f77b4;\"/>\n   </g>\n   <g id=\"patch_48\">\n    <path clip-path=\"url(#p06bc644ad6)\" d=\"M 191.831818 224.64 \nL 194.875455 224.64 \nL 194.875455 224.11693 \nL 191.831818 224.11693 \nz\n\" style=\"fill:#1f77b4;\"/>\n   </g>\n   <g id=\"patch_49\">\n    <path clip-path=\"url(#p06bc644ad6)\" d=\"M 194.875455 224.64 \nL 197.919091 224.64 \nL 197.919091 224.11693 \nL 194.875455 224.11693 \nz\n\" style=\"fill:#1f77b4;\"/>\n   </g>\n   <g id=\"patch_50\">\n    <path clip-path=\"url(#p06bc644ad6)\" d=\"M 197.919091 224.64 \nL 200.962727 224.64 \nL 200.962727 224.440735 \nL 197.919091 224.440735 \nz\n\" style=\"fill:#1f77b4;\"/>\n   </g>\n   <g id=\"patch_51\">\n    <path clip-path=\"url(#p06bc644ad6)\" d=\"M 200.962727 224.64 \nL 204.006364 224.64 \nL 204.006364 224.390919 \nL 200.962727 224.390919 \nz\n\" style=\"fill:#1f77b4;\"/>\n   </g>\n   <g id=\"patch_52\">\n    <path clip-path=\"url(#p06bc644ad6)\" d=\"M 204.006364 224.64 \nL 207.05 224.64 \nL 207.05 224.51546 \nL 204.006364 224.51546 \nz\n\" style=\"fill:#1f77b4;\"/>\n   </g>\n   <g id=\"patch_53\">\n    <path clip-path=\"url(#p06bc644ad6)\" d=\"M 207.05 224.64 \nL 210.093636 224.64 \nL 210.093636 224.415827 \nL 207.05 224.415827 \nz\n\" style=\"fill:#1f77b4;\"/>\n   </g>\n   <g id=\"patch_54\">\n    <path clip-path=\"url(#p06bc644ad6)\" d=\"M 210.093636 224.64 \nL 213.137273 224.64 \nL 213.137273 224.51546 \nL 210.093636 224.51546 \nz\n\" style=\"fill:#1f77b4;\"/>\n   </g>\n   <g id=\"patch_55\">\n    <path clip-path=\"url(#p06bc644ad6)\" d=\"M 213.137273 224.64 \nL 216.180909 224.64 \nL 216.180909 224.490552 \nL 213.137273 224.490552 \nz\n\" style=\"fill:#1f77b4;\"/>\n   </g>\n   <g id=\"patch_56\">\n    <path clip-path=\"url(#p06bc644ad6)\" d=\"M 216.180909 224.64 \nL 219.224545 224.64 \nL 219.224545 224.51546 \nL 216.180909 224.51546 \nz\n\" style=\"fill:#1f77b4;\"/>\n   </g>\n   <g id=\"patch_57\">\n    <path clip-path=\"url(#p06bc644ad6)\" d=\"M 219.224545 224.64 \nL 222.268182 224.64 \nL 222.268182 224.440735 \nL 219.224545 224.440735 \nz\n\" style=\"fill:#1f77b4;\"/>\n   </g>\n   <g id=\"patch_58\">\n    <path clip-path=\"url(#p06bc644ad6)\" d=\"M 222.268182 224.64 \nL 225.311818 224.64 \nL 225.311818 224.565276 \nL 222.268182 224.565276 \nz\n\" style=\"fill:#1f77b4;\"/>\n   </g>\n   <g id=\"patch_59\">\n    <path clip-path=\"url(#p06bc644ad6)\" d=\"M 225.311818 224.64 \nL 228.355455 224.64 \nL 228.355455 224.565276 \nL 225.311818 224.565276 \nz\n\" style=\"fill:#1f77b4;\"/>\n   </g>\n   <g id=\"patch_60\">\n    <path clip-path=\"url(#p06bc644ad6)\" d=\"M 228.355455 224.64 \nL 231.399091 224.64 \nL 231.399091 224.540368 \nL 228.355455 224.540368 \nz\n\" style=\"fill:#1f77b4;\"/>\n   </g>\n   <g id=\"patch_61\">\n    <path clip-path=\"url(#p06bc644ad6)\" d=\"M 231.399091 224.64 \nL 234.442727 224.64 \nL 234.442727 224.590184 \nL 231.399091 224.590184 \nz\n\" style=\"fill:#1f77b4;\"/>\n   </g>\n   <g id=\"patch_62\">\n    <path clip-path=\"url(#p06bc644ad6)\" d=\"M 234.442727 224.64 \nL 237.486364 224.64 \nL 237.486364 224.590184 \nL 234.442727 224.590184 \nz\n\" style=\"fill:#1f77b4;\"/>\n   </g>\n   <g id=\"patch_63\">\n    <path clip-path=\"url(#p06bc644ad6)\" d=\"M 237.486364 224.64 \nL 240.53 224.64 \nL 240.53 224.615092 \nL 237.486364 224.615092 \nz\n\" style=\"fill:#1f77b4;\"/>\n   </g>\n   <g id=\"patch_64\">\n    <path clip-path=\"url(#p06bc644ad6)\" d=\"M 240.53 224.64 \nL 243.573636 224.64 \nL 243.573636 224.565276 \nL 240.53 224.565276 \nz\n\" style=\"fill:#1f77b4;\"/>\n   </g>\n   <g id=\"patch_65\">\n    <path clip-path=\"url(#p06bc644ad6)\" d=\"M 243.573636 224.64 \nL 246.617273 224.64 \nL 246.617273 224.615092 \nL 243.573636 224.615092 \nz\n\" style=\"fill:#1f77b4;\"/>\n   </g>\n   <g id=\"patch_66\">\n    <path clip-path=\"url(#p06bc644ad6)\" d=\"M 246.617273 224.64 \nL 249.660909 224.64 \nL 249.660909 224.64 \nL 246.617273 224.64 \nz\n\" style=\"fill:#1f77b4;\"/>\n   </g>\n   <g id=\"patch_67\">\n    <path clip-path=\"url(#p06bc644ad6)\" d=\"M 249.660909 224.64 \nL 252.704545 224.64 \nL 252.704545 224.590184 \nL 249.660909 224.590184 \nz\n\" style=\"fill:#1f77b4;\"/>\n   </g>\n   <g id=\"patch_68\">\n    <path clip-path=\"url(#p06bc644ad6)\" d=\"M 252.704545 224.64 \nL 255.748182 224.64 \nL 255.748182 224.590184 \nL 252.704545 224.590184 \nz\n\" style=\"fill:#1f77b4;\"/>\n   </g>\n   <g id=\"patch_69\">\n    <path clip-path=\"url(#p06bc644ad6)\" d=\"M 255.748182 224.64 \nL 258.791818 224.64 \nL 258.791818 224.590184 \nL 255.748182 224.590184 \nz\n\" style=\"fill:#1f77b4;\"/>\n   </g>\n   <g id=\"patch_70\">\n    <path clip-path=\"url(#p06bc644ad6)\" d=\"M 258.791818 224.64 \nL 261.835455 224.64 \nL 261.835455 224.64 \nL 258.791818 224.64 \nz\n\" style=\"fill:#1f77b4;\"/>\n   </g>\n   <g id=\"patch_71\">\n    <path clip-path=\"url(#p06bc644ad6)\" d=\"M 261.835455 224.64 \nL 264.879091 224.64 \nL 264.879091 224.615092 \nL 261.835455 224.615092 \nz\n\" style=\"fill:#1f77b4;\"/>\n   </g>\n   <g id=\"patch_72\">\n    <path clip-path=\"url(#p06bc644ad6)\" d=\"M 264.879091 224.64 \nL 267.922727 224.64 \nL 267.922727 224.64 \nL 264.879091 224.64 \nz\n\" style=\"fill:#1f77b4;\"/>\n   </g>\n   <g id=\"patch_73\">\n    <path clip-path=\"url(#p06bc644ad6)\" d=\"M 267.922727 224.64 \nL 270.966364 224.64 \nL 270.966364 224.64 \nL 267.922727 224.64 \nz\n\" style=\"fill:#1f77b4;\"/>\n   </g>\n   <g id=\"patch_74\">\n    <path clip-path=\"url(#p06bc644ad6)\" d=\"M 270.966364 224.64 \nL 274.01 224.64 \nL 274.01 224.615092 \nL 270.966364 224.615092 \nz\n\" style=\"fill:#1f77b4;\"/>\n   </g>\n   <g id=\"patch_75\">\n    <path clip-path=\"url(#p06bc644ad6)\" d=\"M 274.01 224.64 \nL 277.053636 224.64 \nL 277.053636 224.615092 \nL 274.01 224.615092 \nz\n\" style=\"fill:#1f77b4;\"/>\n   </g>\n   <g id=\"patch_76\">\n    <path clip-path=\"url(#p06bc644ad6)\" d=\"M 277.053636 224.64 \nL 280.097273 224.64 \nL 280.097273 224.64 \nL 277.053636 224.64 \nz\n\" style=\"fill:#1f77b4;\"/>\n   </g>\n   <g id=\"patch_77\">\n    <path clip-path=\"url(#p06bc644ad6)\" d=\"M 280.097273 224.64 \nL 283.140909 224.64 \nL 283.140909 224.615092 \nL 280.097273 224.615092 \nz\n\" style=\"fill:#1f77b4;\"/>\n   </g>\n   <g id=\"patch_78\">\n    <path clip-path=\"url(#p06bc644ad6)\" d=\"M 283.140909 224.64 \nL 286.184545 224.64 \nL 286.184545 224.64 \nL 283.140909 224.64 \nz\n\" style=\"fill:#1f77b4;\"/>\n   </g>\n   <g id=\"patch_79\">\n    <path clip-path=\"url(#p06bc644ad6)\" d=\"M 286.184545 224.64 \nL 289.228182 224.64 \nL 289.228182 224.64 \nL 286.184545 224.64 \nz\n\" style=\"fill:#1f77b4;\"/>\n   </g>\n   <g id=\"patch_80\">\n    <path clip-path=\"url(#p06bc644ad6)\" d=\"M 289.228182 224.64 \nL 292.271818 224.64 \nL 292.271818 224.64 \nL 289.228182 224.64 \nz\n\" style=\"fill:#1f77b4;\"/>\n   </g>\n   <g id=\"patch_81\">\n    <path clip-path=\"url(#p06bc644ad6)\" d=\"M 292.271818 224.64 \nL 295.315455 224.64 \nL 295.315455 224.64 \nL 292.271818 224.64 \nz\n\" style=\"fill:#1f77b4;\"/>\n   </g>\n   <g id=\"patch_82\">\n    <path clip-path=\"url(#p06bc644ad6)\" d=\"M 295.315455 224.64 \nL 298.359091 224.64 \nL 298.359091 224.64 \nL 295.315455 224.64 \nz\n\" style=\"fill:#1f77b4;\"/>\n   </g>\n   <g id=\"patch_83\">\n    <path clip-path=\"url(#p06bc644ad6)\" d=\"M 298.359091 224.64 \nL 301.402727 224.64 \nL 301.402727 224.64 \nL 298.359091 224.64 \nz\n\" style=\"fill:#1f77b4;\"/>\n   </g>\n   <g id=\"patch_84\">\n    <path clip-path=\"url(#p06bc644ad6)\" d=\"M 301.402727 224.64 \nL 304.446364 224.64 \nL 304.446364 224.64 \nL 301.402727 224.64 \nz\n\" style=\"fill:#1f77b4;\"/>\n   </g>\n   <g id=\"patch_85\">\n    <path clip-path=\"url(#p06bc644ad6)\" d=\"M 304.446364 224.64 \nL 307.49 224.64 \nL 307.49 224.64 \nL 304.446364 224.64 \nz\n\" style=\"fill:#1f77b4;\"/>\n   </g>\n   <g id=\"patch_86\">\n    <path clip-path=\"url(#p06bc644ad6)\" d=\"M 307.49 224.64 \nL 310.533636 224.64 \nL 310.533636 224.64 \nL 307.49 224.64 \nz\n\" style=\"fill:#1f77b4;\"/>\n   </g>\n   <g id=\"patch_87\">\n    <path clip-path=\"url(#p06bc644ad6)\" d=\"M 310.533636 224.64 \nL 313.577273 224.64 \nL 313.577273 224.64 \nL 310.533636 224.64 \nz\n\" style=\"fill:#1f77b4;\"/>\n   </g>\n   <g id=\"patch_88\">\n    <path clip-path=\"url(#p06bc644ad6)\" d=\"M 313.577273 224.64 \nL 316.620909 224.64 \nL 316.620909 224.64 \nL 313.577273 224.64 \nz\n\" style=\"fill:#1f77b4;\"/>\n   </g>\n   <g id=\"patch_89\">\n    <path clip-path=\"url(#p06bc644ad6)\" d=\"M 316.620909 224.64 \nL 319.664545 224.64 \nL 319.664545 224.64 \nL 316.620909 224.64 \nz\n\" style=\"fill:#1f77b4;\"/>\n   </g>\n   <g id=\"patch_90\">\n    <path clip-path=\"url(#p06bc644ad6)\" d=\"M 319.664545 224.64 \nL 322.708182 224.64 \nL 322.708182 224.64 \nL 319.664545 224.64 \nz\n\" style=\"fill:#1f77b4;\"/>\n   </g>\n   <g id=\"patch_91\">\n    <path clip-path=\"url(#p06bc644ad6)\" d=\"M 322.708182 224.64 \nL 325.751818 224.64 \nL 325.751818 224.64 \nL 322.708182 224.64 \nz\n\" style=\"fill:#1f77b4;\"/>\n   </g>\n   <g id=\"patch_92\">\n    <path clip-path=\"url(#p06bc644ad6)\" d=\"M 325.751818 224.64 \nL 328.795455 224.64 \nL 328.795455 224.64 \nL 325.751818 224.64 \nz\n\" style=\"fill:#1f77b4;\"/>\n   </g>\n   <g id=\"patch_93\">\n    <path clip-path=\"url(#p06bc644ad6)\" d=\"M 328.795455 224.64 \nL 331.839091 224.64 \nL 331.839091 224.64 \nL 328.795455 224.64 \nz\n\" style=\"fill:#1f77b4;\"/>\n   </g>\n   <g id=\"patch_94\">\n    <path clip-path=\"url(#p06bc644ad6)\" d=\"M 331.839091 224.64 \nL 334.882727 224.64 \nL 334.882727 224.64 \nL 331.839091 224.64 \nz\n\" style=\"fill:#1f77b4;\"/>\n   </g>\n   <g id=\"patch_95\">\n    <path clip-path=\"url(#p06bc644ad6)\" d=\"M 334.882727 224.64 \nL 337.926364 224.64 \nL 337.926364 224.64 \nL 334.882727 224.64 \nz\n\" style=\"fill:#1f77b4;\"/>\n   </g>\n   <g id=\"patch_96\">\n    <path clip-path=\"url(#p06bc644ad6)\" d=\"M 337.926364 224.64 \nL 340.97 224.64 \nL 340.97 224.64 \nL 337.926364 224.64 \nz\n\" style=\"fill:#1f77b4;\"/>\n   </g>\n   <g id=\"patch_97\">\n    <path clip-path=\"url(#p06bc644ad6)\" d=\"M 340.97 224.64 \nL 344.013636 224.64 \nL 344.013636 224.64 \nL 340.97 224.64 \nz\n\" style=\"fill:#1f77b4;\"/>\n   </g>\n   <g id=\"patch_98\">\n    <path clip-path=\"url(#p06bc644ad6)\" d=\"M 344.013636 224.64 \nL 347.057273 224.64 \nL 347.057273 224.64 \nL 344.013636 224.64 \nz\n\" style=\"fill:#1f77b4;\"/>\n   </g>\n   <g id=\"patch_99\">\n    <path clip-path=\"url(#p06bc644ad6)\" d=\"M 347.057273 224.64 \nL 350.100909 224.64 \nL 350.100909 224.64 \nL 347.057273 224.64 \nz\n\" style=\"fill:#1f77b4;\"/>\n   </g>\n   <g id=\"patch_100\">\n    <path clip-path=\"url(#p06bc644ad6)\" d=\"M 350.100909 224.64 \nL 353.144545 224.64 \nL 353.144545 224.64 \nL 350.100909 224.64 \nz\n\" style=\"fill:#1f77b4;\"/>\n   </g>\n   <g id=\"patch_101\">\n    <path clip-path=\"url(#p06bc644ad6)\" d=\"M 353.144545 224.64 \nL 356.188182 224.64 \nL 356.188182 224.64 \nL 353.144545 224.64 \nz\n\" style=\"fill:#1f77b4;\"/>\n   </g>\n   <g id=\"patch_102\">\n    <path clip-path=\"url(#p06bc644ad6)\" d=\"M 356.188182 224.64 \nL 359.231818 224.64 \nL 359.231818 224.615092 \nL 356.188182 224.615092 \nz\n\" style=\"fill:#1f77b4;\"/>\n   </g>\n   <g id=\"matplotlib.axis_1\">\n    <g id=\"xtick_1\">\n     <g id=\"line2d_1\">\n      <defs>\n       <path d=\"M 0 0 \nL 0 3.5 \n\" id=\"m643f07a08d\" style=\"stroke:#000000;stroke-width:0.8;\"/>\n      </defs>\n      <g>\n       <use style=\"stroke:#000000;stroke-width:0.8;\" x=\"45.645041\" xlink:href=\"#m643f07a08d\" y=\"224.64\"/>\n      </g>\n     </g>\n     <g id=\"text_1\">\n      <!-- 0 -->\n      <g transform=\"translate(42.463791 239.238437)scale(0.1 -0.1)\">\n       <defs>\n        <path d=\"M 31.78125 66.40625 \nQ 24.171875 66.40625 20.328125 58.90625 \nQ 16.5 51.421875 16.5 36.375 \nQ 16.5 21.390625 20.328125 13.890625 \nQ 24.171875 6.390625 31.78125 6.390625 \nQ 39.453125 6.390625 43.28125 13.890625 \nQ 47.125 21.390625 47.125 36.375 \nQ 47.125 51.421875 43.28125 58.90625 \nQ 39.453125 66.40625 31.78125 66.40625 \nz\nM 31.78125 74.21875 \nQ 44.046875 74.21875 50.515625 64.515625 \nQ 56.984375 54.828125 56.984375 36.375 \nQ 56.984375 17.96875 50.515625 8.265625 \nQ 44.046875 -1.421875 31.78125 -1.421875 \nQ 19.53125 -1.421875 13.0625 8.265625 \nQ 6.59375 17.96875 6.59375 36.375 \nQ 6.59375 54.828125 13.0625 64.515625 \nQ 19.53125 74.21875 31.78125 74.21875 \nz\n\" id=\"DejaVuSans-48\"/>\n       </defs>\n       <use xlink:href=\"#DejaVuSans-48\"/>\n      </g>\n     </g>\n    </g>\n    <g id=\"xtick_2\">\n     <g id=\"line2d_2\">\n      <g>\n       <use style=\"stroke:#000000;stroke-width:0.8;\" x=\"84.074793\" xlink:href=\"#m643f07a08d\" y=\"224.64\"/>\n      </g>\n     </g>\n     <g id=\"text_2\">\n      <!-- 25 -->\n      <g transform=\"translate(77.712293 239.238437)scale(0.1 -0.1)\">\n       <defs>\n        <path d=\"M 19.1875 8.296875 \nL 53.609375 8.296875 \nL 53.609375 0 \nL 7.328125 0 \nL 7.328125 8.296875 \nQ 12.9375 14.109375 22.625 23.890625 \nQ 32.328125 33.6875 34.8125 36.53125 \nQ 39.546875 41.84375 41.421875 45.53125 \nQ 43.3125 49.21875 43.3125 52.78125 \nQ 43.3125 58.59375 39.234375 62.25 \nQ 35.15625 65.921875 28.609375 65.921875 \nQ 23.96875 65.921875 18.8125 64.3125 \nQ 13.671875 62.703125 7.8125 59.421875 \nL 7.8125 69.390625 \nQ 13.765625 71.78125 18.9375 73 \nQ 24.125 74.21875 28.421875 74.21875 \nQ 39.75 74.21875 46.484375 68.546875 \nQ 53.21875 62.890625 53.21875 53.421875 \nQ 53.21875 48.921875 51.53125 44.890625 \nQ 49.859375 40.875 45.40625 35.40625 \nQ 44.1875 33.984375 37.640625 27.21875 \nQ 31.109375 20.453125 19.1875 8.296875 \nz\n\" id=\"DejaVuSans-50\"/>\n        <path d=\"M 10.796875 72.90625 \nL 49.515625 72.90625 \nL 49.515625 64.59375 \nL 19.828125 64.59375 \nL 19.828125 46.734375 \nQ 21.96875 47.46875 24.109375 47.828125 \nQ 26.265625 48.1875 28.421875 48.1875 \nQ 40.625 48.1875 47.75 41.5 \nQ 54.890625 34.8125 54.890625 23.390625 \nQ 54.890625 11.625 47.5625 5.09375 \nQ 40.234375 -1.421875 26.90625 -1.421875 \nQ 22.3125 -1.421875 17.546875 -0.640625 \nQ 12.796875 0.140625 7.71875 1.703125 \nL 7.71875 11.625 \nQ 12.109375 9.234375 16.796875 8.0625 \nQ 21.484375 6.890625 26.703125 6.890625 \nQ 35.15625 6.890625 40.078125 11.328125 \nQ 45.015625 15.765625 45.015625 23.390625 \nQ 45.015625 31 40.078125 35.4375 \nQ 35.15625 39.890625 26.703125 39.890625 \nQ 22.75 39.890625 18.8125 39.015625 \nQ 14.890625 38.140625 10.796875 36.28125 \nz\n\" id=\"DejaVuSans-53\"/>\n       </defs>\n       <use xlink:href=\"#DejaVuSans-50\"/>\n       <use x=\"63.623047\" xlink:href=\"#DejaVuSans-53\"/>\n      </g>\n     </g>\n    </g>\n    <g id=\"xtick_3\">\n     <g id=\"line2d_3\">\n      <g>\n       <use style=\"stroke:#000000;stroke-width:0.8;\" x=\"122.504545\" xlink:href=\"#m643f07a08d\" y=\"224.64\"/>\n      </g>\n     </g>\n     <g id=\"text_3\">\n      <!-- 50 -->\n      <g transform=\"translate(116.142045 239.238437)scale(0.1 -0.1)\">\n       <use xlink:href=\"#DejaVuSans-53\"/>\n       <use x=\"63.623047\" xlink:href=\"#DejaVuSans-48\"/>\n      </g>\n     </g>\n    </g>\n    <g id=\"xtick_4\">\n     <g id=\"line2d_4\">\n      <g>\n       <use style=\"stroke:#000000;stroke-width:0.8;\" x=\"160.934298\" xlink:href=\"#m643f07a08d\" y=\"224.64\"/>\n      </g>\n     </g>\n     <g id=\"text_4\">\n      <!-- 75 -->\n      <g transform=\"translate(154.571798 239.238437)scale(0.1 -0.1)\">\n       <defs>\n        <path d=\"M 8.203125 72.90625 \nL 55.078125 72.90625 \nL 55.078125 68.703125 \nL 28.609375 0 \nL 18.3125 0 \nL 43.21875 64.59375 \nL 8.203125 64.59375 \nz\n\" id=\"DejaVuSans-55\"/>\n       </defs>\n       <use xlink:href=\"#DejaVuSans-55\"/>\n       <use x=\"63.623047\" xlink:href=\"#DejaVuSans-53\"/>\n      </g>\n     </g>\n    </g>\n    <g id=\"xtick_5\">\n     <g id=\"line2d_5\">\n      <g>\n       <use style=\"stroke:#000000;stroke-width:0.8;\" x=\"199.36405\" xlink:href=\"#m643f07a08d\" y=\"224.64\"/>\n      </g>\n     </g>\n     <g id=\"text_5\">\n      <!-- 100 -->\n      <g transform=\"translate(189.8203 239.238437)scale(0.1 -0.1)\">\n       <defs>\n        <path d=\"M 12.40625 8.296875 \nL 28.515625 8.296875 \nL 28.515625 63.921875 \nL 10.984375 60.40625 \nL 10.984375 69.390625 \nL 28.421875 72.90625 \nL 38.28125 72.90625 \nL 38.28125 8.296875 \nL 54.390625 8.296875 \nL 54.390625 0 \nL 12.40625 0 \nz\n\" id=\"DejaVuSans-49\"/>\n       </defs>\n       <use xlink:href=\"#DejaVuSans-49\"/>\n       <use x=\"63.623047\" xlink:href=\"#DejaVuSans-48\"/>\n       <use x=\"127.246094\" xlink:href=\"#DejaVuSans-48\"/>\n      </g>\n     </g>\n    </g>\n    <g id=\"xtick_6\">\n     <g id=\"line2d_6\">\n      <g>\n       <use style=\"stroke:#000000;stroke-width:0.8;\" x=\"237.793802\" xlink:href=\"#m643f07a08d\" y=\"224.64\"/>\n      </g>\n     </g>\n     <g id=\"text_6\">\n      <!-- 125 -->\n      <g transform=\"translate(228.250052 239.238437)scale(0.1 -0.1)\">\n       <use xlink:href=\"#DejaVuSans-49\"/>\n       <use x=\"63.623047\" xlink:href=\"#DejaVuSans-50\"/>\n       <use x=\"127.246094\" xlink:href=\"#DejaVuSans-53\"/>\n      </g>\n     </g>\n    </g>\n    <g id=\"xtick_7\">\n     <g id=\"line2d_7\">\n      <g>\n       <use style=\"stroke:#000000;stroke-width:0.8;\" x=\"276.223554\" xlink:href=\"#m643f07a08d\" y=\"224.64\"/>\n      </g>\n     </g>\n     <g id=\"text_7\">\n      <!-- 150 -->\n      <g transform=\"translate(266.679804 239.238437)scale(0.1 -0.1)\">\n       <use xlink:href=\"#DejaVuSans-49\"/>\n       <use x=\"63.623047\" xlink:href=\"#DejaVuSans-53\"/>\n       <use x=\"127.246094\" xlink:href=\"#DejaVuSans-48\"/>\n      </g>\n     </g>\n    </g>\n    <g id=\"xtick_8\">\n     <g id=\"line2d_8\">\n      <g>\n       <use style=\"stroke:#000000;stroke-width:0.8;\" x=\"314.653306\" xlink:href=\"#m643f07a08d\" y=\"224.64\"/>\n      </g>\n     </g>\n     <g id=\"text_8\">\n      <!-- 175 -->\n      <g transform=\"translate(305.109556 239.238437)scale(0.1 -0.1)\">\n       <use xlink:href=\"#DejaVuSans-49\"/>\n       <use x=\"63.623047\" xlink:href=\"#DejaVuSans-55\"/>\n       <use x=\"127.246094\" xlink:href=\"#DejaVuSans-53\"/>\n      </g>\n     </g>\n    </g>\n    <g id=\"xtick_9\">\n     <g id=\"line2d_9\">\n      <g>\n       <use style=\"stroke:#000000;stroke-width:0.8;\" x=\"353.083058\" xlink:href=\"#m643f07a08d\" y=\"224.64\"/>\n      </g>\n     </g>\n     <g id=\"text_9\">\n      <!-- 200 -->\n      <g transform=\"translate(343.539308 239.238437)scale(0.1 -0.1)\">\n       <use xlink:href=\"#DejaVuSans-50\"/>\n       <use x=\"63.623047\" xlink:href=\"#DejaVuSans-48\"/>\n       <use x=\"127.246094\" xlink:href=\"#DejaVuSans-48\"/>\n      </g>\n     </g>\n    </g>\n   </g>\n   <g id=\"matplotlib.axis_2\">\n    <g id=\"ytick_1\">\n     <g id=\"line2d_10\">\n      <defs>\n       <path d=\"M 0 0 \nL -3.5 0 \n\" id=\"m44fcd3885d\" style=\"stroke:#000000;stroke-width:0.8;\"/>\n      </defs>\n      <g>\n       <use style=\"stroke:#000000;stroke-width:0.8;\" x=\"39.65\" xlink:href=\"#m44fcd3885d\" y=\"224.64\"/>\n      </g>\n     </g>\n     <g id=\"text_10\">\n      <!-- 0 -->\n      <g transform=\"translate(26.2875 228.439219)scale(0.1 -0.1)\">\n       <use xlink:href=\"#DejaVuSans-48\"/>\n      </g>\n     </g>\n    </g>\n    <g id=\"ytick_2\">\n     <g id=\"line2d_11\">\n      <g>\n       <use style=\"stroke:#000000;stroke-width:0.8;\" x=\"39.65\" xlink:href=\"#m44fcd3885d\" y=\"199.731928\"/>\n      </g>\n     </g>\n     <g id=\"text_11\">\n      <!-- 1000 -->\n      <g transform=\"translate(7.2 203.531146)scale(0.1 -0.1)\">\n       <use xlink:href=\"#DejaVuSans-49\"/>\n       <use x=\"63.623047\" xlink:href=\"#DejaVuSans-48\"/>\n       <use x=\"127.246094\" xlink:href=\"#DejaVuSans-48\"/>\n       <use x=\"190.869141\" xlink:href=\"#DejaVuSans-48\"/>\n      </g>\n     </g>\n    </g>\n    <g id=\"ytick_3\">\n     <g id=\"line2d_12\">\n      <g>\n       <use style=\"stroke:#000000;stroke-width:0.8;\" x=\"39.65\" xlink:href=\"#m44fcd3885d\" y=\"174.823855\"/>\n      </g>\n     </g>\n     <g id=\"text_12\">\n      <!-- 2000 -->\n      <g transform=\"translate(7.2 178.623074)scale(0.1 -0.1)\">\n       <use xlink:href=\"#DejaVuSans-50\"/>\n       <use x=\"63.623047\" xlink:href=\"#DejaVuSans-48\"/>\n       <use x=\"127.246094\" xlink:href=\"#DejaVuSans-48\"/>\n       <use x=\"190.869141\" xlink:href=\"#DejaVuSans-48\"/>\n      </g>\n     </g>\n    </g>\n    <g id=\"ytick_4\">\n     <g id=\"line2d_13\">\n      <g>\n       <use style=\"stroke:#000000;stroke-width:0.8;\" x=\"39.65\" xlink:href=\"#m44fcd3885d\" y=\"149.915783\"/>\n      </g>\n     </g>\n     <g id=\"text_13\">\n      <!-- 3000 -->\n      <g transform=\"translate(7.2 153.715001)scale(0.1 -0.1)\">\n       <defs>\n        <path d=\"M 40.578125 39.3125 \nQ 47.65625 37.796875 51.625 33 \nQ 55.609375 28.21875 55.609375 21.1875 \nQ 55.609375 10.40625 48.1875 4.484375 \nQ 40.765625 -1.421875 27.09375 -1.421875 \nQ 22.515625 -1.421875 17.65625 -0.515625 \nQ 12.796875 0.390625 7.625 2.203125 \nL 7.625 11.71875 \nQ 11.71875 9.328125 16.59375 8.109375 \nQ 21.484375 6.890625 26.8125 6.890625 \nQ 36.078125 6.890625 40.9375 10.546875 \nQ 45.796875 14.203125 45.796875 21.1875 \nQ 45.796875 27.640625 41.28125 31.265625 \nQ 36.765625 34.90625 28.71875 34.90625 \nL 20.21875 34.90625 \nL 20.21875 43.015625 \nL 29.109375 43.015625 \nQ 36.375 43.015625 40.234375 45.921875 \nQ 44.09375 48.828125 44.09375 54.296875 \nQ 44.09375 59.90625 40.109375 62.90625 \nQ 36.140625 65.921875 28.71875 65.921875 \nQ 24.65625 65.921875 20.015625 65.03125 \nQ 15.375 64.15625 9.8125 62.3125 \nL 9.8125 71.09375 \nQ 15.4375 72.65625 20.34375 73.4375 \nQ 25.25 74.21875 29.59375 74.21875 \nQ 40.828125 74.21875 47.359375 69.109375 \nQ 53.90625 64.015625 53.90625 55.328125 \nQ 53.90625 49.265625 50.4375 45.09375 \nQ 46.96875 40.921875 40.578125 39.3125 \nz\n\" id=\"DejaVuSans-51\"/>\n       </defs>\n       <use xlink:href=\"#DejaVuSans-51\"/>\n       <use x=\"63.623047\" xlink:href=\"#DejaVuSans-48\"/>\n       <use x=\"127.246094\" xlink:href=\"#DejaVuSans-48\"/>\n       <use x=\"190.869141\" xlink:href=\"#DejaVuSans-48\"/>\n      </g>\n     </g>\n    </g>\n    <g id=\"ytick_5\">\n     <g id=\"line2d_14\">\n      <g>\n       <use style=\"stroke:#000000;stroke-width:0.8;\" x=\"39.65\" xlink:href=\"#m44fcd3885d\" y=\"125.00771\"/>\n      </g>\n     </g>\n     <g id=\"text_14\">\n      <!-- 4000 -->\n      <g transform=\"translate(7.2 128.806929)scale(0.1 -0.1)\">\n       <defs>\n        <path d=\"M 37.796875 64.3125 \nL 12.890625 25.390625 \nL 37.796875 25.390625 \nz\nM 35.203125 72.90625 \nL 47.609375 72.90625 \nL 47.609375 25.390625 \nL 58.015625 25.390625 \nL 58.015625 17.1875 \nL 47.609375 17.1875 \nL 47.609375 0 \nL 37.796875 0 \nL 37.796875 17.1875 \nL 4.890625 17.1875 \nL 4.890625 26.703125 \nz\n\" id=\"DejaVuSans-52\"/>\n       </defs>\n       <use xlink:href=\"#DejaVuSans-52\"/>\n       <use x=\"63.623047\" xlink:href=\"#DejaVuSans-48\"/>\n       <use x=\"127.246094\" xlink:href=\"#DejaVuSans-48\"/>\n       <use x=\"190.869141\" xlink:href=\"#DejaVuSans-48\"/>\n      </g>\n     </g>\n    </g>\n    <g id=\"ytick_6\">\n     <g id=\"line2d_15\">\n      <g>\n       <use style=\"stroke:#000000;stroke-width:0.8;\" x=\"39.65\" xlink:href=\"#m44fcd3885d\" y=\"100.099638\"/>\n      </g>\n     </g>\n     <g id=\"text_15\">\n      <!-- 5000 -->\n      <g transform=\"translate(7.2 103.898857)scale(0.1 -0.1)\">\n       <use xlink:href=\"#DejaVuSans-53\"/>\n       <use x=\"63.623047\" xlink:href=\"#DejaVuSans-48\"/>\n       <use x=\"127.246094\" xlink:href=\"#DejaVuSans-48\"/>\n       <use x=\"190.869141\" xlink:href=\"#DejaVuSans-48\"/>\n      </g>\n     </g>\n    </g>\n    <g id=\"ytick_7\">\n     <g id=\"line2d_16\">\n      <g>\n       <use style=\"stroke:#000000;stroke-width:0.8;\" x=\"39.65\" xlink:href=\"#m44fcd3885d\" y=\"75.191565\"/>\n      </g>\n     </g>\n     <g id=\"text_16\">\n      <!-- 6000 -->\n      <g transform=\"translate(7.2 78.990784)scale(0.1 -0.1)\">\n       <defs>\n        <path d=\"M 33.015625 40.375 \nQ 26.375 40.375 22.484375 35.828125 \nQ 18.609375 31.296875 18.609375 23.390625 \nQ 18.609375 15.53125 22.484375 10.953125 \nQ 26.375 6.390625 33.015625 6.390625 \nQ 39.65625 6.390625 43.53125 10.953125 \nQ 47.40625 15.53125 47.40625 23.390625 \nQ 47.40625 31.296875 43.53125 35.828125 \nQ 39.65625 40.375 33.015625 40.375 \nz\nM 52.59375 71.296875 \nL 52.59375 62.3125 \nQ 48.875 64.0625 45.09375 64.984375 \nQ 41.3125 65.921875 37.59375 65.921875 \nQ 27.828125 65.921875 22.671875 59.328125 \nQ 17.53125 52.734375 16.796875 39.40625 \nQ 19.671875 43.65625 24.015625 45.921875 \nQ 28.375 48.1875 33.59375 48.1875 \nQ 44.578125 48.1875 50.953125 41.515625 \nQ 57.328125 34.859375 57.328125 23.390625 \nQ 57.328125 12.15625 50.6875 5.359375 \nQ 44.046875 -1.421875 33.015625 -1.421875 \nQ 20.359375 -1.421875 13.671875 8.265625 \nQ 6.984375 17.96875 6.984375 36.375 \nQ 6.984375 53.65625 15.1875 63.9375 \nQ 23.390625 74.21875 37.203125 74.21875 \nQ 40.921875 74.21875 44.703125 73.484375 \nQ 48.484375 72.75 52.59375 71.296875 \nz\n\" id=\"DejaVuSans-54\"/>\n       </defs>\n       <use xlink:href=\"#DejaVuSans-54\"/>\n       <use x=\"63.623047\" xlink:href=\"#DejaVuSans-48\"/>\n       <use x=\"127.246094\" xlink:href=\"#DejaVuSans-48\"/>\n       <use x=\"190.869141\" xlink:href=\"#DejaVuSans-48\"/>\n      </g>\n     </g>\n    </g>\n    <g id=\"ytick_8\">\n     <g id=\"line2d_17\">\n      <g>\n       <use style=\"stroke:#000000;stroke-width:0.8;\" x=\"39.65\" xlink:href=\"#m44fcd3885d\" y=\"50.283493\"/>\n      </g>\n     </g>\n     <g id=\"text_17\">\n      <!-- 7000 -->\n      <g transform=\"translate(7.2 54.082712)scale(0.1 -0.1)\">\n       <use xlink:href=\"#DejaVuSans-55\"/>\n       <use x=\"63.623047\" xlink:href=\"#DejaVuSans-48\"/>\n       <use x=\"127.246094\" xlink:href=\"#DejaVuSans-48\"/>\n       <use x=\"190.869141\" xlink:href=\"#DejaVuSans-48\"/>\n      </g>\n     </g>\n    </g>\n    <g id=\"ytick_9\">\n     <g id=\"line2d_18\">\n      <g>\n       <use style=\"stroke:#000000;stroke-width:0.8;\" x=\"39.65\" xlink:href=\"#m44fcd3885d\" y=\"25.37542\"/>\n      </g>\n     </g>\n     <g id=\"text_18\">\n      <!-- 8000 -->\n      <g transform=\"translate(7.2 29.174639)scale(0.1 -0.1)\">\n       <defs>\n        <path d=\"M 31.78125 34.625 \nQ 24.75 34.625 20.71875 30.859375 \nQ 16.703125 27.09375 16.703125 20.515625 \nQ 16.703125 13.921875 20.71875 10.15625 \nQ 24.75 6.390625 31.78125 6.390625 \nQ 38.8125 6.390625 42.859375 10.171875 \nQ 46.921875 13.96875 46.921875 20.515625 \nQ 46.921875 27.09375 42.890625 30.859375 \nQ 38.875 34.625 31.78125 34.625 \nz\nM 21.921875 38.8125 \nQ 15.578125 40.375 12.03125 44.71875 \nQ 8.5 49.078125 8.5 55.328125 \nQ 8.5 64.0625 14.71875 69.140625 \nQ 20.953125 74.21875 31.78125 74.21875 \nQ 42.671875 74.21875 48.875 69.140625 \nQ 55.078125 64.0625 55.078125 55.328125 \nQ 55.078125 49.078125 51.53125 44.71875 \nQ 48 40.375 41.703125 38.8125 \nQ 48.828125 37.15625 52.796875 32.3125 \nQ 56.78125 27.484375 56.78125 20.515625 \nQ 56.78125 9.90625 50.3125 4.234375 \nQ 43.84375 -1.421875 31.78125 -1.421875 \nQ 19.734375 -1.421875 13.25 4.234375 \nQ 6.78125 9.90625 6.78125 20.515625 \nQ 6.78125 27.484375 10.78125 32.3125 \nQ 14.796875 37.15625 21.921875 38.8125 \nz\nM 18.3125 54.390625 \nQ 18.3125 48.734375 21.84375 45.5625 \nQ 25.390625 42.390625 31.78125 42.390625 \nQ 38.140625 42.390625 41.71875 45.5625 \nQ 45.3125 48.734375 45.3125 54.390625 \nQ 45.3125 60.0625 41.71875 63.234375 \nQ 38.140625 66.40625 31.78125 66.40625 \nQ 25.390625 66.40625 21.84375 63.234375 \nQ 18.3125 60.0625 18.3125 54.390625 \nz\n\" id=\"DejaVuSans-56\"/>\n       </defs>\n       <use xlink:href=\"#DejaVuSans-56\"/>\n       <use x=\"63.623047\" xlink:href=\"#DejaVuSans-48\"/>\n       <use x=\"127.246094\" xlink:href=\"#DejaVuSans-48\"/>\n       <use x=\"190.869141\" xlink:href=\"#DejaVuSans-48\"/>\n      </g>\n     </g>\n    </g>\n   </g>\n   <g id=\"patch_103\">\n    <path d=\"M 39.65 224.64 \nL 39.65 7.2 \n\" style=\"fill:none;stroke:#000000;stroke-linecap:square;stroke-linejoin:miter;stroke-width:0.8;\"/>\n   </g>\n   <g id=\"patch_104\">\n    <path d=\"M 374.45 224.64 \nL 374.45 7.2 \n\" style=\"fill:none;stroke:#000000;stroke-linecap:square;stroke-linejoin:miter;stroke-width:0.8;\"/>\n   </g>\n   <g id=\"patch_105\">\n    <path d=\"M 39.65 224.64 \nL 374.45 224.64 \n\" style=\"fill:none;stroke:#000000;stroke-linecap:square;stroke-linejoin:miter;stroke-width:0.8;\"/>\n   </g>\n   <g id=\"patch_106\">\n    <path d=\"M 39.65 7.2 \nL 374.45 7.2 \n\" style=\"fill:none;stroke:#000000;stroke-linecap:square;stroke-linejoin:miter;stroke-width:0.8;\"/>\n   </g>\n  </g>\n </g>\n <defs>\n  <clipPath id=\"p06bc644ad6\">\n   <rect height=\"217.44\" width=\"334.8\" x=\"39.65\" y=\"7.2\"/>\n  </clipPath>\n </defs>\n</svg>\n",
      "image/png": "[encoded data removed]"
     },
     "metadata": {
      "needs_background": "light"
     }
    }
   ],
   "source": [
    "plt.hist(numbers, bins=100)"
   ]
  },
  {
   "cell_type": "code",
   "execution_count": 42,
   "metadata": {},
   "outputs": [
    {
     "output_type": "execute_result",
     "data": {
      "text/plain": [
       "(101000, 128)"
      ]
     },
     "metadata": {},
     "execution_count": 42
    }
   ],
   "source": [
    "just_nums = [x[0] for x in sorted_sums]\n",
    "unique_sums = list(set(just_nums))\n",
    "len(sorted_sums),len(unique_sums)"
   ]
  },
  {
   "cell_type": "code",
   "execution_count": 43,
   "metadata": {},
   "outputs": [
    {
     "output_type": "execute_result",
     "data": {
      "text/plain": [
       "(204, 'Volkstanzgruppe der Österreichischer Alpenverein Sektion Kitzbühel')"
      ]
     },
     "metadata": {},
     "execution_count": 43
    }
   ],
   "source": [
    "sorted_sums[len(sorted_sums) - 1]"
   ]
  },
  {
   "cell_type": "code",
   "execution_count": 44,
   "metadata": {},
   "outputs": [],
   "source": [
    "q = sum(string_to_vector(\"Will Smith\"))"
   ]
  },
  {
   "cell_type": "code",
   "execution_count": 81,
   "metadata": {},
   "outputs": [],
   "source": [
    "def get_partitions_bounds(sorted_sums, unique_sums):\n",
    "    bounds = []\n",
    "    for u in unique_sums:\n",
    "        lower_bound = -1\n",
    "        upper_bound = -1\n",
    "        for i, t in enumerate(sorted_sums):\n",
    "            if lower_bound == -1 and t[0] == u:\n",
    "                lower_bound = i\n",
    "            if lower_bound != -1 and t[0] != u:\n",
    "                upper_bound = i\n",
    "                break\n",
    "        bounds.append((u, lower_bound, upper_bound))\n",
    "    last_item = bounds[len(bounds) -1]\n",
    "    bounds[len(bounds) - 1] = (last_item[0], last_item[1], len(sorted_sums) - 1)\n",
    "    return bounds"
   ]
  },
  {
   "cell_type": "code",
   "execution_count": 46,
   "metadata": {},
   "outputs": [],
   "source": [
    "partitions = get_partitions_bounds(sorted_sums, unique_sums)"
   ]
  },
  {
   "cell_type": "code",
   "execution_count": 82,
   "metadata": {},
   "outputs": [
    {
     "output_type": "stream",
     "name": "stdout",
     "text": [
      "[(6, 0, 1), (7, 1, 2), (8, 2, 3), (9, 3, 11), (10, 11, 19), (11, 19, 51), (12, 51, 93), (13, 93, 150), (14, 150, 212), (15, 212, 282), (16, 282, 384), (17, 384, 517), (18, 517, 664), (19, 664, 817), (20, 817, 1002), (21, 1002, 1286), (22, 1286, 1638), (23, 1638, 2052), (24, 2052, 2555), (25, 2555, 3214), (26, 3214, 4017), (27, 4017, 5005), (28, 5005, 6205), (29, 6205, 7596), (30, 7596, 9301), (31, 9301, 11252), (32, 11252, 13547), (33, 13547, 16107), (34, 16107, 18951), (35, 18951, 22109), (36, 22109, 25634), (37, 25634, 29304), (38, 29304, 33177), (39, 33177, 37128), (40, 37128, 41302), (41, 41302, 45442), (42, 45442, 49610), (43, 49610, 53625), (44, 53625, 57725), (45, 57725, 61721), (46, 61721, 65420), (47, 65420, 68899), (48, 68899, 72165), (49, 72165, 75176), (50, 75176, 77918), (51, 77918, 80415), (52, 80415, 82618), (53, 82618, 84689), (54, 84689, 86556), (55, 86556, 88257), (56, 88257, 89731), (57, 89731, 90970), (58, 90970, 92150), (59, 92150, 93184), (60, 93184, 94126), (61, 94126, 94930), (62, 94930, 95649), (63, 95649, 96278), (64, 96278, 96803), (65, 96803, 97312), (66, 97312, 97715), (67, 97715, 98150), (68, 98150, 98484), (69, 98484, 98806), (70, 98806, 99078), (71, 99078, 99314), (72, 99314, 99515), (73, 99515, 99689), (74, 99689, 99852), (75, 99852, 99971), (76, 99971, 100094), (77, 100094, 100182), (78, 100182, 100267), (79, 100267, 100342), (80, 100342, 100418), (81, 100418, 100483), (82, 100483, 100547), (83, 100547, 100595), (84, 100595, 100649), (85, 100649, 100689), (86, 100689, 100717), (87, 100717, 100740), (88, 100740, 100762), (89, 100762, 100784), (90, 100784, 100808), (91, 100808, 100828), (92, 100828, 100841), (93, 100841, 100852), (94, 100852, 100860), (95, 100860, 100872), (96, 100872, 100883), (97, 100883, 100893), (98, 100893, 100905), (99, 100905, 100914), (100, 100914, 100917), (101, 100917, 100922), (102, 100922, 100927), (103, 100927, 100932), (104, 100932, 100937), (105, 100937, 100939), (106, 100939, 100946), (107, 100946, 100950), (108, 100950, 100951), (109, 100951, 100957), (111, 100957, 100959), (112, 100959, 100962), (113, 100962, 100967), (114, 100967, 100970), (115, 100970, 100971), (116, 100971, 100973), (117, 100973, 100975), (118, 100975, 100976), (119, 100976, 100978), (120, 100978, 100980), (121, 100980, 100982), (123, 100982, 100984), (125, 100984, 100985), (128, 100985, 100988), (130, 100988, 100989), (133, 100989, 100990), (134, 100990, 100991), (135, 100991, 100993), (138, 100993, 100995), (142, 100995, 100996), (147, 100996, 100997), (150, 100997, 100998), (154, 100998, 100999), (204, 100999, 100999)]\n25\n"
     ]
    }
   ],
   "source": [
    "print(partitions)\n",
    "print(q)\n",
    "def get_bounds_from_partitions(q, partitions, threshold=15):\n",
    "    bounding_partitions = None\n",
    "    for i, p in enumerate(partitions):\n",
    "        if q >= p[0]:\n",
    "            lower = i - threshold\n",
    "            upper = i + threshold\n",
    "            if lower < 0:\n",
    "                lower = 0\n",
    "            if upper > len(partitions) - 1:\n",
    "                upper = len(partitions) - 1\n",
    "            bounding_partitions = (partitions[lower], partitions[upper])\n",
    "\n",
    "    if bounding_partitions is None:\n",
    "         bounding_partitions = (partitions[len(partitions) - threshold - 1], partitions[len(partitions) - 1])\n",
    "    \n",
    "    lower_index = bounding_partitions[0][1]\n",
    "    upper_index = bounding_partitions[1][1]\n",
    "    return (lower_index, upper_index)\n",
    "\n",
    "bounds = get_bounds_from_partitions(q, partitions)"
   ]
  },
  {
   "cell_type": "code",
   "execution_count": 99,
   "metadata": {},
   "outputs": [],
   "source": [
    "def query_in_sorted_sums(sentence, sorted_sums, partitions, threshold=15):\n",
    "    start = datetime.now()\n",
    "\n",
    "    max_tokens = 10\n",
    "    combinations  = []\n",
    "    for i in range(1, min(len(sentence), max_tokens)):\n",
    "        gr = ngrams(sentence.split(), i + 1)\n",
    "        for g in gr:\n",
    "            combinations.append(\" \".join(g))\n",
    "\n",
    "    csums = [sum(string_to_vector(c.lower())) for c in combinations]\n",
    "    same_sum = []\n",
    "    min_distance = 999999999\n",
    "    min_name = \"\"\n",
    "    min_c = \"\"\n",
    "\n",
    "    best_matches = []\n",
    "    for csum, c in zip(csums, combinations):\n",
    "        bounds = get_bounds_from_partitions(csum, partitions, threshold=threshold)\n",
    "        partition = sorted_sums[bounds[0]:bounds[1]]\n",
    "        for sum_, name in partition:\n",
    "            distance = levenshtein(name, c, 3)\n",
    "            if distance < min_distance:\n",
    "                min_distance = distance\n",
    "                min_name = name\n",
    "                min_c = c\n",
    "                best_matches.append((min_distance, min_name, min_c))\n",
    "\n",
    "    end = datetime.now()\n",
    "    print(\"Query for `{}`. Best match: `{}` (distance: `{}`, ngram: `{}`) - elapsed time: {} - threshold:{}\".format(sentence, min_name, min_distance, min_c, end - start, threshold))\n",
    "# print(len(same_sum))"
   ]
  },
  {
   "cell_type": "code",
   "execution_count": 100,
   "metadata": {},
   "outputs": [
    {
     "output_type": "stream",
     "name": "stdout",
     "text": [
      "Query for `Mill Smith`. Best match: `Will Smith` (distance: `1`, ngram: `Mill Smith`) - elapsed time: 0:00:00.041140 - threshold:15\n",
      "Query for `Mill Smit`. Best match: `Will Smith` (distance: `2`, ngram: `Mill Smit`) - elapsed time: 0:00:00.029931 - threshold:15\n",
      "Query for `Mill Smi`. Best match: `Will Cai` (distance: `3`, ngram: `Mill Smi`) - elapsed time: 0:00:00.018454 - threshold:15\n",
      "Query for `Will Smith`. Best match: `Will Smith` (distance: `0`, ngram: `Will Smith`) - elapsed time: 0:00:00.039531 - threshold:12\n",
      "Query for `I want to watch a movie with Will Smith`. Best match: `Will Smith` (distance: `0`, ngram: `Will Smith`) - elapsed time: 0:00:02.233859 - threshold:200\n",
      "Query for `I want to watch a movie with Will Smith`. Best match: `Will Smith` (distance: `0`, ngram: `Will Smith`) - elapsed time: 0:00:01.602242 - threshold:30\n",
      "Query for `I want to watch a movie with Will Smith`. Best match: `Will Smith` (distance: `0`, ngram: `Will Smith`) - elapsed time: 0:00:00.930415 - threshold:15\n",
      "Query for `I want to watch a movie with Will Smith`. Best match: `Will Smith` (distance: `0`, ngram: `Will Smith`) - elapsed time: 0:00:00.749797 - threshold:12\n",
      "Query for `I want to watch a movie with Will Smith`. Best match: `Will Smith` (distance: `0`, ngram: `Will Smith`) - elapsed time: 0:00:00.635304 - threshold:10\n",
      "Query for `I want to watch a movie with Will Smith`. Best match: `Will Smith` (distance: `0`, ngram: `Will Smith`) - elapsed time: 0:00:00.320332 - threshold:5\n",
      "Query for `I want to watch a movie with Will Smith`. Best match: `Will Smith` (distance: `0`, ngram: `Will Smith`) - elapsed time: 0:00:00.126531 - threshold:2\n"
     ]
    }
   ],
   "source": [
    "bounds\n",
    "query_in_sorted_sums(\"Mill Smith\", sorted_sums, partitions)\n",
    "query_in_sorted_sums(\"Mill Smit\", sorted_sums, partitions)\n",
    "query_in_sorted_sums(\"Mill Smi\", sorted_sums, partitions)\n",
    "query_in_sorted_sums(\"Will Smith\", sorted_sums, partitions, threshold=12)\n",
    "query_in_sorted_sums(\"I want to watch a movie with Will Smith\", sorted_sums, partitions, threshold=200)\n",
    "query_in_sorted_sums(\"I want to watch a movie with Will Smith\", sorted_sums, partitions, threshold=30)\n",
    "query_in_sorted_sums(\"I want to watch a movie with Will Smith\", sorted_sums, partitions, threshold=15)\n",
    "query_in_sorted_sums(\"I want to watch a movie with Will Smith\", sorted_sums, partitions, threshold=12)\n",
    "query_in_sorted_sums(\"I want to watch a movie with Will Smith\", sorted_sums, partitions, threshold=10)\n",
    "query_in_sorted_sums(\"I want to watch a movie with Will Smith\", sorted_sums, partitions, threshold=5)\n",
    "query_in_sorted_sums(\"I want to watch a movie with Will Smith\", sorted_sums, partitions, threshold=2)"
   ]
  },
  {
   "cell_type": "code",
   "execution_count": 50,
   "metadata": {},
   "outputs": [
    {
     "output_type": "stream",
     "name": "stdout",
     "text": [
      "[(63, \"!'aru Ikhuisi Piet Berendse\"), (26, '!Gubi Tietie'), (48, '!Mystery Girl!'), (52, '!Nqate Xqamxebe'), (22, '#1 FanGirl')]\n"
     ]
    }
   ],
   "source": [
    "vectors = []\n",
    "sums_ = []\n",
    "for name in names:\n",
    "    vec = string_to_vector(name.lower())\n",
    "    vectors.append(vec)\n",
    "    sums_.append((sum(vec), name))\n",
    "\n",
    "print(sums_[:5])\n",
    "full_sorted_sums = sorted(sums_)"
   ]
  },
  {
   "cell_type": "code",
   "execution_count": 56,
   "metadata": {},
   "outputs": [
    {
     "output_type": "execute_result",
     "data": {
      "text/plain": [
       "(8197423, 202)"
      ]
     },
     "metadata": {},
     "execution_count": 56
    }
   ],
   "source": [
    "full_just_nums = [x[0] for x in full_sorted_sums]\n",
    "full_unique_sums = list(set(full_just_nums))\n",
    "len(full_sorted_sums),len(full_unique_sums)\n"
   ]
  },
  {
   "cell_type": "code",
   "execution_count": 91,
   "metadata": {},
   "outputs": [
    {
     "output_type": "execute_result",
     "data": {
      "text/plain": [
       "(array([1.360000e+02, 6.850000e+02, 3.192000e+03, 1.029600e+04,\n",
       "        2.222200e+04, 7.344600e+04, 1.343490e+05, 2.727590e+05,\n",
       "        4.762130e+05, 7.057270e+05, 1.225838e+06, 1.014021e+06,\n",
       "        9.746810e+05, 8.547720e+05, 6.879500e+05, 6.644380e+05,\n",
       "        3.359910e+05, 2.335400e+05, 1.606470e+05, 1.100840e+05,\n",
       "        9.505900e+04, 4.577500e+04, 3.078600e+04, 2.080200e+04,\n",
       "        1.374600e+04, 1.163100e+04, 5.367000e+03, 3.661000e+03,\n",
       "        2.513000e+03, 1.762000e+03, 1.648000e+03, 8.090000e+02,\n",
       "        5.970000e+02, 4.480000e+02, 3.370000e+02, 3.630000e+02,\n",
       "        1.790000e+02, 1.630000e+02, 1.310000e+02, 1.200000e+02,\n",
       "        1.290000e+02, 6.700000e+01, 5.300000e+01, 4.700000e+01,\n",
       "        3.100000e+01, 5.100000e+01, 2.200000e+01, 1.900000e+01,\n",
       "        2.200000e+01, 1.800000e+01, 1.900000e+01, 6.000000e+00,\n",
       "        8.000000e+00, 5.000000e+00, 7.000000e+00, 7.000000e+00,\n",
       "        1.000000e+00, 5.000000e+00, 1.000000e+00, 2.000000e+00,\n",
       "        3.000000e+00, 2.000000e+00, 1.000000e+00, 3.000000e+00,\n",
       "        0.000000e+00, 4.000000e+00, 0.000000e+00, 1.000000e+00,\n",
       "        1.000000e+00, 0.000000e+00, 0.000000e+00, 0.000000e+00,\n",
       "        0.000000e+00, 1.000000e+00, 0.000000e+00, 0.000000e+00,\n",
       "        0.000000e+00, 0.000000e+00, 0.000000e+00, 0.000000e+00,\n",
       "        0.000000e+00, 0.000000e+00, 0.000000e+00, 1.000000e+00,\n",
       "        0.000000e+00, 0.000000e+00, 1.000000e+00, 0.000000e+00,\n",
       "        0.000000e+00, 0.000000e+00, 0.000000e+00, 0.000000e+00,\n",
       "        0.000000e+00, 0.000000e+00, 0.000000e+00, 0.000000e+00,\n",
       "        0.000000e+00, 0.000000e+00, 0.000000e+00, 1.000000e+00]),\n",
       " array([  0. ,   3.2,   6.4,   9.6,  12.8,  16. ,  19.2,  22.4,  25.6,\n",
       "         28.8,  32. ,  35.2,  38.4,  41.6,  44.8,  48. ,  51.2,  54.4,\n",
       "         57.6,  60.8,  64. ,  67.2,  70.4,  73.6,  76.8,  80. ,  83.2,\n",
       "         86.4,  89.6,  92.8,  96. ,  99.2, 102.4, 105.6, 108.8, 112. ,\n",
       "        115.2, 118.4, 121.6, 124.8, 128. , 131.2, 134.4, 137.6, 140.8,\n",
       "        144. , 147.2, 150.4, 153.6, 156.8, 160. , 163.2, 166.4, 169.6,\n",
       "        172.8, 176. , 179.2, 182.4, 185.6, 188.8, 192. , 195.2, 198.4,\n",
       "        201.6, 204.8, 208. , 211.2, 214.4, 217.6, 220.8, 224. , 227.2,\n",
       "        230.4, 233.6, 236.8, 240. , 243.2, 246.4, 249.6, 252.8, 256. ,\n",
       "        259.2, 262.4, 265.6, 268.8, 272. , 275.2, 278.4, 281.6, 284.8,\n",
       "        288. , 291.2, 294.4, 297.6, 300.8, 304. , 307.2, 310.4, 313.6,\n",
       "        316.8, 320. ]),\n",
       " <BarContainer object of 100 artists>)"
      ]
     },
     "metadata": {},
     "execution_count": 91
    },
    {
     "output_type": "display_data",
     "data": {
      "text/plain": "<Figure size 432x288 with 1 Axes>",
      "image/svg+xml": "<?xml version=\"1.0\" encoding=\"utf-8\" standalone=\"no\"?>\n<!DOCTYPE svg PUBLIC \"-//W3C//DTD SVG 1.1//EN\"\n  \"http://www.w3.org/Graphics/SVG/1.1/DTD/svg11.dtd\">\n<!-- Created with matplotlib (https://matplotlib.org/) -->\n<svg height=\"259.116562pt\" version=\"1.1\" viewBox=\"0 0 372.103125 259.116562\" width=\"372.103125pt\" xmlns=\"http://www.w3.org/2000/svg\" xmlns:xlink=\"http://www.w3.org/1999/xlink\">\n <metadata>\n  <rdf:RDF xmlns:cc=\"http://creativecommons.org/ns#\" xmlns:dc=\"http://purl.org/dc/elements/1.1/\" xmlns:rdf=\"http://www.w3.org/1999/02/22-rdf-syntax-ns#\">\n   <cc:Work>\n    <dc:type rdf:resource=\"http://purl.org/dc/dcmitype/StillImage\"/>\n    <dc:date>2020-11-22T15:39:47.242125</dc:date>\n    <dc:format>image/svg+xml</dc:format>\n    <dc:creator>\n     <cc:Agent>\n      <dc:title>Matplotlib v3.3.3, https://matplotlib.org/</dc:title>\n     </cc:Agent>\n    </dc:creator>\n   </cc:Work>\n  </rdf:RDF>\n </metadata>\n <defs>\n  <style type=\"text/css\">*{stroke-linecap:butt;stroke-linejoin:round;}</style>\n </defs>\n <g id=\"figure_1\">\n  <g id=\"patch_1\">\n   <path d=\"M 0 259.116562 \nL 372.103125 259.116562 \nL 372.103125 0 \nL 0 0 \nz\n\" style=\"fill:none;\"/>\n  </g>\n  <g id=\"axes_1\">\n   <g id=\"patch_2\">\n    <path d=\"M 30.103125 235.238437 \nL 364.903125 235.238437 \nL 364.903125 17.798437 \nL 30.103125 17.798437 \nz\n\" style=\"fill:#ffffff;\"/>\n   </g>\n   <g id=\"patch_3\">\n    <path clip-path=\"url(#p57fa617a38)\" d=\"M 45.321307 235.238437 \nL 48.364943 235.238437 \nL 48.364943 235.215462 \nL 45.321307 235.215462 \nz\n\" style=\"fill:#1f77b4;\"/>\n   </g>\n   <g id=\"patch_4\">\n    <path clip-path=\"url(#p57fa617a38)\" d=\"M 48.364943 235.238437 \nL 51.40858 235.238437 \nL 51.40858 235.122718 \nL 48.364943 235.122718 \nz\n\" style=\"fill:#1f77b4;\"/>\n   </g>\n   <g id=\"patch_5\">\n    <path clip-path=\"url(#p57fa617a38)\" d=\"M 51.40858 235.238437 \nL 54.452216 235.238437 \nL 54.452216 234.6992 \nL 51.40858 234.6992 \nz\n\" style=\"fill:#1f77b4;\"/>\n   </g>\n   <g id=\"patch_6\">\n    <path clip-path=\"url(#p57fa617a38)\" d=\"M 54.452216 235.238437 \nL 57.495852 235.238437 \nL 57.495852 233.499093 \nL 54.452216 233.499093 \nz\n\" style=\"fill:#1f77b4;\"/>\n   </g>\n   <g id=\"patch_7\">\n    <path clip-path=\"url(#p57fa617a38)\" d=\"M 57.495852 235.238437 \nL 60.539489 235.238437 \nL 60.539489 231.484386 \nL 57.495852 231.484386 \nz\n\" style=\"fill:#1f77b4;\"/>\n   </g>\n   <g id=\"patch_8\">\n    <path clip-path=\"url(#p57fa617a38)\" d=\"M 60.539489 235.238437 \nL 63.583125 235.238437 \nL 63.583125 222.830911 \nL 60.539489 222.830911 \nz\n\" style=\"fill:#1f77b4;\"/>\n   </g>\n   <g id=\"patch_9\">\n    <path clip-path=\"url(#p57fa617a38)\" d=\"M 63.583125 235.238437 \nL 66.626761 235.238437 \nL 66.626761 212.542324 \nL 63.583125 212.542324 \nz\n\" style=\"fill:#1f77b4;\"/>\n   </g>\n   <g id=\"patch_10\">\n    <path clip-path=\"url(#p57fa617a38)\" d=\"M 66.626761 235.238437 \nL 69.670398 235.238437 \nL 69.670398 189.160169 \nL 66.626761 189.160169 \nz\n\" style=\"fill:#1f77b4;\"/>\n   </g>\n   <g id=\"patch_11\">\n    <path clip-path=\"url(#p57fa617a38)\" d=\"M 69.670398 235.238437 \nL 72.714034 235.238437 \nL 72.714034 154.789871 \nL 69.670398 154.789871 \nz\n\" style=\"fill:#1f77b4;\"/>\n   </g>\n   <g id=\"patch_12\">\n    <path clip-path=\"url(#p57fa617a38)\" d=\"M 72.714034 235.238437 \nL 75.75767 235.238437 \nL 75.75767 116.017154 \nL 72.714034 116.017154 \nz\n\" style=\"fill:#1f77b4;\"/>\n   </g>\n   <g id=\"patch_13\">\n    <path clip-path=\"url(#p57fa617a38)\" d=\"M 75.75767 235.238437 \nL 78.801307 235.238437 \nL 78.801307 28.152723 \nL 75.75767 28.152723 \nz\n\" style=\"fill:#1f77b4;\"/>\n   </g>\n   <g id=\"patch_14\">\n    <path clip-path=\"url(#p57fa617a38)\" d=\"M 78.801307 235.238437 \nL 81.844943 235.238437 \nL 81.844943 63.935816 \nL 78.801307 63.935816 \nz\n\" style=\"fill:#1f77b4;\"/>\n   </g>\n   <g id=\"patch_15\">\n    <path clip-path=\"url(#p57fa617a38)\" d=\"M 81.844943 235.238437 \nL 84.88858 235.238437 \nL 84.88858 70.581679 \nL 81.844943 70.581679 \nz\n\" style=\"fill:#1f77b4;\"/>\n   </g>\n   <g id=\"patch_16\">\n    <path clip-path=\"url(#p57fa617a38)\" d=\"M 84.88858 235.238437 \nL 87.932216 235.238437 \nL 87.932216 90.838386 \nL 84.88858 90.838386 \nz\n\" style=\"fill:#1f77b4;\"/>\n   </g>\n   <g id=\"patch_17\">\n    <path clip-path=\"url(#p57fa617a38)\" d=\"M 87.932216 235.238437 \nL 90.975852 235.238437 \nL 90.975852 119.020294 \nL 87.932216 119.020294 \nz\n\" style=\"fill:#1f77b4;\"/>\n   </g>\n   <g id=\"patch_18\">\n    <path clip-path=\"url(#p57fa617a38)\" d=\"M 90.975852 235.238437 \nL 94.019489 235.238437 \nL 94.019489 122.99227 \nL 90.975852 122.99227 \nz\n\" style=\"fill:#1f77b4;\"/>\n   </g>\n   <g id=\"patch_19\">\n    <path clip-path=\"url(#p57fa617a38)\" d=\"M 94.019489 235.238437 \nL 97.063125 235.238437 \nL 97.063125 178.478135 \nL 94.019489 178.478135 \nz\n\" style=\"fill:#1f77b4;\"/>\n   </g>\n   <g id=\"patch_20\">\n    <path clip-path=\"url(#p57fa617a38)\" d=\"M 97.063125 235.238437 \nL 100.106761 235.238437 \nL 100.106761 195.785592 \nL 97.063125 195.785592 \nz\n\" style=\"fill:#1f77b4;\"/>\n   </g>\n   <g id=\"patch_21\">\n    <path clip-path=\"url(#p57fa617a38)\" d=\"M 100.106761 235.238437 \nL 103.150398 235.238437 \nL 103.150398 208.099698 \nL 100.106761 208.099698 \nz\n\" style=\"fill:#1f77b4;\"/>\n   </g>\n   <g id=\"patch_22\">\n    <path clip-path=\"url(#p57fa617a38)\" d=\"M 103.150398 235.238437 \nL 106.194034 235.238437 \nL 106.194034 216.641507 \nL 103.150398 216.641507 \nz\n\" style=\"fill:#1f77b4;\"/>\n   </g>\n   <g id=\"patch_23\">\n    <path clip-path=\"url(#p57fa617a38)\" d=\"M 106.194034 235.238437 \nL 109.23767 235.238437 \nL 109.23767 219.179741 \nL 106.194034 219.179741 \nz\n\" style=\"fill:#1f77b4;\"/>\n   </g>\n   <g id=\"patch_24\">\n    <path clip-path=\"url(#p57fa617a38)\" d=\"M 109.23767 235.238437 \nL 112.281307 235.238437 \nL 112.281307 227.505484 \nL 109.23767 227.505484 \nz\n\" style=\"fill:#1f77b4;\"/>\n   </g>\n   <g id=\"patch_25\">\n    <path clip-path=\"url(#p57fa617a38)\" d=\"M 112.281307 235.238437 \nL 115.324943 235.238437 \nL 115.324943 230.037635 \nL 112.281307 230.037635 \nz\n\" style=\"fill:#1f77b4;\"/>\n   </g>\n   <g id=\"patch_26\">\n    <path clip-path=\"url(#p57fa617a38)\" d=\"M 115.324943 235.238437 \nL 118.36858 235.238437 \nL 118.36858 231.724272 \nL 115.324943 231.724272 \nz\n\" style=\"fill:#1f77b4;\"/>\n   </g>\n   <g id=\"patch_27\">\n    <path clip-path=\"url(#p57fa617a38)\" d=\"M 118.36858 235.238437 \nL 121.412216 235.238437 \nL 121.412216 232.916271 \nL 118.36858 232.916271 \nz\n\" style=\"fill:#1f77b4;\"/>\n   </g>\n   <g id=\"patch_28\">\n    <path clip-path=\"url(#p57fa617a38)\" d=\"M 121.412216 235.238437 \nL 124.455852 235.238437 \nL 124.455852 233.273566 \nL 121.412216 233.273566 \nz\n\" style=\"fill:#1f77b4;\"/>\n   </g>\n   <g id=\"patch_29\">\n    <path clip-path=\"url(#p57fa617a38)\" d=\"M 124.455852 235.238437 \nL 127.499489 235.238437 \nL 127.499489 234.331769 \nL 124.455852 234.331769 \nz\n\" style=\"fill:#1f77b4;\"/>\n   </g>\n   <g id=\"patch_30\">\n    <path clip-path=\"url(#p57fa617a38)\" d=\"M 127.499489 235.238437 \nL 130.543125 235.238437 \nL 130.543125 234.61997 \nL 127.499489 234.61997 \nz\n\" style=\"fill:#1f77b4;\"/>\n   </g>\n   <g id=\"patch_31\">\n    <path clip-path=\"url(#p57fa617a38)\" d=\"M 130.543125 235.238437 \nL 133.586761 235.238437 \nL 133.586761 234.813906 \nL 130.543125 234.813906 \nz\n\" style=\"fill:#1f77b4;\"/>\n   </g>\n   <g id=\"patch_32\">\n    <path clip-path=\"url(#p57fa617a38)\" d=\"M 133.586761 235.238437 \nL 136.630398 235.238437 \nL 136.630398 234.940776 \nL 133.586761 234.940776 \nz\n\" style=\"fill:#1f77b4;\"/>\n   </g>\n   <g id=\"patch_33\">\n    <path clip-path=\"url(#p57fa617a38)\" d=\"M 136.630398 235.238437 \nL 139.674034 235.238437 \nL 139.674034 234.960034 \nL 136.630398 234.960034 \nz\n\" style=\"fill:#1f77b4;\"/>\n   </g>\n   <g id=\"patch_34\">\n    <path clip-path=\"url(#p57fa617a38)\" d=\"M 139.674034 235.238437 \nL 142.71767 235.238437 \nL 142.71767 235.10177 \nL 139.674034 235.10177 \nz\n\" style=\"fill:#1f77b4;\"/>\n   </g>\n   <g id=\"patch_35\">\n    <path clip-path=\"url(#p57fa617a38)\" d=\"M 142.71767 235.238437 \nL 145.761307 235.238437 \nL 145.761307 235.137584 \nL 142.71767 235.137584 \nz\n\" style=\"fill:#1f77b4;\"/>\n   </g>\n   <g id=\"patch_36\">\n    <path clip-path=\"url(#p57fa617a38)\" d=\"M 145.761307 235.238437 \nL 148.804943 235.238437 \nL 148.804943 235.162755 \nL 145.761307 235.162755 \nz\n\" style=\"fill:#1f77b4;\"/>\n   </g>\n   <g id=\"patch_37\">\n    <path clip-path=\"url(#p57fa617a38)\" d=\"M 148.804943 235.238437 \nL 151.84858 235.238437 \nL 151.84858 235.181507 \nL 148.804943 235.181507 \nz\n\" style=\"fill:#1f77b4;\"/>\n   </g>\n   <g id=\"patch_38\">\n    <path clip-path=\"url(#p57fa617a38)\" d=\"M 151.84858 235.238437 \nL 154.892216 235.238437 \nL 154.892216 235.177114 \nL 151.84858 235.177114 \nz\n\" style=\"fill:#1f77b4;\"/>\n   </g>\n   <g id=\"patch_39\">\n    <path clip-path=\"url(#p57fa617a38)\" d=\"M 154.892216 235.238437 \nL 157.935852 235.238437 \nL 157.935852 235.208198 \nL 154.892216 235.208198 \nz\n\" style=\"fill:#1f77b4;\"/>\n   </g>\n   <g id=\"patch_40\">\n    <path clip-path=\"url(#p57fa617a38)\" d=\"M 157.935852 235.238437 \nL 160.979489 235.238437 \nL 160.979489 235.210901 \nL 157.935852 235.210901 \nz\n\" style=\"fill:#1f77b4;\"/>\n   </g>\n   <g id=\"patch_41\">\n    <path clip-path=\"url(#p57fa617a38)\" d=\"M 160.979489 235.238437 \nL 164.023125 235.238437 \nL 164.023125 235.216307 \nL 160.979489 235.216307 \nz\n\" style=\"fill:#1f77b4;\"/>\n   </g>\n   <g id=\"patch_42\">\n    <path clip-path=\"url(#p57fa617a38)\" d=\"M 164.023125 235.238437 \nL 167.066761 235.238437 \nL 167.066761 235.218165 \nL 164.023125 235.218165 \nz\n\" style=\"fill:#1f77b4;\"/>\n   </g>\n   <g id=\"patch_43\">\n    <path clip-path=\"url(#p57fa617a38)\" d=\"M 167.066761 235.238437 \nL 170.110398 235.238437 \nL 170.110398 235.216645 \nL 167.066761 235.216645 \nz\n\" style=\"fill:#1f77b4;\"/>\n   </g>\n   <g id=\"patch_44\">\n    <path clip-path=\"url(#p57fa617a38)\" d=\"M 170.110398 235.238437 \nL 173.154034 235.238437 \nL 173.154034 235.227119 \nL 170.110398 235.227119 \nz\n\" style=\"fill:#1f77b4;\"/>\n   </g>\n   <g id=\"patch_45\">\n    <path clip-path=\"url(#p57fa617a38)\" d=\"M 173.154034 235.238437 \nL 176.19767 235.238437 \nL 176.19767 235.229484 \nL 173.154034 235.229484 \nz\n\" style=\"fill:#1f77b4;\"/>\n   </g>\n   <g id=\"patch_46\">\n    <path clip-path=\"url(#p57fa617a38)\" d=\"M 176.19767 235.238437 \nL 179.241307 235.238437 \nL 179.241307 235.230498 \nL 176.19767 235.230498 \nz\n\" style=\"fill:#1f77b4;\"/>\n   </g>\n   <g id=\"patch_47\">\n    <path clip-path=\"url(#p57fa617a38)\" d=\"M 179.241307 235.238437 \nL 182.284943 235.238437 \nL 182.284943 235.233201 \nL 179.241307 235.233201 \nz\n\" style=\"fill:#1f77b4;\"/>\n   </g>\n   <g id=\"patch_48\">\n    <path clip-path=\"url(#p57fa617a38)\" d=\"M 182.284943 235.238437 \nL 185.32858 235.238437 \nL 185.32858 235.229822 \nL 182.284943 235.229822 \nz\n\" style=\"fill:#1f77b4;\"/>\n   </g>\n   <g id=\"patch_49\">\n    <path clip-path=\"url(#p57fa617a38)\" d=\"M 185.32858 235.238437 \nL 188.372216 235.238437 \nL 188.372216 235.234721 \nL 185.32858 235.234721 \nz\n\" style=\"fill:#1f77b4;\"/>\n   </g>\n   <g id=\"patch_50\">\n    <path clip-path=\"url(#p57fa617a38)\" d=\"M 188.372216 235.238437 \nL 191.415852 235.238437 \nL 191.415852 235.235228 \nL 188.372216 235.235228 \nz\n\" style=\"fill:#1f77b4;\"/>\n   </g>\n   <g id=\"patch_51\">\n    <path clip-path=\"url(#p57fa617a38)\" d=\"M 191.415852 235.238437 \nL 194.459489 235.238437 \nL 194.459489 235.234721 \nL 191.415852 235.234721 \nz\n\" style=\"fill:#1f77b4;\"/>\n   </g>\n   <g id=\"patch_52\">\n    <path clip-path=\"url(#p57fa617a38)\" d=\"M 194.459489 235.238437 \nL 197.503125 235.238437 \nL 197.503125 235.235397 \nL 194.459489 235.235397 \nz\n\" style=\"fill:#1f77b4;\"/>\n   </g>\n   <g id=\"patch_53\">\n    <path clip-path=\"url(#p57fa617a38)\" d=\"M 197.503125 235.238437 \nL 200.546761 235.238437 \nL 200.546761 235.235228 \nL 197.503125 235.235228 \nz\n\" style=\"fill:#1f77b4;\"/>\n   </g>\n   <g id=\"patch_54\">\n    <path clip-path=\"url(#p57fa617a38)\" d=\"M 200.546761 235.238437 \nL 203.590398 235.238437 \nL 203.590398 235.237424 \nL 200.546761 235.237424 \nz\n\" style=\"fill:#1f77b4;\"/>\n   </g>\n   <g id=\"patch_55\">\n    <path clip-path=\"url(#p57fa617a38)\" d=\"M 203.590398 235.238437 \nL 206.634034 235.238437 \nL 206.634034 235.237086 \nL 203.590398 235.237086 \nz\n\" style=\"fill:#1f77b4;\"/>\n   </g>\n   <g id=\"patch_56\">\n    <path clip-path=\"url(#p57fa617a38)\" d=\"M 206.634034 235.238437 \nL 209.67767 235.238437 \nL 209.67767 235.237593 \nL 206.634034 235.237593 \nz\n\" style=\"fill:#1f77b4;\"/>\n   </g>\n   <g id=\"patch_57\">\n    <path clip-path=\"url(#p57fa617a38)\" d=\"M 209.67767 235.238437 \nL 212.721307 235.238437 \nL 212.721307 235.237255 \nL 209.67767 235.237255 \nz\n\" style=\"fill:#1f77b4;\"/>\n   </g>\n   <g id=\"patch_58\">\n    <path clip-path=\"url(#p57fa617a38)\" d=\"M 212.721307 235.238437 \nL 215.764943 235.238437 \nL 215.764943 235.237255 \nL 212.721307 235.237255 \nz\n\" style=\"fill:#1f77b4;\"/>\n   </g>\n   <g id=\"patch_59\">\n    <path clip-path=\"url(#p57fa617a38)\" d=\"M 215.764943 235.238437 \nL 218.80858 235.238437 \nL 218.80858 235.238269 \nL 215.764943 235.238269 \nz\n\" style=\"fill:#1f77b4;\"/>\n   </g>\n   <g id=\"patch_60\">\n    <path clip-path=\"url(#p57fa617a38)\" d=\"M 218.80858 235.238437 \nL 221.852216 235.238437 \nL 221.852216 235.237593 \nL 218.80858 235.237593 \nz\n\" style=\"fill:#1f77b4;\"/>\n   </g>\n   <g id=\"patch_61\">\n    <path clip-path=\"url(#p57fa617a38)\" d=\"M 221.852216 235.238437 \nL 224.895852 235.238437 \nL 224.895852 235.238269 \nL 221.852216 235.238269 \nz\n\" style=\"fill:#1f77b4;\"/>\n   </g>\n   <g id=\"patch_62\">\n    <path clip-path=\"url(#p57fa617a38)\" d=\"M 224.895852 235.238437 \nL 227.939489 235.238437 \nL 227.939489 235.2381 \nL 224.895852 235.2381 \nz\n\" style=\"fill:#1f77b4;\"/>\n   </g>\n   <g id=\"patch_63\">\n    <path clip-path=\"url(#p57fa617a38)\" d=\"M 227.939489 235.238437 \nL 230.983125 235.238437 \nL 230.983125 235.237931 \nL 227.939489 235.237931 \nz\n\" style=\"fill:#1f77b4;\"/>\n   </g>\n   <g id=\"patch_64\">\n    <path clip-path=\"url(#p57fa617a38)\" d=\"M 230.983125 235.238437 \nL 234.026761 235.238437 \nL 234.026761 235.2381 \nL 230.983125 235.2381 \nz\n\" style=\"fill:#1f77b4;\"/>\n   </g>\n   <g id=\"patch_65\">\n    <path clip-path=\"url(#p57fa617a38)\" d=\"M 234.026761 235.238437 \nL 237.070398 235.238437 \nL 237.070398 235.238269 \nL 234.026761 235.238269 \nz\n\" style=\"fill:#1f77b4;\"/>\n   </g>\n   <g id=\"patch_66\">\n    <path clip-path=\"url(#p57fa617a38)\" d=\"M 237.070398 235.238437 \nL 240.114034 235.238437 \nL 240.114034 235.237931 \nL 237.070398 235.237931 \nz\n\" style=\"fill:#1f77b4;\"/>\n   </g>\n   <g id=\"patch_67\">\n    <path clip-path=\"url(#p57fa617a38)\" d=\"M 240.114034 235.238437 \nL 243.15767 235.238437 \nL 243.15767 235.238437 \nL 240.114034 235.238437 \nz\n\" style=\"fill:#1f77b4;\"/>\n   </g>\n   <g id=\"patch_68\">\n    <path clip-path=\"url(#p57fa617a38)\" d=\"M 243.15767 235.238437 \nL 246.201307 235.238437 \nL 246.201307 235.237762 \nL 243.15767 235.237762 \nz\n\" style=\"fill:#1f77b4;\"/>\n   </g>\n   <g id=\"patch_69\">\n    <path clip-path=\"url(#p57fa617a38)\" d=\"M 246.201307 235.238437 \nL 249.244943 235.238437 \nL 249.244943 235.238437 \nL 246.201307 235.238437 \nz\n\" style=\"fill:#1f77b4;\"/>\n   </g>\n   <g id=\"patch_70\">\n    <path clip-path=\"url(#p57fa617a38)\" d=\"M 249.244943 235.238437 \nL 252.28858 235.238437 \nL 252.28858 235.238269 \nL 249.244943 235.238269 \nz\n\" style=\"fill:#1f77b4;\"/>\n   </g>\n   <g id=\"patch_71\">\n    <path clip-path=\"url(#p57fa617a38)\" d=\"M 252.28858 235.238437 \nL 255.332216 235.238437 \nL 255.332216 235.238269 \nL 252.28858 235.238269 \nz\n\" style=\"fill:#1f77b4;\"/>\n   </g>\n   <g id=\"patch_72\">\n    <path clip-path=\"url(#p57fa617a38)\" d=\"M 255.332216 235.238437 \nL 258.375852 235.238437 \nL 258.375852 235.238437 \nL 255.332216 235.238437 \nz\n\" style=\"fill:#1f77b4;\"/>\n   </g>\n   <g id=\"patch_73\">\n    <path clip-path=\"url(#p57fa617a38)\" d=\"M 258.375852 235.238437 \nL 261.419489 235.238437 \nL 261.419489 235.238437 \nL 258.375852 235.238437 \nz\n\" style=\"fill:#1f77b4;\"/>\n   </g>\n   <g id=\"patch_74\">\n    <path clip-path=\"url(#p57fa617a38)\" d=\"M 261.419489 235.238437 \nL 264.463125 235.238437 \nL 264.463125 235.238437 \nL 261.419489 235.238437 \nz\n\" style=\"fill:#1f77b4;\"/>\n   </g>\n   <g id=\"patch_75\">\n    <path clip-path=\"url(#p57fa617a38)\" d=\"M 264.463125 235.238437 \nL 267.506761 235.238437 \nL 267.506761 235.238437 \nL 264.463125 235.238437 \nz\n\" style=\"fill:#1f77b4;\"/>\n   </g>\n   <g id=\"patch_76\">\n    <path clip-path=\"url(#p57fa617a38)\" d=\"M 267.506761 235.238437 \nL 270.550398 235.238437 \nL 270.550398 235.238269 \nL 267.506761 235.238269 \nz\n\" style=\"fill:#1f77b4;\"/>\n   </g>\n   <g id=\"patch_77\">\n    <path clip-path=\"url(#p57fa617a38)\" d=\"M 270.550398 235.238437 \nL 273.594034 235.238437 \nL 273.594034 235.238437 \nL 270.550398 235.238437 \nz\n\" style=\"fill:#1f77b4;\"/>\n   </g>\n   <g id=\"patch_78\">\n    <path clip-path=\"url(#p57fa617a38)\" d=\"M 273.594034 235.238437 \nL 276.63767 235.238437 \nL 276.63767 235.238437 \nL 273.594034 235.238437 \nz\n\" style=\"fill:#1f77b4;\"/>\n   </g>\n   <g id=\"patch_79\">\n    <path clip-path=\"url(#p57fa617a38)\" d=\"M 276.63767 235.238437 \nL 279.681307 235.238437 \nL 279.681307 235.238437 \nL 276.63767 235.238437 \nz\n\" style=\"fill:#1f77b4;\"/>\n   </g>\n   <g id=\"patch_80\">\n    <path clip-path=\"url(#p57fa617a38)\" d=\"M 279.681307 235.238437 \nL 282.724943 235.238437 \nL 282.724943 235.238437 \nL 279.681307 235.238437 \nz\n\" style=\"fill:#1f77b4;\"/>\n   </g>\n   <g id=\"patch_81\">\n    <path clip-path=\"url(#p57fa617a38)\" d=\"M 282.724943 235.238437 \nL 285.76858 235.238437 \nL 285.76858 235.238437 \nL 282.724943 235.238437 \nz\n\" style=\"fill:#1f77b4;\"/>\n   </g>\n   <g id=\"patch_82\">\n    <path clip-path=\"url(#p57fa617a38)\" d=\"M 285.76858 235.238437 \nL 288.812216 235.238437 \nL 288.812216 235.238437 \nL 285.76858 235.238437 \nz\n\" style=\"fill:#1f77b4;\"/>\n   </g>\n   <g id=\"patch_83\">\n    <path clip-path=\"url(#p57fa617a38)\" d=\"M 288.812216 235.238437 \nL 291.855852 235.238437 \nL 291.855852 235.238437 \nL 288.812216 235.238437 \nz\n\" style=\"fill:#1f77b4;\"/>\n   </g>\n   <g id=\"patch_84\">\n    <path clip-path=\"url(#p57fa617a38)\" d=\"M 291.855852 235.238437 \nL 294.899489 235.238437 \nL 294.899489 235.238437 \nL 291.855852 235.238437 \nz\n\" style=\"fill:#1f77b4;\"/>\n   </g>\n   <g id=\"patch_85\">\n    <path clip-path=\"url(#p57fa617a38)\" d=\"M 294.899489 235.238437 \nL 297.943125 235.238437 \nL 297.943125 235.238437 \nL 294.899489 235.238437 \nz\n\" style=\"fill:#1f77b4;\"/>\n   </g>\n   <g id=\"patch_86\">\n    <path clip-path=\"url(#p57fa617a38)\" d=\"M 297.943125 235.238437 \nL 300.986761 235.238437 \nL 300.986761 235.238269 \nL 297.943125 235.238269 \nz\n\" style=\"fill:#1f77b4;\"/>\n   </g>\n   <g id=\"patch_87\">\n    <path clip-path=\"url(#p57fa617a38)\" d=\"M 300.986761 235.238437 \nL 304.030398 235.238437 \nL 304.030398 235.238437 \nL 300.986761 235.238437 \nz\n\" style=\"fill:#1f77b4;\"/>\n   </g>\n   <g id=\"patch_88\">\n    <path clip-path=\"url(#p57fa617a38)\" d=\"M 304.030398 235.238437 \nL 307.074034 235.238437 \nL 307.074034 235.238437 \nL 304.030398 235.238437 \nz\n\" style=\"fill:#1f77b4;\"/>\n   </g>\n   <g id=\"patch_89\">\n    <path clip-path=\"url(#p57fa617a38)\" d=\"M 307.074034 235.238437 \nL 310.11767 235.238437 \nL 310.11767 235.238269 \nL 307.074034 235.238269 \nz\n\" style=\"fill:#1f77b4;\"/>\n   </g>\n   <g id=\"patch_90\">\n    <path clip-path=\"url(#p57fa617a38)\" d=\"M 310.11767 235.238437 \nL 313.161307 235.238437 \nL 313.161307 235.238437 \nL 310.11767 235.238437 \nz\n\" style=\"fill:#1f77b4;\"/>\n   </g>\n   <g id=\"patch_91\">\n    <path clip-path=\"url(#p57fa617a38)\" d=\"M 313.161307 235.238437 \nL 316.204943 235.238437 \nL 316.204943 235.238437 \nL 313.161307 235.238437 \nz\n\" style=\"fill:#1f77b4;\"/>\n   </g>\n   <g id=\"patch_92\">\n    <path clip-path=\"url(#p57fa617a38)\" d=\"M 316.204943 235.238437 \nL 319.24858 235.238437 \nL 319.24858 235.238437 \nL 316.204943 235.238437 \nz\n\" style=\"fill:#1f77b4;\"/>\n   </g>\n   <g id=\"patch_93\">\n    <path clip-path=\"url(#p57fa617a38)\" d=\"M 319.24858 235.238437 \nL 322.292216 235.238437 \nL 322.292216 235.238437 \nL 319.24858 235.238437 \nz\n\" style=\"fill:#1f77b4;\"/>\n   </g>\n   <g id=\"patch_94\">\n    <path clip-path=\"url(#p57fa617a38)\" d=\"M 322.292216 235.238437 \nL 325.335852 235.238437 \nL 325.335852 235.238437 \nL 322.292216 235.238437 \nz\n\" style=\"fill:#1f77b4;\"/>\n   </g>\n   <g id=\"patch_95\">\n    <path clip-path=\"url(#p57fa617a38)\" d=\"M 325.335852 235.238437 \nL 328.379489 235.238437 \nL 328.379489 235.238437 \nL 325.335852 235.238437 \nz\n\" style=\"fill:#1f77b4;\"/>\n   </g>\n   <g id=\"patch_96\">\n    <path clip-path=\"url(#p57fa617a38)\" d=\"M 328.379489 235.238437 \nL 331.423125 235.238437 \nL 331.423125 235.238437 \nL 328.379489 235.238437 \nz\n\" style=\"fill:#1f77b4;\"/>\n   </g>\n   <g id=\"patch_97\">\n    <path clip-path=\"url(#p57fa617a38)\" d=\"M 331.423125 235.238437 \nL 334.466761 235.238437 \nL 334.466761 235.238437 \nL 331.423125 235.238437 \nz\n\" style=\"fill:#1f77b4;\"/>\n   </g>\n   <g id=\"patch_98\">\n    <path clip-path=\"url(#p57fa617a38)\" d=\"M 334.466761 235.238437 \nL 337.510398 235.238437 \nL 337.510398 235.238437 \nL 334.466761 235.238437 \nz\n\" style=\"fill:#1f77b4;\"/>\n   </g>\n   <g id=\"patch_99\">\n    <path clip-path=\"url(#p57fa617a38)\" d=\"M 337.510398 235.238437 \nL 340.554034 235.238437 \nL 340.554034 235.238437 \nL 337.510398 235.238437 \nz\n\" style=\"fill:#1f77b4;\"/>\n   </g>\n   <g id=\"patch_100\">\n    <path clip-path=\"url(#p57fa617a38)\" d=\"M 340.554034 235.238437 \nL 343.59767 235.238437 \nL 343.59767 235.238437 \nL 340.554034 235.238437 \nz\n\" style=\"fill:#1f77b4;\"/>\n   </g>\n   <g id=\"patch_101\">\n    <path clip-path=\"url(#p57fa617a38)\" d=\"M 343.59767 235.238437 \nL 346.641307 235.238437 \nL 346.641307 235.238437 \nL 343.59767 235.238437 \nz\n\" style=\"fill:#1f77b4;\"/>\n   </g>\n   <g id=\"patch_102\">\n    <path clip-path=\"url(#p57fa617a38)\" d=\"M 346.641307 235.238437 \nL 349.684943 235.238437 \nL 349.684943 235.238269 \nL 346.641307 235.238269 \nz\n\" style=\"fill:#1f77b4;\"/>\n   </g>\n   <g id=\"matplotlib.axis_1\">\n    <g id=\"xtick_1\">\n     <g id=\"line2d_1\">\n      <defs>\n       <path d=\"M 0 0 \nL 0 3.5 \n\" id=\"mfdb18e75de\" style=\"stroke:#000000;stroke-width:0.8;\"/>\n      </defs>\n      <g>\n       <use style=\"stroke:#000000;stroke-width:0.8;\" x=\"45.321307\" xlink:href=\"#mfdb18e75de\" y=\"235.238437\"/>\n      </g>\n     </g>\n     <g id=\"text_1\">\n      <!-- 0 -->\n      <g transform=\"translate(42.140057 249.836875)scale(0.1 -0.1)\">\n       <defs>\n        <path d=\"M 31.78125 66.40625 \nQ 24.171875 66.40625 20.328125 58.90625 \nQ 16.5 51.421875 16.5 36.375 \nQ 16.5 21.390625 20.328125 13.890625 \nQ 24.171875 6.390625 31.78125 6.390625 \nQ 39.453125 6.390625 43.28125 13.890625 \nQ 47.125 21.390625 47.125 36.375 \nQ 47.125 51.421875 43.28125 58.90625 \nQ 39.453125 66.40625 31.78125 66.40625 \nz\nM 31.78125 74.21875 \nQ 44.046875 74.21875 50.515625 64.515625 \nQ 56.984375 54.828125 56.984375 36.375 \nQ 56.984375 17.96875 50.515625 8.265625 \nQ 44.046875 -1.421875 31.78125 -1.421875 \nQ 19.53125 -1.421875 13.0625 8.265625 \nQ 6.59375 17.96875 6.59375 36.375 \nQ 6.59375 54.828125 13.0625 64.515625 \nQ 19.53125 74.21875 31.78125 74.21875 \nz\n\" id=\"DejaVuSans-48\"/>\n       </defs>\n       <use xlink:href=\"#DejaVuSans-48\"/>\n      </g>\n     </g>\n    </g>\n    <g id=\"xtick_2\">\n     <g id=\"line2d_2\">\n      <g>\n       <use style=\"stroke:#000000;stroke-width:0.8;\" x=\"92.878125\" xlink:href=\"#mfdb18e75de\" y=\"235.238437\"/>\n      </g>\n     </g>\n     <g id=\"text_2\">\n      <!-- 50 -->\n      <g transform=\"translate(86.515625 249.836875)scale(0.1 -0.1)\">\n       <defs>\n        <path d=\"M 10.796875 72.90625 \nL 49.515625 72.90625 \nL 49.515625 64.59375 \nL 19.828125 64.59375 \nL 19.828125 46.734375 \nQ 21.96875 47.46875 24.109375 47.828125 \nQ 26.265625 48.1875 28.421875 48.1875 \nQ 40.625 48.1875 47.75 41.5 \nQ 54.890625 34.8125 54.890625 23.390625 \nQ 54.890625 11.625 47.5625 5.09375 \nQ 40.234375 -1.421875 26.90625 -1.421875 \nQ 22.3125 -1.421875 17.546875 -0.640625 \nQ 12.796875 0.140625 7.71875 1.703125 \nL 7.71875 11.625 \nQ 12.109375 9.234375 16.796875 8.0625 \nQ 21.484375 6.890625 26.703125 6.890625 \nQ 35.15625 6.890625 40.078125 11.328125 \nQ 45.015625 15.765625 45.015625 23.390625 \nQ 45.015625 31 40.078125 35.4375 \nQ 35.15625 39.890625 26.703125 39.890625 \nQ 22.75 39.890625 18.8125 39.015625 \nQ 14.890625 38.140625 10.796875 36.28125 \nz\n\" id=\"DejaVuSans-53\"/>\n       </defs>\n       <use xlink:href=\"#DejaVuSans-53\"/>\n       <use x=\"63.623047\" xlink:href=\"#DejaVuSans-48\"/>\n      </g>\n     </g>\n    </g>\n    <g id=\"xtick_3\">\n     <g id=\"line2d_3\">\n      <g>\n       <use style=\"stroke:#000000;stroke-width:0.8;\" x=\"140.434943\" xlink:href=\"#mfdb18e75de\" y=\"235.238437\"/>\n      </g>\n     </g>\n     <g id=\"text_3\">\n      <!-- 100 -->\n      <g transform=\"translate(130.891193 249.836875)scale(0.1 -0.1)\">\n       <defs>\n        <path d=\"M 12.40625 8.296875 \nL 28.515625 8.296875 \nL 28.515625 63.921875 \nL 10.984375 60.40625 \nL 10.984375 69.390625 \nL 28.421875 72.90625 \nL 38.28125 72.90625 \nL 38.28125 8.296875 \nL 54.390625 8.296875 \nL 54.390625 0 \nL 12.40625 0 \nz\n\" id=\"DejaVuSans-49\"/>\n       </defs>\n       <use xlink:href=\"#DejaVuSans-49\"/>\n       <use x=\"63.623047\" xlink:href=\"#DejaVuSans-48\"/>\n       <use x=\"127.246094\" xlink:href=\"#DejaVuSans-48\"/>\n      </g>\n     </g>\n    </g>\n    <g id=\"xtick_4\">\n     <g id=\"line2d_4\">\n      <g>\n       <use style=\"stroke:#000000;stroke-width:0.8;\" x=\"187.991761\" xlink:href=\"#mfdb18e75de\" y=\"235.238437\"/>\n      </g>\n     </g>\n     <g id=\"text_4\">\n      <!-- 150 -->\n      <g transform=\"translate(178.448011 249.836875)scale(0.1 -0.1)\">\n       <use xlink:href=\"#DejaVuSans-49\"/>\n       <use x=\"63.623047\" xlink:href=\"#DejaVuSans-53\"/>\n       <use x=\"127.246094\" xlink:href=\"#DejaVuSans-48\"/>\n      </g>\n     </g>\n    </g>\n    <g id=\"xtick_5\">\n     <g id=\"line2d_5\">\n      <g>\n       <use style=\"stroke:#000000;stroke-width:0.8;\" x=\"235.54858\" xlink:href=\"#mfdb18e75de\" y=\"235.238437\"/>\n      </g>\n     </g>\n     <g id=\"text_5\">\n      <!-- 200 -->\n      <g transform=\"translate(226.00483 249.836875)scale(0.1 -0.1)\">\n       <defs>\n        <path d=\"M 19.1875 8.296875 \nL 53.609375 8.296875 \nL 53.609375 0 \nL 7.328125 0 \nL 7.328125 8.296875 \nQ 12.9375 14.109375 22.625 23.890625 \nQ 32.328125 33.6875 34.8125 36.53125 \nQ 39.546875 41.84375 41.421875 45.53125 \nQ 43.3125 49.21875 43.3125 52.78125 \nQ 43.3125 58.59375 39.234375 62.25 \nQ 35.15625 65.921875 28.609375 65.921875 \nQ 23.96875 65.921875 18.8125 64.3125 \nQ 13.671875 62.703125 7.8125 59.421875 \nL 7.8125 69.390625 \nQ 13.765625 71.78125 18.9375 73 \nQ 24.125 74.21875 28.421875 74.21875 \nQ 39.75 74.21875 46.484375 68.546875 \nQ 53.21875 62.890625 53.21875 53.421875 \nQ 53.21875 48.921875 51.53125 44.890625 \nQ 49.859375 40.875 45.40625 35.40625 \nQ 44.1875 33.984375 37.640625 27.21875 \nQ 31.109375 20.453125 19.1875 8.296875 \nz\n\" id=\"DejaVuSans-50\"/>\n       </defs>\n       <use xlink:href=\"#DejaVuSans-50\"/>\n       <use x=\"63.623047\" xlink:href=\"#DejaVuSans-48\"/>\n       <use x=\"127.246094\" xlink:href=\"#DejaVuSans-48\"/>\n      </g>\n     </g>\n    </g>\n    <g id=\"xtick_6\">\n     <g id=\"line2d_6\">\n      <g>\n       <use style=\"stroke:#000000;stroke-width:0.8;\" x=\"283.105398\" xlink:href=\"#mfdb18e75de\" y=\"235.238437\"/>\n      </g>\n     </g>\n     <g id=\"text_6\">\n      <!-- 250 -->\n      <g transform=\"translate(273.561648 249.836875)scale(0.1 -0.1)\">\n       <use xlink:href=\"#DejaVuSans-50\"/>\n       <use x=\"63.623047\" xlink:href=\"#DejaVuSans-53\"/>\n       <use x=\"127.246094\" xlink:href=\"#DejaVuSans-48\"/>\n      </g>\n     </g>\n    </g>\n    <g id=\"xtick_7\">\n     <g id=\"line2d_7\">\n      <g>\n       <use style=\"stroke:#000000;stroke-width:0.8;\" x=\"330.662216\" xlink:href=\"#mfdb18e75de\" y=\"235.238437\"/>\n      </g>\n     </g>\n     <g id=\"text_7\">\n      <!-- 300 -->\n      <g transform=\"translate(321.118466 249.836875)scale(0.1 -0.1)\">\n       <defs>\n        <path d=\"M 40.578125 39.3125 \nQ 47.65625 37.796875 51.625 33 \nQ 55.609375 28.21875 55.609375 21.1875 \nQ 55.609375 10.40625 48.1875 4.484375 \nQ 40.765625 -1.421875 27.09375 -1.421875 \nQ 22.515625 -1.421875 17.65625 -0.515625 \nQ 12.796875 0.390625 7.625 2.203125 \nL 7.625 11.71875 \nQ 11.71875 9.328125 16.59375 8.109375 \nQ 21.484375 6.890625 26.8125 6.890625 \nQ 36.078125 6.890625 40.9375 10.546875 \nQ 45.796875 14.203125 45.796875 21.1875 \nQ 45.796875 27.640625 41.28125 31.265625 \nQ 36.765625 34.90625 28.71875 34.90625 \nL 20.21875 34.90625 \nL 20.21875 43.015625 \nL 29.109375 43.015625 \nQ 36.375 43.015625 40.234375 45.921875 \nQ 44.09375 48.828125 44.09375 54.296875 \nQ 44.09375 59.90625 40.109375 62.90625 \nQ 36.140625 65.921875 28.71875 65.921875 \nQ 24.65625 65.921875 20.015625 65.03125 \nQ 15.375 64.15625 9.8125 62.3125 \nL 9.8125 71.09375 \nQ 15.4375 72.65625 20.34375 73.4375 \nQ 25.25 74.21875 29.59375 74.21875 \nQ 40.828125 74.21875 47.359375 69.109375 \nQ 53.90625 64.015625 53.90625 55.328125 \nQ 53.90625 49.265625 50.4375 45.09375 \nQ 46.96875 40.921875 40.578125 39.3125 \nz\n\" id=\"DejaVuSans-51\"/>\n       </defs>\n       <use xlink:href=\"#DejaVuSans-51\"/>\n       <use x=\"63.623047\" xlink:href=\"#DejaVuSans-48\"/>\n       <use x=\"127.246094\" xlink:href=\"#DejaVuSans-48\"/>\n      </g>\n     </g>\n    </g>\n   </g>\n   <g id=\"matplotlib.axis_2\">\n    <g id=\"ytick_1\">\n     <g id=\"line2d_8\">\n      <defs>\n       <path d=\"M 0 0 \nL -3.5 0 \n\" id=\"m2ed608fa54\" style=\"stroke:#000000;stroke-width:0.8;\"/>\n      </defs>\n      <g>\n       <use style=\"stroke:#000000;stroke-width:0.8;\" x=\"30.103125\" xlink:href=\"#m2ed608fa54\" y=\"235.238437\"/>\n      </g>\n     </g>\n     <g id=\"text_8\">\n      <!-- 0.0 -->\n      <g transform=\"translate(7.2 239.037656)scale(0.1 -0.1)\">\n       <defs>\n        <path d=\"M 10.6875 12.40625 \nL 21 12.40625 \nL 21 0 \nL 10.6875 0 \nz\n\" id=\"DejaVuSans-46\"/>\n       </defs>\n       <use xlink:href=\"#DejaVuSans-48\"/>\n       <use x=\"63.623047\" xlink:href=\"#DejaVuSans-46\"/>\n       <use x=\"95.410156\" xlink:href=\"#DejaVuSans-48\"/>\n      </g>\n     </g>\n    </g>\n    <g id=\"ytick_2\">\n     <g id=\"line2d_9\">\n      <g>\n       <use style=\"stroke:#000000;stroke-width:0.8;\" x=\"30.103125\" xlink:href=\"#m2ed608fa54\" y=\"201.451638\"/>\n      </g>\n     </g>\n     <g id=\"text_9\">\n      <!-- 0.2 -->\n      <g transform=\"translate(7.2 205.250857)scale(0.1 -0.1)\">\n       <use xlink:href=\"#DejaVuSans-48\"/>\n       <use x=\"63.623047\" xlink:href=\"#DejaVuSans-46\"/>\n       <use x=\"95.410156\" xlink:href=\"#DejaVuSans-50\"/>\n      </g>\n     </g>\n    </g>\n    <g id=\"ytick_3\">\n     <g id=\"line2d_10\">\n      <g>\n       <use style=\"stroke:#000000;stroke-width:0.8;\" x=\"30.103125\" xlink:href=\"#m2ed608fa54\" y=\"167.664838\"/>\n      </g>\n     </g>\n     <g id=\"text_10\">\n      <!-- 0.4 -->\n      <g transform=\"translate(7.2 171.464057)scale(0.1 -0.1)\">\n       <defs>\n        <path d=\"M 37.796875 64.3125 \nL 12.890625 25.390625 \nL 37.796875 25.390625 \nz\nM 35.203125 72.90625 \nL 47.609375 72.90625 \nL 47.609375 25.390625 \nL 58.015625 25.390625 \nL 58.015625 17.1875 \nL 47.609375 17.1875 \nL 47.609375 0 \nL 37.796875 0 \nL 37.796875 17.1875 \nL 4.890625 17.1875 \nL 4.890625 26.703125 \nz\n\" id=\"DejaVuSans-52\"/>\n       </defs>\n       <use xlink:href=\"#DejaVuSans-48\"/>\n       <use x=\"63.623047\" xlink:href=\"#DejaVuSans-46\"/>\n       <use x=\"95.410156\" xlink:href=\"#DejaVuSans-52\"/>\n      </g>\n     </g>\n    </g>\n    <g id=\"ytick_4\">\n     <g id=\"line2d_11\">\n      <g>\n       <use style=\"stroke:#000000;stroke-width:0.8;\" x=\"30.103125\" xlink:href=\"#m2ed608fa54\" y=\"133.878039\"/>\n      </g>\n     </g>\n     <g id=\"text_11\">\n      <!-- 0.6 -->\n      <g transform=\"translate(7.2 137.677257)scale(0.1 -0.1)\">\n       <defs>\n        <path d=\"M 33.015625 40.375 \nQ 26.375 40.375 22.484375 35.828125 \nQ 18.609375 31.296875 18.609375 23.390625 \nQ 18.609375 15.53125 22.484375 10.953125 \nQ 26.375 6.390625 33.015625 6.390625 \nQ 39.65625 6.390625 43.53125 10.953125 \nQ 47.40625 15.53125 47.40625 23.390625 \nQ 47.40625 31.296875 43.53125 35.828125 \nQ 39.65625 40.375 33.015625 40.375 \nz\nM 52.59375 71.296875 \nL 52.59375 62.3125 \nQ 48.875 64.0625 45.09375 64.984375 \nQ 41.3125 65.921875 37.59375 65.921875 \nQ 27.828125 65.921875 22.671875 59.328125 \nQ 17.53125 52.734375 16.796875 39.40625 \nQ 19.671875 43.65625 24.015625 45.921875 \nQ 28.375 48.1875 33.59375 48.1875 \nQ 44.578125 48.1875 50.953125 41.515625 \nQ 57.328125 34.859375 57.328125 23.390625 \nQ 57.328125 12.15625 50.6875 5.359375 \nQ 44.046875 -1.421875 33.015625 -1.421875 \nQ 20.359375 -1.421875 13.671875 8.265625 \nQ 6.984375 17.96875 6.984375 36.375 \nQ 6.984375 53.65625 15.1875 63.9375 \nQ 23.390625 74.21875 37.203125 74.21875 \nQ 40.921875 74.21875 44.703125 73.484375 \nQ 48.484375 72.75 52.59375 71.296875 \nz\n\" id=\"DejaVuSans-54\"/>\n       </defs>\n       <use xlink:href=\"#DejaVuSans-48\"/>\n       <use x=\"63.623047\" xlink:href=\"#DejaVuSans-46\"/>\n       <use x=\"95.410156\" xlink:href=\"#DejaVuSans-54\"/>\n      </g>\n     </g>\n    </g>\n    <g id=\"ytick_5\">\n     <g id=\"line2d_12\">\n      <g>\n       <use style=\"stroke:#000000;stroke-width:0.8;\" x=\"30.103125\" xlink:href=\"#m2ed608fa54\" y=\"100.091239\"/>\n      </g>\n     </g>\n     <g id=\"text_12\">\n      <!-- 0.8 -->\n      <g transform=\"translate(7.2 103.890458)scale(0.1 -0.1)\">\n       <defs>\n        <path d=\"M 31.78125 34.625 \nQ 24.75 34.625 20.71875 30.859375 \nQ 16.703125 27.09375 16.703125 20.515625 \nQ 16.703125 13.921875 20.71875 10.15625 \nQ 24.75 6.390625 31.78125 6.390625 \nQ 38.8125 6.390625 42.859375 10.171875 \nQ 46.921875 13.96875 46.921875 20.515625 \nQ 46.921875 27.09375 42.890625 30.859375 \nQ 38.875 34.625 31.78125 34.625 \nz\nM 21.921875 38.8125 \nQ 15.578125 40.375 12.03125 44.71875 \nQ 8.5 49.078125 8.5 55.328125 \nQ 8.5 64.0625 14.71875 69.140625 \nQ 20.953125 74.21875 31.78125 74.21875 \nQ 42.671875 74.21875 48.875 69.140625 \nQ 55.078125 64.0625 55.078125 55.328125 \nQ 55.078125 49.078125 51.53125 44.71875 \nQ 48 40.375 41.703125 38.8125 \nQ 48.828125 37.15625 52.796875 32.3125 \nQ 56.78125 27.484375 56.78125 20.515625 \nQ 56.78125 9.90625 50.3125 4.234375 \nQ 43.84375 -1.421875 31.78125 -1.421875 \nQ 19.734375 -1.421875 13.25 4.234375 \nQ 6.78125 9.90625 6.78125 20.515625 \nQ 6.78125 27.484375 10.78125 32.3125 \nQ 14.796875 37.15625 21.921875 38.8125 \nz\nM 18.3125 54.390625 \nQ 18.3125 48.734375 21.84375 45.5625 \nQ 25.390625 42.390625 31.78125 42.390625 \nQ 38.140625 42.390625 41.71875 45.5625 \nQ 45.3125 48.734375 45.3125 54.390625 \nQ 45.3125 60.0625 41.71875 63.234375 \nQ 38.140625 66.40625 31.78125 66.40625 \nQ 25.390625 66.40625 21.84375 63.234375 \nQ 18.3125 60.0625 18.3125 54.390625 \nz\n\" id=\"DejaVuSans-56\"/>\n       </defs>\n       <use xlink:href=\"#DejaVuSans-48\"/>\n       <use x=\"63.623047\" xlink:href=\"#DejaVuSans-46\"/>\n       <use x=\"95.410156\" xlink:href=\"#DejaVuSans-56\"/>\n      </g>\n     </g>\n    </g>\n    <g id=\"ytick_6\">\n     <g id=\"line2d_13\">\n      <g>\n       <use style=\"stroke:#000000;stroke-width:0.8;\" x=\"30.103125\" xlink:href=\"#m2ed608fa54\" y=\"66.304439\"/>\n      </g>\n     </g>\n     <g id=\"text_13\">\n      <!-- 1.0 -->\n      <g transform=\"translate(7.2 70.103658)scale(0.1 -0.1)\">\n       <use xlink:href=\"#DejaVuSans-49\"/>\n       <use x=\"63.623047\" xlink:href=\"#DejaVuSans-46\"/>\n       <use x=\"95.410156\" xlink:href=\"#DejaVuSans-48\"/>\n      </g>\n     </g>\n    </g>\n    <g id=\"ytick_7\">\n     <g id=\"line2d_14\">\n      <g>\n       <use style=\"stroke:#000000;stroke-width:0.8;\" x=\"30.103125\" xlink:href=\"#m2ed608fa54\" y=\"32.51764\"/>\n      </g>\n     </g>\n     <g id=\"text_14\">\n      <!-- 1.2 -->\n      <g transform=\"translate(7.2 36.316859)scale(0.1 -0.1)\">\n       <use xlink:href=\"#DejaVuSans-49\"/>\n       <use x=\"63.623047\" xlink:href=\"#DejaVuSans-46\"/>\n       <use x=\"95.410156\" xlink:href=\"#DejaVuSans-50\"/>\n      </g>\n     </g>\n    </g>\n    <g id=\"text_15\">\n     <!-- 1e6 -->\n     <g transform=\"translate(30.103125 14.798437)scale(0.1 -0.1)\">\n      <defs>\n       <path d=\"M 56.203125 29.59375 \nL 56.203125 25.203125 \nL 14.890625 25.203125 \nQ 15.484375 15.921875 20.484375 11.0625 \nQ 25.484375 6.203125 34.421875 6.203125 \nQ 39.59375 6.203125 44.453125 7.46875 \nQ 49.3125 8.734375 54.109375 11.28125 \nL 54.109375 2.78125 \nQ 49.265625 0.734375 44.1875 -0.34375 \nQ 39.109375 -1.421875 33.890625 -1.421875 \nQ 20.796875 -1.421875 13.15625 6.1875 \nQ 5.515625 13.8125 5.515625 26.8125 \nQ 5.515625 40.234375 12.765625 48.109375 \nQ 20.015625 56 32.328125 56 \nQ 43.359375 56 49.78125 48.890625 \nQ 56.203125 41.796875 56.203125 29.59375 \nz\nM 47.21875 32.234375 \nQ 47.125 39.59375 43.09375 43.984375 \nQ 39.0625 48.390625 32.421875 48.390625 \nQ 24.90625 48.390625 20.390625 44.140625 \nQ 15.875 39.890625 15.1875 32.171875 \nz\n\" id=\"DejaVuSans-101\"/>\n      </defs>\n      <use xlink:href=\"#DejaVuSans-49\"/>\n      <use x=\"63.623047\" xlink:href=\"#DejaVuSans-101\"/>\n      <use x=\"125.146484\" xlink:href=\"#DejaVuSans-54\"/>\n     </g>\n    </g>\n   </g>\n   <g id=\"patch_103\">\n    <path d=\"M 30.103125 235.238437 \nL 30.103125 17.798437 \n\" style=\"fill:none;stroke:#000000;stroke-linecap:square;stroke-linejoin:miter;stroke-width:0.8;\"/>\n   </g>\n   <g id=\"patch_104\">\n    <path d=\"M 364.903125 235.238437 \nL 364.903125 17.798437 \n\" style=\"fill:none;stroke:#000000;stroke-linecap:square;stroke-linejoin:miter;stroke-width:0.8;\"/>\n   </g>\n   <g id=\"patch_105\">\n    <path d=\"M 30.103125 235.238437 \nL 364.903125 235.238437 \n\" style=\"fill:none;stroke:#000000;stroke-linecap:square;stroke-linejoin:miter;stroke-width:0.8;\"/>\n   </g>\n   <g id=\"patch_106\">\n    <path d=\"M 30.103125 17.798437 \nL 364.903125 17.798437 \n\" style=\"fill:none;stroke:#000000;stroke-linecap:square;stroke-linejoin:miter;stroke-width:0.8;\"/>\n   </g>\n  </g>\n </g>\n <defs>\n  <clipPath id=\"p57fa617a38\">\n   <rect height=\"217.44\" width=\"334.8\" x=\"30.103125\" y=\"17.798437\"/>\n  </clipPath>\n </defs>\n</svg>\n",
      "image/png": "[encoded data removed]"
     },
     "metadata": {
      "needs_background": "light"
     }
    }
   ],
   "source": [
    "plt.hist(full_just_nums, bins=100)"
   ]
  },
  {
   "cell_type": "code",
   "execution_count": 92,
   "metadata": {},
   "outputs": [],
   "source": [
    "full_partitions = get_partitions_bounds(full_sorted_sums, full_unique_sums)"
   ]
  },
  {
   "cell_type": "code",
   "execution_count": 117,
   "metadata": {},
   "outputs": [
    {
     "output_type": "stream",
     "name": "stdout",
     "text": [
      "Query for `Will Smith`. Best match: `Will Smith` (distance: `0`, ngram: `Will Smith`) - elapsed time: 0:00:03.135769 - threshold:10\n",
      "Query for `Mill Smith`. Best match: `Mil Smith` (distance: `1`, ngram: `Mill Smith`) - elapsed time: 0:00:02.727190 - threshold:10\n",
      "Query for `Will Smit`. Best match: `Will Smith` (distance: `1`, ngram: `Will Smit`) - elapsed time: 0:00:02.340885 - threshold:10\n",
      "Query for `Will Smi`. Best match: `Will Cai` (distance: `2`, ngram: `Will Smi`) - elapsed time: 0:00:01.681210 - threshold:10\n",
      "Query for `I want to watch a movie with Will Smith`. Best match: `Will Smith` (distance: `0`, ngram: `Will Smith`) - elapsed time: 0:00:48.947160 - threshold:10\n"
     ]
    }
   ],
   "source": [
    "\n",
    "# print(len(full_partitions), len(full_sorted_sums))\n",
    "query_in_sorted_sums(\"Will Smith\", full_sorted_sums, full_partitions, threshold=10)\n",
    "query_in_sorted_sums(\"Mill Smith\", full_sorted_sums, full_partitions, threshold=10)\n",
    "query_in_sorted_sums(\"Will Smit\", full_sorted_sums, full_partitions, threshold=10)\n",
    "query_in_sorted_sums(\"Will Smi\", full_sorted_sums, full_partitions, threshold=10)\n",
    "query_in_sorted_sums(\"I want to watch a movie with Will Smith\", full_sorted_sums, full_partitions, threshold=10)\n"
   ]
  },
  {
   "cell_type": "code",
   "execution_count": null,
   "metadata": {},
   "outputs": [],
   "source": [
    "`"
   ]
  }
 ]
}