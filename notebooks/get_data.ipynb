{
 "metadata": {
  "language_info": {
   "codemirror_mode": {
    "name": "ipython",
    "version": 3
   },
   "file_extension": ".py",
   "mimetype": "text/x-python",
   "name": "python",
   "nbconvert_exporter": "python",
   "pygments_lexer": "ipython3",
   "version": "3.8.3-final"
  },
  "orig_nbformat": 2,
  "kernelspec": {
   "name": "python3",
   "display_name": "Python 3.8.3 64-bit ('super_ner')",
   "metadata": {
    "interpreter": {
     "hash": "3bd3c84877896647590d4d5061fdf1775af46d4148333dbeaedf7fe64fafe574"
    }
   }
  }
 },
 "nbformat": 4,
 "nbformat_minor": 2,
 "cells": [
  {
   "cell_type": "code",
   "execution_count": 1,
   "metadata": {},
   "outputs": [],
   "source": [
    "import os\n",
    "import pandas\n",
    "\n",
    "data_folder = \"../data\"\n",
    "\n",
    "title_basics_fp = os.path.join(data_folder, \"title.basics.tsv.gz\")\n",
    "names_basics_fp = os.path.join(data_folder, \"name.basics.tsv.gz\")\n",
    "\n",
    "# titles = pandas.read_csv(title_basics_fp, sep='\\t')\n",
    "names = pandas.read_csv(names_basics_fp, sep='\\t')"
   ]
  },
  {
   "cell_type": "code",
   "execution_count": null,
   "metadata": {},
   "outputs": [],
   "source": [
    "\n",
    "head_titles = titles[:500]\n",
    "head_titles.columns"
   ]
  },
  {
   "cell_type": "code",
   "execution_count": null,
   "metadata": {},
   "outputs": [],
   "source": [
    "head_titles.primaryTitle"
   ]
  },
  {
   "cell_type": "code",
   "execution_count": null,
   "metadata": {},
   "outputs": [],
   "source": [
    "\n",
    "import json\n",
    "titles_set = set()\n",
    "for title in titles.primaryTitle:\n",
    "    if isinstance(title, str):\n",
    "        titles_set.add(title)\n",
    "\n",
    "print(\"Found {} titles\".format(len(titles_set)))\n",
    "\n",
    "unique_titles_fp = os.path.join(data_folder, \"titles.json\")\n",
    "with open(unique_titles_fp, \"w\") as f_:\n",
    "    json.dump(list(titles_set), f_)\n"
   ]
  },
  {
   "cell_type": "code",
   "execution_count": 2,
   "metadata": {},
   "outputs": [
    {
     "output_type": "execute_result",
     "data": {
      "text/plain": [
       "Index(['nconst', 'primaryName', 'birthYear', 'deathYear', 'primaryProfession',\n",
       "       'knownForTitles'],\n",
       "      dtype='object')"
      ]
     },
     "metadata": {},
     "execution_count": 2
    }
   ],
   "source": [
    "\n",
    "head_names = names[:500]\n",
    "head_names.columns"
   ]
  },
  {
   "cell_type": "code",
   "execution_count": 5,
   "metadata": {},
   "outputs": [
    {
     "output_type": "execute_result",
     "data": {
      "text/plain": [
       "0           Fred Astaire\n",
       "1          Lauren Bacall\n",
       "2        Brigitte Bardot\n",
       "3           John Belushi\n",
       "4         Ingmar Bergman\n",
       "             ...        \n",
       "495       Juliette Lewis\n",
       "496        Jennifer Lien\n",
       "497      Matthew Lillard\n",
       "498             Bai Ling\n",
       "499    Richard Linklater\n",
       "Name: primaryName, Length: 500, dtype: object"
      ]
     },
     "metadata": {},
     "execution_count": 5
    }
   ],
   "source": [
    "head_names.primaryName"
   ]
  },
  {
   "cell_type": "code",
   "execution_count": 6,
   "metadata": {},
   "outputs": [
    {
     "output_type": "stream",
     "name": "stdout",
     "text": [
      "Found 8197423 names\n"
     ]
    }
   ],
   "source": [
    "\n",
    "import json\n",
    "names_set = set()\n",
    "for name in names.primaryName:\n",
    "    if isinstance(name, str):\n",
    "        names_set.add(name)\n",
    "\n",
    "print(\"Found {} names\".format(len(names_set)))\n",
    "\n",
    "unique_names_fp = os.path.join(data_folder, \"names.json\")\n",
    "with open(unique_names_fp, \"w\") as f_:\n",
    "    json.dump(list(names_set), f_)\n"
   ]
  },
  {
   "cell_type": "code",
   "execution_count": null,
   "metadata": {},
   "outputs": [],
   "source": []
  }
 ]
}